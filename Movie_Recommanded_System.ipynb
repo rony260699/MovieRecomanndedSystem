{
  "nbformat": 4,
  "nbformat_minor": 0,
  "metadata": {
    "colab": {
      "provenance": []
    },
    "kernelspec": {
      "name": "python3",
      "display_name": "Python 3"
    },
    "language_info": {
      "name": "python"
    }
  },
  "cells": [
    {
      "cell_type": "code",
      "execution_count": null,
      "metadata": {
        "id": "M_CAedsImEPs"
      },
      "outputs": [],
      "source": [
        "import pandas as pd\n",
        "import numpy as np"
      ]
    },
    {
      "cell_type": "code",
      "source": [
        "movies = pd.read_csv('tmdb_5000_movies.csv')\n",
        "credits = pd.read_csv('tmdb_5000_credits.csv')"
      ],
      "metadata": {
        "id": "LEagyiKcoyGZ"
      },
      "execution_count": null,
      "outputs": []
    },
    {
      "cell_type": "code",
      "source": [
        "movies.info()"
      ],
      "metadata": {
        "colab": {
          "base_uri": "https://localhost:8080/"
        },
        "collapsed": true,
        "id": "CDTdoCgXpSrQ",
        "outputId": "6f4f94df-16dd-4b96-831f-38d4ebdbc47b"
      },
      "execution_count": null,
      "outputs": [
        {
          "output_type": "stream",
          "name": "stdout",
          "text": [
            "<class 'pandas.core.frame.DataFrame'>\n",
            "RangeIndex: 4803 entries, 0 to 4802\n",
            "Data columns (total 20 columns):\n",
            " #   Column                Non-Null Count  Dtype  \n",
            "---  ------                --------------  -----  \n",
            " 0   budget                4803 non-null   int64  \n",
            " 1   genres                4803 non-null   object \n",
            " 2   homepage              1712 non-null   object \n",
            " 3   id                    4803 non-null   int64  \n",
            " 4   keywords              4803 non-null   object \n",
            " 5   original_language     4803 non-null   object \n",
            " 6   original_title        4803 non-null   object \n",
            " 7   overview              4800 non-null   object \n",
            " 8   popularity            4803 non-null   float64\n",
            " 9   production_companies  4803 non-null   object \n",
            " 10  production_countries  4803 non-null   object \n",
            " 11  release_date          4802 non-null   object \n",
            " 12  revenue               4803 non-null   int64  \n",
            " 13  runtime               4801 non-null   float64\n",
            " 14  spoken_languages      4803 non-null   object \n",
            " 15  status                4803 non-null   object \n",
            " 16  tagline               3959 non-null   object \n",
            " 17  title                 4803 non-null   object \n",
            " 18  vote_average          4803 non-null   float64\n",
            " 19  vote_count            4803 non-null   int64  \n",
            "dtypes: float64(3), int64(4), object(13)\n",
            "memory usage: 750.6+ KB\n"
          ]
        }
      ]
    },
    {
      "cell_type": "code",
      "source": [
        "credits.info()"
      ],
      "metadata": {
        "colab": {
          "base_uri": "https://localhost:8080/"
        },
        "collapsed": true,
        "id": "_WVNtkShqyB4",
        "outputId": "2add7666-530a-4232-b021-6f6a3c45f9bc"
      },
      "execution_count": null,
      "outputs": [
        {
          "output_type": "stream",
          "name": "stdout",
          "text": [
            "<class 'pandas.core.frame.DataFrame'>\n",
            "RangeIndex: 4803 entries, 0 to 4802\n",
            "Data columns (total 4 columns):\n",
            " #   Column    Non-Null Count  Dtype \n",
            "---  ------    --------------  ----- \n",
            " 0   movie_id  4803 non-null   int64 \n",
            " 1   title     4803 non-null   object\n",
            " 2   cast      4803 non-null   object\n",
            " 3   crew      4803 non-null   object\n",
            "dtypes: int64(1), object(3)\n",
            "memory usage: 150.2+ KB\n"
          ]
        }
      ]
    },
    {
      "cell_type": "code",
      "source": [
        " credits['cast'].index[0]"
      ],
      "metadata": {
        "colab": {
          "base_uri": "https://localhost:8080/"
        },
        "id": "JG5-F4ES7HMM",
        "outputId": "5d2cae72-5b51-4853-837f-1ffe00a88211"
      },
      "execution_count": null,
      "outputs": [
        {
          "output_type": "execute_result",
          "data": {
            "text/plain": [
              "0"
            ]
          },
          "metadata": {},
          "execution_count": 44
        }
      ]
    },
    {
      "cell_type": "markdown",
      "source": [
        "# **Data Preprocessing**"
      ],
      "metadata": {
        "id": "BK_tWSTU7wiF"
      }
    },
    {
      "cell_type": "code",
      "source": [
        "movies = movies.merge(credits, on='title')"
      ],
      "metadata": {
        "id": "7OIL_IMbq7hA"
      },
      "execution_count": null,
      "outputs": []
    },
    {
      "cell_type": "code",
      "source": [
        "movies.head(2)"
      ],
      "metadata": {
        "colab": {
          "base_uri": "https://localhost:8080/",
          "height": 352
        },
        "collapsed": true,
        "id": "Ya741SIxHFnI",
        "outputId": "6293724a-a7ef-4b18-b9c0-4b1cd0288662"
      },
      "execution_count": null,
      "outputs": [
        {
          "output_type": "execute_result",
          "data": {
            "text/plain": [
              "      budget                                             genres  \\\n",
              "0  237000000  [{\"id\": 28, \"name\": \"Action\"}, {\"id\": 12, \"nam...   \n",
              "1  300000000  [{\"id\": 12, \"name\": \"Adventure\"}, {\"id\": 14, \"...   \n",
              "\n",
              "                                       homepage     id  \\\n",
              "0                   http://www.avatarmovie.com/  19995   \n",
              "1  http://disney.go.com/disneypictures/pirates/    285   \n",
              "\n",
              "                                            keywords original_language  \\\n",
              "0  [{\"id\": 1463, \"name\": \"culture clash\"}, {\"id\":...                en   \n",
              "1  [{\"id\": 270, \"name\": \"ocean\"}, {\"id\": 726, \"na...                en   \n",
              "\n",
              "                             original_title  \\\n",
              "0                                    Avatar   \n",
              "1  Pirates of the Caribbean: At World's End   \n",
              "\n",
              "                                            overview  popularity  \\\n",
              "0  In the 22nd century, a paraplegic Marine is di...  150.437577   \n",
              "1  Captain Barbossa, long believed to be dead, ha...  139.082615   \n",
              "\n",
              "                                production_companies  ... runtime  \\\n",
              "0  [{\"name\": \"Ingenious Film Partners\", \"id\": 289...  ...   162.0   \n",
              "1  [{\"name\": \"Walt Disney Pictures\", \"id\": 2}, {\"...  ...   169.0   \n",
              "\n",
              "                                    spoken_languages    status  \\\n",
              "0  [{\"iso_639_1\": \"en\", \"name\": \"English\"}, {\"iso...  Released   \n",
              "1           [{\"iso_639_1\": \"en\", \"name\": \"English\"}]  Released   \n",
              "\n",
              "                                          tagline  \\\n",
              "0                     Enter the World of Pandora.   \n",
              "1  At the end of the world, the adventure begins.   \n",
              "\n",
              "                                      title vote_average vote_count movie_id  \\\n",
              "0                                    Avatar          7.2      11800    19995   \n",
              "1  Pirates of the Caribbean: At World's End          6.9       4500      285   \n",
              "\n",
              "                                                cast  \\\n",
              "0  [{\"cast_id\": 242, \"character\": \"Jake Sully\", \"...   \n",
              "1  [{\"cast_id\": 4, \"character\": \"Captain Jack Spa...   \n",
              "\n",
              "                                                crew  \n",
              "0  [{\"credit_id\": \"52fe48009251416c750aca23\", \"de...  \n",
              "1  [{\"credit_id\": \"52fe4232c3a36847f800b579\", \"de...  \n",
              "\n",
              "[2 rows x 23 columns]"
            ],
            "text/html": [
              "\n",
              "  <div id=\"df-7812f539-f4d2-44bd-91e1-cbbbb06c21d5\" class=\"colab-df-container\">\n",
              "    <div>\n",
              "<style scoped>\n",
              "    .dataframe tbody tr th:only-of-type {\n",
              "        vertical-align: middle;\n",
              "    }\n",
              "\n",
              "    .dataframe tbody tr th {\n",
              "        vertical-align: top;\n",
              "    }\n",
              "\n",
              "    .dataframe thead th {\n",
              "        text-align: right;\n",
              "    }\n",
              "</style>\n",
              "<table border=\"1\" class=\"dataframe\">\n",
              "  <thead>\n",
              "    <tr style=\"text-align: right;\">\n",
              "      <th></th>\n",
              "      <th>budget</th>\n",
              "      <th>genres</th>\n",
              "      <th>homepage</th>\n",
              "      <th>id</th>\n",
              "      <th>keywords</th>\n",
              "      <th>original_language</th>\n",
              "      <th>original_title</th>\n",
              "      <th>overview</th>\n",
              "      <th>popularity</th>\n",
              "      <th>production_companies</th>\n",
              "      <th>...</th>\n",
              "      <th>runtime</th>\n",
              "      <th>spoken_languages</th>\n",
              "      <th>status</th>\n",
              "      <th>tagline</th>\n",
              "      <th>title</th>\n",
              "      <th>vote_average</th>\n",
              "      <th>vote_count</th>\n",
              "      <th>movie_id</th>\n",
              "      <th>cast</th>\n",
              "      <th>crew</th>\n",
              "    </tr>\n",
              "  </thead>\n",
              "  <tbody>\n",
              "    <tr>\n",
              "      <th>0</th>\n",
              "      <td>237000000</td>\n",
              "      <td>[{\"id\": 28, \"name\": \"Action\"}, {\"id\": 12, \"nam...</td>\n",
              "      <td>http://www.avatarmovie.com/</td>\n",
              "      <td>19995</td>\n",
              "      <td>[{\"id\": 1463, \"name\": \"culture clash\"}, {\"id\":...</td>\n",
              "      <td>en</td>\n",
              "      <td>Avatar</td>\n",
              "      <td>In the 22nd century, a paraplegic Marine is di...</td>\n",
              "      <td>150.437577</td>\n",
              "      <td>[{\"name\": \"Ingenious Film Partners\", \"id\": 289...</td>\n",
              "      <td>...</td>\n",
              "      <td>162.0</td>\n",
              "      <td>[{\"iso_639_1\": \"en\", \"name\": \"English\"}, {\"iso...</td>\n",
              "      <td>Released</td>\n",
              "      <td>Enter the World of Pandora.</td>\n",
              "      <td>Avatar</td>\n",
              "      <td>7.2</td>\n",
              "      <td>11800</td>\n",
              "      <td>19995</td>\n",
              "      <td>[{\"cast_id\": 242, \"character\": \"Jake Sully\", \"...</td>\n",
              "      <td>[{\"credit_id\": \"52fe48009251416c750aca23\", \"de...</td>\n",
              "    </tr>\n",
              "    <tr>\n",
              "      <th>1</th>\n",
              "      <td>300000000</td>\n",
              "      <td>[{\"id\": 12, \"name\": \"Adventure\"}, {\"id\": 14, \"...</td>\n",
              "      <td>http://disney.go.com/disneypictures/pirates/</td>\n",
              "      <td>285</td>\n",
              "      <td>[{\"id\": 270, \"name\": \"ocean\"}, {\"id\": 726, \"na...</td>\n",
              "      <td>en</td>\n",
              "      <td>Pirates of the Caribbean: At World's End</td>\n",
              "      <td>Captain Barbossa, long believed to be dead, ha...</td>\n",
              "      <td>139.082615</td>\n",
              "      <td>[{\"name\": \"Walt Disney Pictures\", \"id\": 2}, {\"...</td>\n",
              "      <td>...</td>\n",
              "      <td>169.0</td>\n",
              "      <td>[{\"iso_639_1\": \"en\", \"name\": \"English\"}]</td>\n",
              "      <td>Released</td>\n",
              "      <td>At the end of the world, the adventure begins.</td>\n",
              "      <td>Pirates of the Caribbean: At World's End</td>\n",
              "      <td>6.9</td>\n",
              "      <td>4500</td>\n",
              "      <td>285</td>\n",
              "      <td>[{\"cast_id\": 4, \"character\": \"Captain Jack Spa...</td>\n",
              "      <td>[{\"credit_id\": \"52fe4232c3a36847f800b579\", \"de...</td>\n",
              "    </tr>\n",
              "  </tbody>\n",
              "</table>\n",
              "<p>2 rows × 23 columns</p>\n",
              "</div>\n",
              "    <div class=\"colab-df-buttons\">\n",
              "\n",
              "  <div class=\"colab-df-container\">\n",
              "    <button class=\"colab-df-convert\" onclick=\"convertToInteractive('df-7812f539-f4d2-44bd-91e1-cbbbb06c21d5')\"\n",
              "            title=\"Convert this dataframe to an interactive table.\"\n",
              "            style=\"display:none;\">\n",
              "\n",
              "  <svg xmlns=\"http://www.w3.org/2000/svg\" height=\"24px\" viewBox=\"0 -960 960 960\">\n",
              "    <path d=\"M120-120v-720h720v720H120Zm60-500h600v-160H180v160Zm220 220h160v-160H400v160Zm0 220h160v-160H400v160ZM180-400h160v-160H180v160Zm440 0h160v-160H620v160ZM180-180h160v-160H180v160Zm440 0h160v-160H620v160Z\"/>\n",
              "  </svg>\n",
              "    </button>\n",
              "\n",
              "  <style>\n",
              "    .colab-df-container {\n",
              "      display:flex;\n",
              "      gap: 12px;\n",
              "    }\n",
              "\n",
              "    .colab-df-convert {\n",
              "      background-color: #E8F0FE;\n",
              "      border: none;\n",
              "      border-radius: 50%;\n",
              "      cursor: pointer;\n",
              "      display: none;\n",
              "      fill: #1967D2;\n",
              "      height: 32px;\n",
              "      padding: 0 0 0 0;\n",
              "      width: 32px;\n",
              "    }\n",
              "\n",
              "    .colab-df-convert:hover {\n",
              "      background-color: #E2EBFA;\n",
              "      box-shadow: 0px 1px 2px rgba(60, 64, 67, 0.3), 0px 1px 3px 1px rgba(60, 64, 67, 0.15);\n",
              "      fill: #174EA6;\n",
              "    }\n",
              "\n",
              "    .colab-df-buttons div {\n",
              "      margin-bottom: 4px;\n",
              "    }\n",
              "\n",
              "    [theme=dark] .colab-df-convert {\n",
              "      background-color: #3B4455;\n",
              "      fill: #D2E3FC;\n",
              "    }\n",
              "\n",
              "    [theme=dark] .colab-df-convert:hover {\n",
              "      background-color: #434B5C;\n",
              "      box-shadow: 0px 1px 3px 1px rgba(0, 0, 0, 0.15);\n",
              "      filter: drop-shadow(0px 1px 2px rgba(0, 0, 0, 0.3));\n",
              "      fill: #FFFFFF;\n",
              "    }\n",
              "  </style>\n",
              "\n",
              "    <script>\n",
              "      const buttonEl =\n",
              "        document.querySelector('#df-7812f539-f4d2-44bd-91e1-cbbbb06c21d5 button.colab-df-convert');\n",
              "      buttonEl.style.display =\n",
              "        google.colab.kernel.accessAllowed ? 'block' : 'none';\n",
              "\n",
              "      async function convertToInteractive(key) {\n",
              "        const element = document.querySelector('#df-7812f539-f4d2-44bd-91e1-cbbbb06c21d5');\n",
              "        const dataTable =\n",
              "          await google.colab.kernel.invokeFunction('convertToInteractive',\n",
              "                                                    [key], {});\n",
              "        if (!dataTable) return;\n",
              "\n",
              "        const docLinkHtml = 'Like what you see? Visit the ' +\n",
              "          '<a target=\"_blank\" href=https://colab.research.google.com/notebooks/data_table.ipynb>data table notebook</a>'\n",
              "          + ' to learn more about interactive tables.';\n",
              "        element.innerHTML = '';\n",
              "        dataTable['output_type'] = 'display_data';\n",
              "        await google.colab.output.renderOutput(dataTable, element);\n",
              "        const docLink = document.createElement('div');\n",
              "        docLink.innerHTML = docLinkHtml;\n",
              "        element.appendChild(docLink);\n",
              "      }\n",
              "    </script>\n",
              "  </div>\n",
              "\n",
              "\n",
              "<div id=\"df-0c58e9a2-faa2-46bb-a87c-7dadc38596a0\">\n",
              "  <button class=\"colab-df-quickchart\" onclick=\"quickchart('df-0c58e9a2-faa2-46bb-a87c-7dadc38596a0')\"\n",
              "            title=\"Suggest charts\"\n",
              "            style=\"display:none;\">\n",
              "\n",
              "<svg xmlns=\"http://www.w3.org/2000/svg\" height=\"24px\"viewBox=\"0 0 24 24\"\n",
              "     width=\"24px\">\n",
              "    <g>\n",
              "        <path d=\"M19 3H5c-1.1 0-2 .9-2 2v14c0 1.1.9 2 2 2h14c1.1 0 2-.9 2-2V5c0-1.1-.9-2-2-2zM9 17H7v-7h2v7zm4 0h-2V7h2v10zm4 0h-2v-4h2v4z\"/>\n",
              "    </g>\n",
              "</svg>\n",
              "  </button>\n",
              "\n",
              "<style>\n",
              "  .colab-df-quickchart {\n",
              "      --bg-color: #E8F0FE;\n",
              "      --fill-color: #1967D2;\n",
              "      --hover-bg-color: #E2EBFA;\n",
              "      --hover-fill-color: #174EA6;\n",
              "      --disabled-fill-color: #AAA;\n",
              "      --disabled-bg-color: #DDD;\n",
              "  }\n",
              "\n",
              "  [theme=dark] .colab-df-quickchart {\n",
              "      --bg-color: #3B4455;\n",
              "      --fill-color: #D2E3FC;\n",
              "      --hover-bg-color: #434B5C;\n",
              "      --hover-fill-color: #FFFFFF;\n",
              "      --disabled-bg-color: #3B4455;\n",
              "      --disabled-fill-color: #666;\n",
              "  }\n",
              "\n",
              "  .colab-df-quickchart {\n",
              "    background-color: var(--bg-color);\n",
              "    border: none;\n",
              "    border-radius: 50%;\n",
              "    cursor: pointer;\n",
              "    display: none;\n",
              "    fill: var(--fill-color);\n",
              "    height: 32px;\n",
              "    padding: 0;\n",
              "    width: 32px;\n",
              "  }\n",
              "\n",
              "  .colab-df-quickchart:hover {\n",
              "    background-color: var(--hover-bg-color);\n",
              "    box-shadow: 0 1px 2px rgba(60, 64, 67, 0.3), 0 1px 3px 1px rgba(60, 64, 67, 0.15);\n",
              "    fill: var(--button-hover-fill-color);\n",
              "  }\n",
              "\n",
              "  .colab-df-quickchart-complete:disabled,\n",
              "  .colab-df-quickchart-complete:disabled:hover {\n",
              "    background-color: var(--disabled-bg-color);\n",
              "    fill: var(--disabled-fill-color);\n",
              "    box-shadow: none;\n",
              "  }\n",
              "\n",
              "  .colab-df-spinner {\n",
              "    border: 2px solid var(--fill-color);\n",
              "    border-color: transparent;\n",
              "    border-bottom-color: var(--fill-color);\n",
              "    animation:\n",
              "      spin 1s steps(1) infinite;\n",
              "  }\n",
              "\n",
              "  @keyframes spin {\n",
              "    0% {\n",
              "      border-color: transparent;\n",
              "      border-bottom-color: var(--fill-color);\n",
              "      border-left-color: var(--fill-color);\n",
              "    }\n",
              "    20% {\n",
              "      border-color: transparent;\n",
              "      border-left-color: var(--fill-color);\n",
              "      border-top-color: var(--fill-color);\n",
              "    }\n",
              "    30% {\n",
              "      border-color: transparent;\n",
              "      border-left-color: var(--fill-color);\n",
              "      border-top-color: var(--fill-color);\n",
              "      border-right-color: var(--fill-color);\n",
              "    }\n",
              "    40% {\n",
              "      border-color: transparent;\n",
              "      border-right-color: var(--fill-color);\n",
              "      border-top-color: var(--fill-color);\n",
              "    }\n",
              "    60% {\n",
              "      border-color: transparent;\n",
              "      border-right-color: var(--fill-color);\n",
              "    }\n",
              "    80% {\n",
              "      border-color: transparent;\n",
              "      border-right-color: var(--fill-color);\n",
              "      border-bottom-color: var(--fill-color);\n",
              "    }\n",
              "    90% {\n",
              "      border-color: transparent;\n",
              "      border-bottom-color: var(--fill-color);\n",
              "    }\n",
              "  }\n",
              "</style>\n",
              "\n",
              "  <script>\n",
              "    async function quickchart(key) {\n",
              "      const quickchartButtonEl =\n",
              "        document.querySelector('#' + key + ' button');\n",
              "      quickchartButtonEl.disabled = true;  // To prevent multiple clicks.\n",
              "      quickchartButtonEl.classList.add('colab-df-spinner');\n",
              "      try {\n",
              "        const charts = await google.colab.kernel.invokeFunction(\n",
              "            'suggestCharts', [key], {});\n",
              "      } catch (error) {\n",
              "        console.error('Error during call to suggestCharts:', error);\n",
              "      }\n",
              "      quickchartButtonEl.classList.remove('colab-df-spinner');\n",
              "      quickchartButtonEl.classList.add('colab-df-quickchart-complete');\n",
              "    }\n",
              "    (() => {\n",
              "      let quickchartButtonEl =\n",
              "        document.querySelector('#df-0c58e9a2-faa2-46bb-a87c-7dadc38596a0 button');\n",
              "      quickchartButtonEl.style.display =\n",
              "        google.colab.kernel.accessAllowed ? 'block' : 'none';\n",
              "    })();\n",
              "  </script>\n",
              "</div>\n",
              "\n",
              "    </div>\n",
              "  </div>\n"
            ],
            "application/vnd.google.colaboratory.intrinsic+json": {
              "type": "dataframe",
              "variable_name": "movies"
            }
          },
          "metadata": {},
          "execution_count": 46
        }
      ]
    },
    {
      "cell_type": "code",
      "source": [
        "movies.info()"
      ],
      "metadata": {
        "colab": {
          "base_uri": "https://localhost:8080/"
        },
        "id": "x9Yubd0TrUGY",
        "outputId": "658eeb6d-efe3-4ef7-d648-b15371d973cf"
      },
      "execution_count": null,
      "outputs": [
        {
          "output_type": "stream",
          "name": "stdout",
          "text": [
            "<class 'pandas.core.frame.DataFrame'>\n",
            "RangeIndex: 4809 entries, 0 to 4808\n",
            "Data columns (total 23 columns):\n",
            " #   Column                Non-Null Count  Dtype  \n",
            "---  ------                --------------  -----  \n",
            " 0   budget                4809 non-null   int64  \n",
            " 1   genres                4809 non-null   object \n",
            " 2   homepage              1713 non-null   object \n",
            " 3   id                    4809 non-null   int64  \n",
            " 4   keywords              4809 non-null   object \n",
            " 5   original_language     4809 non-null   object \n",
            " 6   original_title        4809 non-null   object \n",
            " 7   overview              4806 non-null   object \n",
            " 8   popularity            4809 non-null   float64\n",
            " 9   production_companies  4809 non-null   object \n",
            " 10  production_countries  4809 non-null   object \n",
            " 11  release_date          4808 non-null   object \n",
            " 12  revenue               4809 non-null   int64  \n",
            " 13  runtime               4807 non-null   float64\n",
            " 14  spoken_languages      4809 non-null   object \n",
            " 15  status                4809 non-null   object \n",
            " 16  tagline               3965 non-null   object \n",
            " 17  title                 4809 non-null   object \n",
            " 18  vote_average          4809 non-null   float64\n",
            " 19  vote_count            4809 non-null   int64  \n",
            " 20  movie_id              4809 non-null   int64  \n",
            " 21  cast                  4809 non-null   object \n",
            " 22  crew                  4809 non-null   object \n",
            "dtypes: float64(3), int64(5), object(15)\n",
            "memory usage: 864.2+ KB\n"
          ]
        }
      ]
    },
    {
      "cell_type": "code",
      "source": [
        "movies.shape"
      ],
      "metadata": {
        "colab": {
          "base_uri": "https://localhost:8080/"
        },
        "id": "5CgjZC6qsgTY",
        "outputId": "77b895b5-c808-4a33-a33e-8b792697a643"
      },
      "execution_count": null,
      "outputs": [
        {
          "output_type": "execute_result",
          "data": {
            "text/plain": [
              "(4809, 23)"
            ]
          },
          "metadata": {},
          "execution_count": 48
        }
      ]
    },
    {
      "cell_type": "markdown",
      "source": [
        "i keep few columns from this entire dataset to get the best output. and create a new dataset\n",
        "columns:\n",
        "genres, id, keywords, overview, title, cast, crew"
      ],
      "metadata": {
        "id": "YfegKhNzsv8X"
      }
    },
    {
      "cell_type": "code",
      "source": [
        "movies = movies[['movie_id', 'title', 'genres', 'keywords', 'cast', 'crew' , 'overview']]"
      ],
      "metadata": {
        "id": "-RTUEH1ysnQ3"
      },
      "execution_count": null,
      "outputs": []
    },
    {
      "cell_type": "code",
      "source": [
        "movies.info()"
      ],
      "metadata": {
        "colab": {
          "base_uri": "https://localhost:8080/"
        },
        "id": "vIsS_WXpvVYQ",
        "outputId": "edf155c1-00c1-4629-993f-8839128c5898"
      },
      "execution_count": null,
      "outputs": [
        {
          "output_type": "stream",
          "name": "stdout",
          "text": [
            "<class 'pandas.core.frame.DataFrame'>\n",
            "RangeIndex: 4809 entries, 0 to 4808\n",
            "Data columns (total 7 columns):\n",
            " #   Column    Non-Null Count  Dtype \n",
            "---  ------    --------------  ----- \n",
            " 0   movie_id  4809 non-null   int64 \n",
            " 1   title     4809 non-null   object\n",
            " 2   genres    4809 non-null   object\n",
            " 3   keywords  4809 non-null   object\n",
            " 4   cast      4809 non-null   object\n",
            " 5   crew      4809 non-null   object\n",
            " 6   overview  4806 non-null   object\n",
            "dtypes: int64(1), object(6)\n",
            "memory usage: 263.1+ KB\n"
          ]
        }
      ]
    },
    {
      "cell_type": "markdown",
      "source": [
        "check how many null value is here.\n",
        "there has 3 null value in overview column"
      ],
      "metadata": {
        "id": "H7wUDNNYwE2G"
      }
    },
    {
      "cell_type": "code",
      "source": [
        "movies.head(1)"
      ],
      "metadata": {
        "colab": {
          "base_uri": "https://localhost:8080/",
          "height": 98
        },
        "id": "1IY-Ewd5LFzn",
        "outputId": "abaaaa0e-5f96-461c-9087-d1051a07c6b8"
      },
      "execution_count": null,
      "outputs": [
        {
          "output_type": "execute_result",
          "data": {
            "text/plain": [
              "   movie_id   title                                             genres  \\\n",
              "0     19995  Avatar  [{\"id\": 28, \"name\": \"Action\"}, {\"id\": 12, \"nam...   \n",
              "\n",
              "                                            keywords  \\\n",
              "0  [{\"id\": 1463, \"name\": \"culture clash\"}, {\"id\":...   \n",
              "\n",
              "                                                cast  \\\n",
              "0  [{\"cast_id\": 242, \"character\": \"Jake Sully\", \"...   \n",
              "\n",
              "                                                crew  \\\n",
              "0  [{\"credit_id\": \"52fe48009251416c750aca23\", \"de...   \n",
              "\n",
              "                                            overview  \n",
              "0  In the 22nd century, a paraplegic Marine is di...  "
            ],
            "text/html": [
              "\n",
              "  <div id=\"df-9a485aee-a79a-492b-9245-2d1123ec3ee4\" class=\"colab-df-container\">\n",
              "    <div>\n",
              "<style scoped>\n",
              "    .dataframe tbody tr th:only-of-type {\n",
              "        vertical-align: middle;\n",
              "    }\n",
              "\n",
              "    .dataframe tbody tr th {\n",
              "        vertical-align: top;\n",
              "    }\n",
              "\n",
              "    .dataframe thead th {\n",
              "        text-align: right;\n",
              "    }\n",
              "</style>\n",
              "<table border=\"1\" class=\"dataframe\">\n",
              "  <thead>\n",
              "    <tr style=\"text-align: right;\">\n",
              "      <th></th>\n",
              "      <th>movie_id</th>\n",
              "      <th>title</th>\n",
              "      <th>genres</th>\n",
              "      <th>keywords</th>\n",
              "      <th>cast</th>\n",
              "      <th>crew</th>\n",
              "      <th>overview</th>\n",
              "    </tr>\n",
              "  </thead>\n",
              "  <tbody>\n",
              "    <tr>\n",
              "      <th>0</th>\n",
              "      <td>19995</td>\n",
              "      <td>Avatar</td>\n",
              "      <td>[{\"id\": 28, \"name\": \"Action\"}, {\"id\": 12, \"nam...</td>\n",
              "      <td>[{\"id\": 1463, \"name\": \"culture clash\"}, {\"id\":...</td>\n",
              "      <td>[{\"cast_id\": 242, \"character\": \"Jake Sully\", \"...</td>\n",
              "      <td>[{\"credit_id\": \"52fe48009251416c750aca23\", \"de...</td>\n",
              "      <td>In the 22nd century, a paraplegic Marine is di...</td>\n",
              "    </tr>\n",
              "  </tbody>\n",
              "</table>\n",
              "</div>\n",
              "    <div class=\"colab-df-buttons\">\n",
              "\n",
              "  <div class=\"colab-df-container\">\n",
              "    <button class=\"colab-df-convert\" onclick=\"convertToInteractive('df-9a485aee-a79a-492b-9245-2d1123ec3ee4')\"\n",
              "            title=\"Convert this dataframe to an interactive table.\"\n",
              "            style=\"display:none;\">\n",
              "\n",
              "  <svg xmlns=\"http://www.w3.org/2000/svg\" height=\"24px\" viewBox=\"0 -960 960 960\">\n",
              "    <path d=\"M120-120v-720h720v720H120Zm60-500h600v-160H180v160Zm220 220h160v-160H400v160Zm0 220h160v-160H400v160ZM180-400h160v-160H180v160Zm440 0h160v-160H620v160ZM180-180h160v-160H180v160Zm440 0h160v-160H620v160Z\"/>\n",
              "  </svg>\n",
              "    </button>\n",
              "\n",
              "  <style>\n",
              "    .colab-df-container {\n",
              "      display:flex;\n",
              "      gap: 12px;\n",
              "    }\n",
              "\n",
              "    .colab-df-convert {\n",
              "      background-color: #E8F0FE;\n",
              "      border: none;\n",
              "      border-radius: 50%;\n",
              "      cursor: pointer;\n",
              "      display: none;\n",
              "      fill: #1967D2;\n",
              "      height: 32px;\n",
              "      padding: 0 0 0 0;\n",
              "      width: 32px;\n",
              "    }\n",
              "\n",
              "    .colab-df-convert:hover {\n",
              "      background-color: #E2EBFA;\n",
              "      box-shadow: 0px 1px 2px rgba(60, 64, 67, 0.3), 0px 1px 3px 1px rgba(60, 64, 67, 0.15);\n",
              "      fill: #174EA6;\n",
              "    }\n",
              "\n",
              "    .colab-df-buttons div {\n",
              "      margin-bottom: 4px;\n",
              "    }\n",
              "\n",
              "    [theme=dark] .colab-df-convert {\n",
              "      background-color: #3B4455;\n",
              "      fill: #D2E3FC;\n",
              "    }\n",
              "\n",
              "    [theme=dark] .colab-df-convert:hover {\n",
              "      background-color: #434B5C;\n",
              "      box-shadow: 0px 1px 3px 1px rgba(0, 0, 0, 0.15);\n",
              "      filter: drop-shadow(0px 1px 2px rgba(0, 0, 0, 0.3));\n",
              "      fill: #FFFFFF;\n",
              "    }\n",
              "  </style>\n",
              "\n",
              "    <script>\n",
              "      const buttonEl =\n",
              "        document.querySelector('#df-9a485aee-a79a-492b-9245-2d1123ec3ee4 button.colab-df-convert');\n",
              "      buttonEl.style.display =\n",
              "        google.colab.kernel.accessAllowed ? 'block' : 'none';\n",
              "\n",
              "      async function convertToInteractive(key) {\n",
              "        const element = document.querySelector('#df-9a485aee-a79a-492b-9245-2d1123ec3ee4');\n",
              "        const dataTable =\n",
              "          await google.colab.kernel.invokeFunction('convertToInteractive',\n",
              "                                                    [key], {});\n",
              "        if (!dataTable) return;\n",
              "\n",
              "        const docLinkHtml = 'Like what you see? Visit the ' +\n",
              "          '<a target=\"_blank\" href=https://colab.research.google.com/notebooks/data_table.ipynb>data table notebook</a>'\n",
              "          + ' to learn more about interactive tables.';\n",
              "        element.innerHTML = '';\n",
              "        dataTable['output_type'] = 'display_data';\n",
              "        await google.colab.output.renderOutput(dataTable, element);\n",
              "        const docLink = document.createElement('div');\n",
              "        docLink.innerHTML = docLinkHtml;\n",
              "        element.appendChild(docLink);\n",
              "      }\n",
              "    </script>\n",
              "  </div>\n",
              "\n",
              "\n",
              "    </div>\n",
              "  </div>\n"
            ],
            "application/vnd.google.colaboratory.intrinsic+json": {
              "type": "dataframe",
              "variable_name": "movies",
              "summary": "{\n  \"name\": \"movies\",\n  \"rows\": 4806,\n  \"fields\": [\n    {\n      \"column\": \"movie_id\",\n      \"properties\": {\n        \"dtype\": \"number\",\n        \"std\": 88309,\n        \"min\": 5,\n        \"max\": 447027,\n        \"num_unique_values\": 4800,\n        \"samples\": [\n          8427,\n          9555,\n          10029\n        ],\n        \"semantic_type\": \"\",\n        \"description\": \"\"\n      }\n    },\n    {\n      \"column\": \"title\",\n      \"properties\": {\n        \"dtype\": \"string\",\n        \"num_unique_values\": 4797,\n        \"samples\": [\n          \"Two Brothers\",\n          \"From Paris with Love\",\n          \"Walk the Line\"\n        ],\n        \"semantic_type\": \"\",\n        \"description\": \"\"\n      }\n    },\n    {\n      \"column\": \"genres\",\n      \"properties\": {\n        \"dtype\": \"category\",\n        \"num_unique_values\": 1175,\n        \"samples\": [\n          \"[{\\\"id\\\": 14, \\\"name\\\": \\\"Fantasy\\\"}, {\\\"id\\\": 12, \\\"name\\\": \\\"Adventure\\\"}, {\\\"id\\\": 16, \\\"name\\\": \\\"Animation\\\"}]\",\n          \"[{\\\"id\\\": 28, \\\"name\\\": \\\"Action\\\"}, {\\\"id\\\": 35, \\\"name\\\": \\\"Comedy\\\"}, {\\\"id\\\": 80, \\\"name\\\": \\\"Crime\\\"}, {\\\"id\\\": 18, \\\"name\\\": \\\"Drama\\\"}]\",\n          \"[{\\\"id\\\": 12, \\\"name\\\": \\\"Adventure\\\"}, {\\\"id\\\": 16, \\\"name\\\": \\\"Animation\\\"}, {\\\"id\\\": 10751, \\\"name\\\": \\\"Family\\\"}, {\\\"id\\\": 14, \\\"name\\\": \\\"Fantasy\\\"}, {\\\"id\\\": 878, \\\"name\\\": \\\"Science Fiction\\\"}]\"\n        ],\n        \"semantic_type\": \"\",\n        \"description\": \"\"\n      }\n    },\n    {\n      \"column\": \"keywords\",\n      \"properties\": {\n        \"dtype\": \"string\",\n        \"num_unique_values\": 4220,\n        \"samples\": [\n          \"[{\\\"id\\\": 293, \\\"name\\\": \\\"female nudity\\\"}, {\\\"id\\\": 2483, \\\"name\\\": \\\"nudity\\\"}, {\\\"id\\\": 2546, \\\"name\\\": \\\"mask\\\"}, {\\\"id\\\": 2604, \\\"name\\\": \\\"babysitter\\\"}, {\\\"id\\\": 3335, \\\"name\\\": \\\"halloween\\\"}, {\\\"id\\\": 6149, \\\"name\\\": \\\"police\\\"}, {\\\"id\\\": 10024, \\\"name\\\": \\\"psychopathic killer\\\"}, {\\\"id\\\": 10183, \\\"name\\\": \\\"independent film\\\"}, {\\\"id\\\": 10333, \\\"name\\\": \\\"stalking\\\"}, {\\\"id\\\": 10714, \\\"name\\\": \\\"serial killer\\\"}, {\\\"id\\\": 10776, \\\"name\\\": \\\"marijuana\\\"}, {\\\"id\\\": 11040, \\\"name\\\": \\\"masked killer\\\"}, {\\\"id\\\": 11221, \\\"name\\\": \\\"blood\\\"}, {\\\"id\\\": 11488, \\\"name\\\": \\\"pot smoking\\\"}, {\\\"id\\\": 12339, \\\"name\\\": \\\"slasher\\\"}, {\\\"id\\\": 13112, \\\"name\\\": \\\"murderer\\\"}, {\\\"id\\\": 14698, \\\"name\\\": \\\"throat slitting\\\"}, {\\\"id\\\": 14805, \\\"name\\\": \\\"maniac\\\"}, {\\\"id\\\": 14819, \\\"name\\\": \\\"violence\\\"}, {\\\"id\\\": 17987, \\\"name\\\": \\\"killing spree\\\"}, {\\\"id\\\": 18035, \\\"name\\\": \\\"family\\\"}, {\\\"id\\\": 34117, \\\"name\\\": \\\"cult film\\\"}, {\\\"id\\\": 156075, \\\"name\\\": \\\"evil\\\"}, {\\\"id\\\": 157701, \\\"name\\\": \\\"psychotic\\\"}, {\\\"id\\\": 174424, \\\"name\\\": \\\"smoking pot\\\"}, {\\\"id\\\": 198914, \\\"name\\\": \\\"institution\\\"}, {\\\"id\\\": 207159, \\\"name\\\": \\\"escaped killer\\\"}]\",\n          \"[{\\\"id\\\": 3036, \\\"name\\\": \\\"bible\\\"}, {\\\"id\\\": 9649, \\\"name\\\": \\\"god\\\"}, {\\\"id\\\": 195790, \\\"name\\\": \\\"noah\\\"}, {\\\"id\\\": 209714, \\\"name\\\": \\\"3d\\\"}]\",\n          \"[{\\\"id\\\": 2246, \\\"name\\\": \\\"confidence\\\"}, {\\\"id\\\": 2754, \\\"name\\\": \\\"trauma\\\"}, {\\\"id\\\": 2982, \\\"name\\\": \\\"leaving one's family\\\"}, {\\\"id\\\": 3321, \\\"name\\\": \\\"childhood memory\\\"}, {\\\"id\\\": 3800, \\\"name\\\": \\\"airplane\\\"}, {\\\"id\\\": 5597, \\\"name\\\": \\\"war on terror\\\"}, {\\\"id\\\": 6027, \\\"name\\\": \\\"music\\\"}, {\\\"id\\\": 6381, \\\"name\\\": \\\"loss of daughter\\\"}, {\\\"id\\\": 6511, \\\"name\\\": \\\"alone\\\"}, {\\\"id\\\": 13001, \\\"name\\\": \\\"cowardliness\\\"}, {\\\"id\\\": 18035, \\\"name\\\": \\\"family\\\"}]\"\n        ],\n        \"semantic_type\": \"\",\n        \"description\": \"\"\n      }\n    },\n    {\n      \"column\": \"cast\",\n      \"properties\": {\n        \"dtype\": \"string\",\n        \"num_unique_values\": 4759,\n        \"samples\": [\n          \"[{\\\"cast_id\\\": 1, \\\"character\\\": \\\"Mac Radner\\\", \\\"credit_id\\\": \\\"52fe4d169251416c9110a20b\\\", \\\"gender\\\": 2, \\\"id\\\": 19274, \\\"name\\\": \\\"Seth Rogen\\\", \\\"order\\\": 0}, {\\\"cast_id\\\": 3, \\\"character\\\": \\\"Teddy Sanders\\\", \\\"credit_id\\\": \\\"52fe4d169251416c9110a213\\\", \\\"gender\\\": 2, \\\"id\\\": 29222, \\\"name\\\": \\\"Zac Efron\\\", \\\"order\\\": 1}, {\\\"cast_id\\\": 2, \\\"character\\\": \\\"Kelly Radner\\\", \\\"credit_id\\\": \\\"52fe4d169251416c9110a20f\\\", \\\"gender\\\": 1, \\\"id\\\": 9827, \\\"name\\\": \\\"Rose Byrne\\\", \\\"order\\\": 2}, {\\\"cast_id\\\": 4, \\\"character\\\": \\\"Pete Regazolli\\\", \\\"credit_id\\\": \\\"52fe4d169251416c9110a217\\\", \\\"gender\\\": 2, \\\"id\\\": 54697, \\\"name\\\": \\\"Dave Franco\\\", \\\"order\\\": 3}, {\\\"cast_id\\\": 14, \\\"character\\\": \\\"Jimmy Blevins\\\", \\\"credit_id\\\": \\\"52fe4d169251416c9110a245\\\", \\\"gender\\\": 2, \\\"id\\\": 198150, \\\"name\\\": \\\"Ike Barinholtz\\\", \\\"order\\\": 4}, {\\\"cast_id\\\": 5, \\\"character\\\": \\\"Scoonie Schofield\\\", \\\"credit_id\\\": \\\"52fe4d169251416c9110a21b\\\", \\\"gender\\\": 2, \\\"id\\\": 54691, \\\"name\\\": \\\"Christopher Mintz-Plasse\\\", \\\"order\\\": 5}, {\\\"cast_id\\\": 11, \\\"character\\\": \\\"Paula Faldt\\\", \\\"credit_id\\\": \\\"52fe4d169251416c9110a239\\\", \\\"gender\\\": 1, \\\"id\\\": 54708, \\\"name\\\": \\\"Carla Gallo\\\", \\\"order\\\": 6}, {\\\"cast_id\\\": 20, \\\"character\\\": \\\"Brooke Shy\\\", \\\"credit_id\\\": \\\"5326a290c3a3683dbf003e48\\\", \\\"gender\\\": 1, \\\"id\\\": 934243, \\\"name\\\": \\\"Halston Sage\\\", \\\"order\\\": 7}, {\\\"cast_id\\\": 15, \\\"character\\\": \\\"Assjuice\\\", \\\"credit_id\\\": \\\"52fe4d169251416c9110a249\\\", \\\"gender\\\": 2, \\\"id\\\": 104561, \\\"name\\\": \\\"Craig Roberts\\\", \\\"order\\\": 8}, {\\\"cast_id\\\": 21, \\\"character\\\": \\\"Officer Watkins\\\", \\\"credit_id\\\": \\\"5326a2b3c3a3682378003f42\\\", \\\"gender\\\": 0, \\\"id\\\": 500427, \\\"name\\\": \\\"Hannibal Buress\\\", \\\"order\\\": 9}, {\\\"cast_id\\\": 9, \\\"character\\\": \\\"Carol Gladstone\\\", \\\"credit_id\\\": \\\"52fe4d169251416c9110a231\\\", \\\"gender\\\": 1, \\\"id\\\": 14406, \\\"name\\\": \\\"Lisa Kudrow\\\", \\\"order\\\": 10}, {\\\"cast_id\\\": 16, \\\"character\\\": \\\"Dr. Theodorakis\\\", \\\"credit_id\\\": \\\"52fe4d169251416c9110a24d\\\", \\\"gender\\\": 0, \\\"id\\\": 111683, \\\"name\\\": \\\"Jason Mantzoukas\\\", \\\"order\\\": 11}, {\\\"cast_id\\\": 42, \\\"character\\\": \\\"Garf\\\", \\\"credit_id\\\": \\\"54cf6fef92514147570082cf\\\", \\\"gender\\\": 2, \\\"id\\\": 1400880, \\\"name\\\": \\\"Jerrod Carmichael\\\", \\\"order\\\": 12}, {\\\"cast_id\\\": 40, \\\"character\\\": \\\"Whitney\\\", \\\"credit_id\\\": \\\"53fd31e7c3a3684c8c0004da\\\", \\\"gender\\\": 1, \\\"id\\\": 496731, \\\"name\\\": \\\"Ali Cobrin\\\", \\\"order\\\": 13}, {\\\"cast_id\\\": 65, \\\"character\\\": \\\"Stella Radner\\\", \\\"credit_id\\\": \\\"56ca131e92514102ad003abd\\\", \\\"gender\\\": 1, \\\"id\\\": 1581096, \\\"name\\\": \\\"Elise Vargas\\\", \\\"order\\\": 14}, {\\\"cast_id\\\": 66, \\\"character\\\": \\\"Stella Radner\\\", \\\"credit_id\\\": \\\"56ca133c92514123f8001a49\\\", \\\"gender\\\": 1, \\\"id\\\": 1581097, \\\"name\\\": \\\"Zoey Vargas\\\", \\\"order\\\": 15}, {\\\"cast_id\\\": 67, \\\"character\\\": \\\"Bill Wazowkowski\\\", \\\"credit_id\\\": \\\"56ca13d692514130a9001a7d\\\", \\\"gender\\\": 2, \\\"id\\\": 54728, \\\"name\\\": \\\"Brian Huskey\\\", \\\"order\\\": 16}, {\\\"cast_id\\\": 68, \\\"character\\\": \\\"Brittany\\\", \\\"credit_id\\\": \\\"56ca1476925141172f0085da\\\", \\\"gender\\\": 1, \\\"id\\\": 1498472, \\\"name\\\": \\\"Kira Sternbach\\\", \\\"order\\\": 17}, {\\\"cast_id\\\": 80, \\\"character\\\": \\\"Rep\\\", \\\"credit_id\\\": \\\"56ca1968c3a368408c009718\\\", \\\"gender\\\": 2, \\\"id\\\": 79082, \\\"name\\\": \\\"Randall Park\\\", \\\"order\\\": 18}, {\\\"cast_id\\\": 10, \\\"character\\\": \\\"Sebastian Cremmington\\\", \\\"credit_id\\\": \\\"52fe4d169251416c9110a235\\\", \\\"gender\\\": 2, \\\"id\\\": 543505, \\\"name\\\": \\\"Jake Johnson\\\", \\\"order\\\": 19}, {\\\"cast_id\\\": 71, \\\"character\\\": \\\"Thumbsucker\\\", \\\"credit_id\\\": \\\"56ca15de92514123b8001c84\\\", \\\"gender\\\": 2, \\\"id\\\": 1581100, \\\"name\\\": \\\"Steven Michael Eich\\\", \\\"order\\\": 20}, {\\\"cast_id\\\": 69, \\\"character\\\": \\\"Rival Frat Guy #1\\\", \\\"credit_id\\\": \\\"56ca14ee92514123f8001ab5\\\", \\\"gender\\\": 2, \\\"id\\\": 1037154, \\\"name\\\": \\\"Fahim Anwar\\\", \\\"order\\\": 21}, {\\\"cast_id\\\": 70, \\\"character\\\": \\\"Rival Frat Guy #2\\\", \\\"credit_id\\\": \\\"56ca15029251411ea80089e2\\\", \\\"gender\\\": 2, \\\"id\\\": 1581098, \\\"name\\\": \\\"Ori Kalmus\\\", \\\"order\\\": 22}, {\\\"cast_id\\\": 44, \\\"character\\\": \\\"Toga #1\\\", \\\"credit_id\\\": \\\"55b08b8cc3a3682d6300ade0\\\", \\\"gender\\\": 2, \\\"id\\\": 62861, \\\"name\\\": \\\"Andy Samberg\\\", \\\"order\\\": 23}, {\\\"cast_id\\\": 72, \\\"character\\\": \\\"Toga #2\\\", \\\"credit_id\\\": \\\"56ca15ffc3a3684095008dca\\\", \\\"gender\\\": 2, \\\"id\\\": 62854, \\\"name\\\": \\\"Akiva Schaffer\\\", \\\"order\\\": 24}, {\\\"cast_id\\\": 73, \\\"character\\\": \\\"Toga #3\\\", \\\"credit_id\\\": \\\"56ca161292514102ad003b8f\\\", \\\"gender\\\": 2, \\\"id\\\": 62863, \\\"name\\\": \\\"Jorma Taccone\\\", \\\"order\\\": 25}, {\\\"cast_id\\\": 74, \\\"character\\\": \\\"Beer Pong Guy #1\\\", \\\"credit_id\\\": \\\"56ca1667c3a3684097009945\\\", \\\"gender\\\": 2, \\\"id\\\": 212604, \\\"name\\\": \\\"Adam Devine\\\", \\\"order\\\": 26}, {\\\"cast_id\\\": 75, \\\"character\\\": \\\"Beer Pong Guy #2\\\", \\\"credit_id\\\": \\\"56ca168092514123b8001cbc\\\", \\\"gender\\\": 0, \\\"id\\\": 521564, \\\"name\\\": \\\"Blake Anderson\\\", \\\"order\\\": 27}, {\\\"cast_id\\\": 76, \\\"character\\\": \\\"Beer Pong Guy #3\\\", \\\"credit_id\\\": \\\"56ca1695c3a3684095008df6\\\", \\\"gender\\\": 2, \\\"id\\\": 521563, \\\"name\\\": \\\"Anders Holm\\\", \\\"order\\\": 28}, {\\\"cast_id\\\": 83, \\\"character\\\": \\\"Wendy the Realtor\\\", \\\"credit_id\\\": \\\"57d2e8ecc3a36842910013bd\\\", \\\"gender\\\": 1, \\\"id\\\": 448309, \\\"name\\\": \\\"Liz Cackowski\\\", \\\"order\\\": 29}, {\\\"cast_id\\\": 77, \\\"character\\\": \\\"Beer Pong Guy #4\\\", \\\"credit_id\\\": \\\"56ca16ad925141172f008677\\\", \\\"gender\\\": 0, \\\"id\\\": 1254001, \\\"name\\\": \\\"Kyle Newacheck\\\", \\\"order\\\": 30}, {\\\"cast_id\\\": 79, \\\"character\\\": \\\"The Babysitter\\\", \\\"credit_id\\\": \\\"56ca18f692514123b8001d81\\\", \\\"gender\\\": 2, \\\"id\\\": 168872, \\\"name\\\": \\\"Jesse Heiman\\\", \\\"order\\\": 31}, {\\\"cast_id\\\": 18, \\\"character\\\": \\\"Sorority Girl\\\", \\\"credit_id\\\": \\\"52fe4d169251416c9110a255\\\", \\\"gender\\\": 0, \\\"id\\\": 1203537, \\\"name\\\": \\\"Cassandra Starr\\\", \\\"order\\\": 32}, {\\\"cast_id\\\": 41, \\\"character\\\": \\\"Prostitute\\\", \\\"credit_id\\\": \\\"542719230e0a2655660005f7\\\", \\\"gender\\\": 1, \\\"id\\\": 1214835, \\\"name\\\": \\\"Natasha Leggero\\\", \\\"order\\\": 33}, {\\\"cast_id\\\": 43, \\\"character\\\": \\\"Prostitute (uncredited)\\\", \\\"credit_id\\\": \\\"55143ac392514103e9003032\\\", \\\"gender\\\": 1, \\\"id\\\": 142402, \\\"name\\\": \\\"Maria Olsen\\\", \\\"order\\\": 34}, {\\\"cast_id\\\": 63, \\\"character\\\": \\\"JJ (uncredited)\\\", \\\"credit_id\\\": \\\"56c795ba925141723c000251\\\", \\\"gender\\\": 2, \\\"id\\\": 1398257, \\\"name\\\": \\\"Stephen Todt\\\", \\\"order\\\": 35}, {\\\"cast_id\\\": 78, \\\"character\\\": \\\"Birthday Party Jumper (uncredited)\\\", \\\"credit_id\\\": \\\"56ca1882c3a3684089008d24\\\", \\\"gender\\\": 2, \\\"id\\\": 1413876, \\\"name\\\": \\\"Michael Angeloe\\\", \\\"order\\\": 36}, {\\\"cast_id\\\": 64, \\\"character\\\": \\\"Homeless Man (uncredited)\\\", \\\"credit_id\\\": \\\"56c8bdd1925141172f003b39\\\", \\\"gender\\\": 2, \\\"id\\\": 1580574, \\\"name\\\": \\\"Gary Sievers\\\", \\\"order\\\": 37}, {\\\"cast_id\\\": 81, \\\"character\\\": \\\"Gay Couple (uncredited)\\\", \\\"credit_id\\\": \\\"56ca1af3c3a3684087008fa8\\\", \\\"gender\\\": 2, \\\"id\\\": 1581102, \\\"name\\\": \\\"Casey Ford Alexander\\\", \\\"order\\\": 38}, {\\\"cast_id\\\": 85, \\\"character\\\": \\\"Alecia (uncredited)\\\", \\\"credit_id\\\": \\\"57d2e9bb9251410d1b001237\\\", \\\"gender\\\": 1, \\\"id\\\": 1158832, \\\"name\\\": \\\"Chasty Ballesteros\\\", \\\"order\\\": 39}, {\\\"cast_id\\\": 84, \\\"character\\\": \\\"Sorority Girl (uncredited)\\\", \\\"credit_id\\\": \\\"57d2e9a9c3a368427800121a\\\", \\\"gender\\\": 1, \\\"id\\\": 1676856, \\\"name\\\": \\\"Melanie Avalon\\\", \\\"order\\\": 40}, {\\\"cast_id\\\": 86, \\\"character\\\": \\\"Sorority Girl (uncredited)\\\", \\\"credit_id\\\": \\\"57d2ea1d9251410d190012d9\\\", \\\"gender\\\": 1, \\\"id\\\": 1379512, \\\"name\\\": \\\"Marianne Bourg\\\", \\\"order\\\": 41}, {\\\"cast_id\\\": 87, \\\"character\\\": \\\"Sorority Girl (uncredited)\\\", \\\"credit_id\\\": \\\"57d2ea8ec3a36842910014ce\\\", \\\"gender\\\": 1, \\\"id\\\": 1676864, \\\"name\\\": \\\"Erika Del Toro\\\", \\\"order\\\": 42}, {\\\"cast_id\\\": 88, \\\"character\\\": \\\"Sorority Girl (uncredited)\\\", \\\"credit_id\\\": \\\"57d2ea9fc3a36842810015af\\\", \\\"gender\\\": 1, \\\"id\\\": 1676865, \\\"name\\\": \\\"Alanna Dergan\\\", \\\"order\\\": 43}, {\\\"cast_id\\\": 89, \\\"character\\\": \\\"Sorority Girl (uncredited)\\\", \\\"credit_id\\\": \\\"57d2eb74c3a36842850015e3\\\", \\\"gender\\\": 1, \\\"id\\\": 1351205, \\\"name\\\": \\\"Elsi Eng\\\", \\\"order\\\": 44}, {\\\"cast_id\\\": 90, \\\"character\\\": \\\"Sorority Girl (uncredited)\\\", \\\"credit_id\\\": \\\"57d2eb859251410d1b00130b\\\", \\\"gender\\\": 1, \\\"id\\\": 1676867, \\\"name\\\": \\\"Ayesha Fraser\\\", \\\"order\\\": 45}, {\\\"cast_id\\\": 91, \\\"character\\\": \\\"Sorority Girl (uncredited)\\\", \\\"credit_id\\\": \\\"57d2ecb19251410d1e0014ba\\\", \\\"gender\\\": 1, \\\"id\\\": 1634314, \\\"name\\\": \\\"Courtney Hart\\\", \\\"order\\\": 46}, {\\\"cast_id\\\": 92, \\\"character\\\": \\\"Sorority Girl (uncredited)\\\", \\\"credit_id\\\": \\\"57d2ecefc3a3684278001365\\\", \\\"gender\\\": 1, \\\"id\\\": 1198989, \\\"name\\\": \\\"Danika Galindo\\\", \\\"order\\\": 47}, {\\\"cast_id\\\": 93, \\\"character\\\": \\\"Sorority Girl (uncredited)\\\", \\\"credit_id\\\": \\\"57d2ed9fc3a36842850016eb\\\", \\\"gender\\\": 0, \\\"id\\\": 1203537, \\\"name\\\": \\\"Cassandra Starr\\\", \\\"order\\\": 48}, {\\\"cast_id\\\": 94, \\\"character\\\": \\\"Sorority Girl (uncredited)\\\", \\\"credit_id\\\": \\\"57d2edaf9251410d1e001529\\\", \\\"gender\\\": 1, \\\"id\\\": 1676871, \\\"name\\\": \\\"Valeria Sweet\\\", \\\"order\\\": 49}, {\\\"cast_id\\\": 95, \\\"character\\\": \\\"Sorority Girl (uncredited)\\\", \\\"credit_id\\\": \\\"596c870c9251416c38009cf6\\\", \\\"gender\\\": 1, \\\"id\\\": 592342, \\\"name\\\": \\\"Bridgetta Tomarchio\\\", \\\"order\\\": 50}]\",\n          \"[{\\\"cast_id\\\": 3, \\\"character\\\": \\\"Richard O'Connell\\\", \\\"credit_id\\\": \\\"52fe4312c3a36847f8038407\\\", \\\"gender\\\": 2, \\\"id\\\": 18269, \\\"name\\\": \\\"Brendan Fraser\\\", \\\"order\\\": 0}, {\\\"cast_id\\\": 4, \\\"character\\\": \\\"Evelyn Carnahan O'Connell/Princess Nefertiri\\\", \\\"credit_id\\\": \\\"52fe4312c3a36847f803840b\\\", \\\"gender\\\": 1, \\\"id\\\": 3293, \\\"name\\\": \\\"Rachel Weisz\\\", \\\"order\\\": 1}, {\\\"cast_id\\\": 5, \\\"character\\\": \\\"Jonathan Carnahan\\\", \\\"credit_id\\\": \\\"52fe4312c3a36847f803840f\\\", \\\"gender\\\": 2, \\\"id\\\": 10727, \\\"name\\\": \\\"John Hannah\\\", \\\"order\\\": 2}, {\\\"cast_id\\\": 6, \\\"character\\\": \\\"High Priest Imhotep\\\", \\\"credit_id\\\": \\\"52fe4312c3a36847f8038413\\\", \\\"gender\\\": 2, \\\"id\\\": 16743, \\\"name\\\": \\\"Arnold Vosloo\\\", \\\"order\\\": 3}, {\\\"cast_id\\\": 7, \\\"character\\\": \\\"Ardeth Bay\\\", \\\"credit_id\\\": \\\"52fe4312c3a36847f8038417\\\", \\\"gender\\\": 2, \\\"id\\\": 18041, \\\"name\\\": \\\"Oded Fehr\\\", \\\"order\\\": 4}, {\\\"cast_id\\\": 8, \\\"character\\\": \\\"Mathayus the Scorpion King\\\", \\\"credit_id\\\": \\\"52fe4312c3a36847f803841b\\\", \\\"gender\\\": 2, \\\"id\\\": 18918, \\\"name\\\": \\\"Dwayne Johnson\\\", \\\"order\\\": 5}, {\\\"cast_id\\\": 9, \\\"character\\\": \\\"Alexander O'Connell\\\", \\\"credit_id\\\": \\\"52fe4312c3a36847f803841f\\\", \\\"gender\\\": 2, \\\"id\\\": 18919, \\\"name\\\": \\\"Freddie Boath\\\", \\\"order\\\": 6}, {\\\"cast_id\\\": 10, \\\"character\\\": \\\"Meela Nais/Anck Su Namun\\\", \\\"credit_id\\\": \\\"52fe4312c3a36847f8038423\\\", \\\"gender\\\": 1, \\\"id\\\": 18920, \\\"name\\\": \\\"Patricia Vel\\\\u00e1squez\\\", \\\"order\\\": 7}, {\\\"cast_id\\\": 17, \\\"character\\\": \\\"Baltus Hafez\\\", \\\"credit_id\\\": \\\"52fe4312c3a36847f803844b\\\", \\\"gender\\\": 2, \\\"id\\\": 2629, \\\"name\\\": \\\"Alun Armstrong\\\", \\\"order\\\": 8}, {\\\"cast_id\\\": 18, \\\"character\\\": \\\"Lock-Nah\\\", \\\"credit_id\\\": \\\"52fe4312c3a36847f803844f\\\", \\\"gender\\\": 2, \\\"id\\\": 31164, \\\"name\\\": \\\"Adewale Akinnuoye-Agbaje\\\", \\\"order\\\": 9}, {\\\"cast_id\\\": 19, \\\"character\\\": \\\"Izzy Buttons\\\", \\\"credit_id\\\": \\\"52fe4312c3a36847f8038453\\\", \\\"gender\\\": 2, \\\"id\\\": 30316, \\\"name\\\": \\\"Shaun Parkes\\\", \\\"order\\\": 10}, {\\\"cast_id\\\": 20, \\\"character\\\": \\\"Red\\\", \\\"credit_id\\\": \\\"52fe4312c3a36847f8038457\\\", \\\"gender\\\": 0, \\\"id\\\": 25675, \\\"name\\\": \\\"Bruce Byron\\\", \\\"order\\\": 11}, {\\\"cast_id\\\": 21, \\\"character\\\": \\\"Jacques\\\", \\\"credit_id\\\": \\\"52fe4312c3a36847f803845b\\\", \\\"gender\\\": 0, \\\"id\\\": 1010264, \\\"name\\\": \\\"Joe Dixon\\\", \\\"order\\\": 12}, {\\\"cast_id\\\": 22, \\\"character\\\": \\\"Spivey\\\", \\\"credit_id\\\": \\\"52fe4312c3a36847f803845f\\\", \\\"gender\\\": 2, \\\"id\\\": 208211, \\\"name\\\": \\\"Thomas Fisher\\\", \\\"order\\\": 13}, {\\\"cast_id\\\": 23, \\\"character\\\": \\\"Pharaoh Seti I\\\", \\\"credit_id\\\": \\\"52fe4312c3a36847f8038463\\\", \\\"gender\\\": 2, \\\"id\\\": 25808, \\\"name\\\": \\\"Aharon Ipal\\\\u00e9\\\", \\\"order\\\": 14}, {\\\"cast_id\\\": 24, \\\"character\\\": \\\"Shafek\\\", \\\"credit_id\\\": \\\"52fe4312c3a36847f8038467\\\", \\\"gender\\\": 0, \\\"id\\\": 178631, \\\"name\\\": \\\"Quill Roberts\\\", \\\"order\\\": 15}, {\\\"cast_id\\\": 25, \\\"character\\\": \\\"Showgirl with Jonathan\\\", \\\"credit_id\\\": \\\"52fe4312c3a36847f803846b\\\", \\\"gender\\\": 1, \\\"id\\\": 120886, \\\"name\\\": \\\"Donna Air\\\", \\\"order\\\": 16}, {\\\"cast_id\\\": 26, \\\"character\\\": \\\"Mountain of Flesh\\\", \\\"credit_id\\\": \\\"52fe4312c3a36847f803846f\\\", \\\"gender\\\": 0, \\\"id\\\": 1077874, \\\"name\\\": \\\"Trevor Lovell\\\", \\\"order\\\": 17}, {\\\"cast_id\\\": 30, \\\"character\\\": \\\"Spivey\\\", \\\"credit_id\\\": \\\"536222b20e0a2649a900146a\\\", \\\"gender\\\": 0, \\\"id\\\": 27678, \\\"name\\\": \\\"Tom Fisher\\\", \\\"order\\\": 18}]\",\n          \"[{\\\"cast_id\\\": 13, \\\"character\\\": \\\"Major Alan 'Dutch' Schaeffer\\\", \\\"credit_id\\\": \\\"52fe4218c3a36847f8003b53\\\", \\\"gender\\\": 2, \\\"id\\\": 1100, \\\"name\\\": \\\"Arnold Schwarzenegger\\\", \\\"order\\\": 0}, {\\\"cast_id\\\": 14, \\\"character\\\": \\\"Major George Dillon\\\", \\\"credit_id\\\": \\\"52fe4218c3a36847f8003b57\\\", \\\"gender\\\": 0, \\\"id\\\": 1101, \\\"name\\\": \\\"Carl Weathers\\\", \\\"order\\\": 1}, {\\\"cast_id\\\": 15, \\\"character\\\": \\\"Anna\\\", \\\"credit_id\\\": \\\"52fe4218c3a36847f8003b5b\\\", \\\"gender\\\": 1, \\\"id\\\": 1102, \\\"name\\\": \\\"Elpidia Carrillo\\\", \\\"order\\\": 2}, {\\\"cast_id\\\": 16, \\\"character\\\": \\\"Sergeant 'Mac' Eliot\\\", \\\"credit_id\\\": \\\"52fe4218c3a36847f8003b5f\\\", \\\"gender\\\": 2, \\\"id\\\": 1103, \\\"name\\\": \\\"Bill Duke\\\", \\\"order\\\": 3}, {\\\"cast_id\\\": 17, \\\"character\\\": \\\"Blain\\\", \\\"credit_id\\\": \\\"52fe4218c3a36847f8003b63\\\", \\\"gender\\\": 2, \\\"id\\\": 1104, \\\"name\\\": \\\"Jesse Ventura\\\", \\\"order\\\": 4}, {\\\"cast_id\\\": 18, \\\"character\\\": \\\"Billy\\\", \\\"credit_id\\\": \\\"52fe4218c3a36847f8003b67\\\", \\\"gender\\\": 2, \\\"id\\\": 1105, \\\"name\\\": \\\"Sonny Landham\\\", \\\"order\\\": 5}, {\\\"cast_id\\\": 19, \\\"character\\\": \\\"Poncho Ramirez\\\", \\\"credit_id\\\": \\\"52fe4218c3a36847f8003b6b\\\", \\\"gender\\\": 2, \\\"id\\\": 1106, \\\"name\\\": \\\"Richard Chaves\\\", \\\"order\\\": 6}, {\\\"cast_id\\\": 20, \\\"character\\\": \\\"General Phillips\\\", \\\"credit_id\\\": \\\"52fe4218c3a36847f8003b6f\\\", \\\"gender\\\": 2, \\\"id\\\": 1107, \\\"name\\\": \\\"R. G. Armstrong\\\", \\\"order\\\": 7}, {\\\"cast_id\\\": 21, \\\"character\\\": \\\"Hawkins\\\", \\\"credit_id\\\": \\\"52fe4218c3a36847f8003b73\\\", \\\"gender\\\": 2, \\\"id\\\": 1108, \\\"name\\\": \\\"Shane Black\\\", \\\"order\\\": 8}, {\\\"cast_id\\\": 23, \\\"character\\\": \\\"Helicopter Pilot / Predator\\\", \\\"credit_id\\\": \\\"52fe4218c3a36847f8003b7b\\\", \\\"gender\\\": 2, \\\"id\\\": 1109, \\\"name\\\": \\\"Kevin Peter Hall\\\", \\\"order\\\": 10}, {\\\"cast_id\\\": 25, \\\"character\\\": \\\"Russian Officer (uncredited)\\\", \\\"credit_id\\\": \\\"5742adfe9251416ce6002052\\\", \\\"gender\\\": 2, \\\"id\\\": 20761, \\\"name\\\": \\\"Sven-Ole Thorsen\\\", \\\"order\\\": 11}]\"\n        ],\n        \"semantic_type\": \"\",\n        \"description\": \"\"\n      }\n    },\n    {\n      \"column\": \"crew\",\n      \"properties\": {\n        \"dtype\": \"string\",\n        \"num_unique_values\": 4773,\n        \"samples\": [\n          \"[{\\\"credit_id\\\": \\\"538d82720e0a26670e005e83\\\", \\\"department\\\": \\\"Editing\\\", \\\"gender\\\": 2, \\\"id\\\": 898, \\\"job\\\": \\\"Editor\\\", \\\"name\\\": \\\"Mark Goldblatt\\\"}, {\\\"credit_id\\\": \\\"538d82860e0a266702005de5\\\", \\\"department\\\": \\\"Editing\\\", \\\"gender\\\": 2, \\\"id\\\": 1098, \\\"job\\\": \\\"Editor\\\", \\\"name\\\": \\\"Mark Helfrich\\\"}, {\\\"credit_id\\\": \\\"538d820c0e0a266708006129\\\", \\\"department\\\": \\\"Production\\\", \\\"gender\\\": 0, \\\"id\\\": 2095, \\\"job\\\": \\\"Producer\\\", \\\"name\\\": \\\"Ralph Winter\\\"}, {\\\"credit_id\\\": \\\"538d82d30e0a266712005def\\\", \\\"department\\\": \\\"Production\\\", \\\"gender\\\": 2, \\\"id\\\": 2624, \\\"job\\\": \\\"Casting\\\", \\\"name\\\": \\\"Richard Pagano\\\"}, {\\\"credit_id\\\": \\\"538d82ea0e0a266715005e74\\\", \\\"department\\\": \\\"Art\\\", \\\"gender\\\": 2, \\\"id\\\": 4953, \\\"job\\\": \\\"Production Design\\\", \\\"name\\\": \\\"Ed Verreaux\\\"}, {\\\"credit_id\\\": \\\"538d82ad0e0a26670800614d\\\", \\\"department\\\": \\\"Production\\\", \\\"gender\\\": 1, \\\"id\\\": 5362, \\\"job\\\": \\\"Casting\\\", \\\"name\\\": \\\"Heike Brandstatter\\\"}, {\\\"credit_id\\\": \\\"538d82c00e0a266705005fa2\\\", \\\"department\\\": \\\"Production\\\", \\\"gender\\\": 1, \\\"id\\\": 5363, \\\"job\\\": \\\"Casting\\\", \\\"name\\\": \\\"Coreen Mayrs\\\"}, {\\\"credit_id\\\": \\\"538d845ec3a368713c0047d2\\\", \\\"department\\\": \\\"Costume & Make-Up\\\", \\\"gender\\\": 0, \\\"id\\\": 6924, \\\"job\\\": \\\"Costume Supervisor\\\", \\\"name\\\": \\\"Dan Moore\\\"}, {\\\"credit_id\\\": \\\"538d81ef0e0a266718005cb8\\\", \\\"department\\\": \\\"Production\\\", \\\"gender\\\": 1, \\\"id\\\": 7200, \\\"job\\\": \\\"Producer\\\", \\\"name\\\": \\\"Lauren Shuler Donner\\\"}, {\\\"credit_id\\\": \\\"576710bec3a36806720004b0\\\", \\\"department\\\": \\\"Production\\\", \\\"gender\\\": 2, \\\"id\\\": 7624, \\\"job\\\": \\\"Executive Producer\\\", \\\"name\\\": \\\"Stan Lee\\\"}, {\\\"credit_id\\\": \\\"538d81d80e0a266715005e4d\\\", \\\"department\\\": \\\"Production\\\", \\\"gender\\\": 2, \\\"id\\\": 7626, \\\"job\\\": \\\"Producer\\\", \\\"name\\\": \\\"Avi Arad\\\"}, {\\\"credit_id\\\": \\\"5767101092514165c20000db\\\", \\\"department\\\": \\\"Production\\\", \\\"gender\\\": 2, \\\"id\\\": 10850, \\\"job\\\": \\\"Executive Producer\\\", \\\"name\\\": \\\"Kevin Feige\\\"}, {\\\"credit_id\\\": \\\"538d83ba0e0a26670b005ded\\\", \\\"department\\\": \\\"Costume & Make-Up\\\", \\\"gender\\\": 1, \\\"id\\\": 10970, \\\"job\\\": \\\"Costume Design\\\", \\\"name\\\": \\\"Judianna Makovsky\\\"}, {\\\"credit_id\\\": \\\"538d83620e0a266715005e82\\\", \\\"department\\\": \\\"Art\\\", \\\"gender\\\": 2, \\\"id\\\": 10549, \\\"job\\\": \\\"Art Direction\\\", \\\"name\\\": \\\"Justin Scoppa Jr.\\\"}, {\\\"credit_id\\\": \\\"5626465bc3a3680e0e01704b\\\", \\\"department\\\": \\\"Sound\\\", \\\"gender\\\": 2, \\\"id\\\": 11098, \\\"job\\\": \\\"Original Music Composer\\\", \\\"name\\\": \\\"John Powell\\\"}, {\\\"credit_id\\\": \\\"52fe45ff9251416c910459e1\\\", \\\"department\\\": \\\"Writing\\\", \\\"gender\\\": 2, \\\"id\\\": 11092, \\\"job\\\": \\\"Screenplay\\\", \\\"name\\\": \\\"Simon Kinberg\\\"}, {\\\"credit_id\\\": \\\"56abe4ecc3a3681c47003aa3\\\", \\\"department\\\": \\\"Crew\\\", \\\"gender\\\": 2, \\\"id\\\": 15017, \\\"job\\\": \\\"Makeup Effects\\\", \\\"name\\\": \\\"Bill Corso\\\"}, {\\\"credit_id\\\": \\\"538d82560e0a266705005f94\\\", \\\"department\\\": \\\"Camera\\\", \\\"gender\\\": 2, \\\"id\\\": 11099, \\\"job\\\": \\\"Director of Photography\\\", \\\"name\\\": \\\"Dante Spinotti\\\"}, {\\\"credit_id\\\": \\\"52fe45ff9251416c910459e7\\\", \\\"department\\\": \\\"Writing\\\", \\\"gender\\\": 2, \\\"id\\\": 11011, \\\"job\\\": \\\"Screenplay\\\", \\\"name\\\": \\\"Zak Penn\\\"}, {\\\"credit_id\\\": \\\"52fe45ff9251416c910459db\\\", \\\"department\\\": \\\"Directing\\\", \\\"gender\\\": 2, \\\"id\\\": 11091, \\\"job\\\": \\\"Director\\\", \\\"name\\\": \\\"Brett Ratner\\\"}, {\\\"credit_id\\\": \\\"538d834f0e0a266712005dfe\\\", \\\"department\\\": \\\"Art\\\", \\\"gender\\\": 1, \\\"id\\\": 22061, \\\"job\\\": \\\"Art Direction\\\", \\\"name\\\": \\\"Helen Jarvis\\\"}, {\\\"credit_id\\\": \\\"538d83a50e0a266715005e8b\\\", \\\"department\\\": \\\"Art\\\", \\\"gender\\\": 1, \\\"id\\\": 11021, \\\"job\\\": \\\"Set Decoration\\\", \\\"name\\\": \\\"Elizabeth Wilcox\\\"}, {\\\"credit_id\\\": \\\"538d83220e0a266702005df6\\\", \\\"department\\\": \\\"Art\\\", \\\"gender\\\": 0, \\\"id\\\": 11102, \\\"job\\\": \\\"Art Direction\\\", \\\"name\\\": \\\"Chad S. Frey\\\"}, {\\\"credit_id\\\": \\\"570b8dde9251412c740020d0\\\", \\\"department\\\": \\\"Art\\\", \\\"gender\\\": 0, \\\"id\\\": 46082, \\\"job\\\": \\\"Supervising Art Director\\\", \\\"name\\\": \\\"Geoff Hubbard\\\"}, {\\\"credit_id\\\": \\\"538d83ce0e0a266702005e02\\\", \\\"department\\\": \\\"Costume & Make-Up\\\", \\\"gender\\\": 2, \\\"id\\\": 11106, \\\"job\\\": \\\"Costume Design\\\", \\\"name\\\": \\\"Lisa Tomczeszyn\\\"}, {\\\"credit_id\\\": \\\"560046499251414e4d000197\\\", \\\"department\\\": \\\"Crew\\\", \\\"gender\\\": 0, \\\"id\\\": 113194, \\\"job\\\": \\\"Stunts\\\", \\\"name\\\": \\\"James Bamford\\\"}, {\\\"credit_id\\\": \\\"538d82990e0a266712005de9\\\", \\\"department\\\": \\\"Editing\\\", \\\"gender\\\": 1, \\\"id\\\": 11100, \\\"job\\\": \\\"Editor\\\", \\\"name\\\": \\\"Julia Wong\\\"}, {\\\"credit_id\\\": \\\"57671042c3a36806b3000104\\\", \\\"department\\\": \\\"Production\\\", \\\"gender\\\": 2, \\\"id\\\": 11095, \\\"job\\\": \\\"Co-Producer\\\", \\\"name\\\": \\\"James M. Freitag\\\"}, {\\\"credit_id\\\": \\\"57670fdbc3a3680722000106\\\", \\\"department\\\": \\\"Production\\\", \\\"gender\\\": 2, \\\"id\\\": 11014, \\\"job\\\": \\\"Co-Producer\\\", \\\"name\\\": \\\"Ross Fanger\\\"}, {\\\"credit_id\\\": \\\"538d83750e0a26670b005de5\\\", \\\"department\\\": \\\"Art\\\", \\\"gender\\\": 0, \\\"id\\\": 223991, \\\"job\\\": \\\"Art Direction\\\", \\\"name\\\": \\\"Sandi Tanaka\\\"}, {\\\"credit_id\\\": \\\"576710f192514133c5001213\\\", \\\"department\\\": \\\"Production\\\", \\\"gender\\\": 0, \\\"id\\\": 1182092, \\\"job\\\": \\\"Executive Producer\\\", \\\"name\\\": \\\"John Palermo\\\"}, {\\\"credit_id\\\": \\\"55402d2fc3a3681da0000633\\\", \\\"department\\\": \\\"Visual Effects\\\", \\\"gender\\\": 0, \\\"id\\\": 1395269, \\\"job\\\": \\\"Visual Effects Supervisor\\\", \\\"name\\\": \\\"John Bruno\\\"}, {\\\"credit_id\\\": \\\"563a9ed79251416d520145a0\\\", \\\"department\\\": \\\"Crew\\\", \\\"gender\\\": 0, \\\"id\\\": 1401803, \\\"job\\\": \\\"Digital Effects Supervisor\\\", \\\"name\\\": \\\"Guy Williams\\\"}, {\\\"credit_id\\\": \\\"5767112fc3a3680722000132\\\", \\\"department\\\": \\\"Production\\\", \\\"gender\\\": 0, \\\"id\\\": 1432021, \\\"job\\\": \\\"Co-Producer\\\", \\\"name\\\": \\\"Kurt Williams\\\"}, {\\\"credit_id\\\": \\\"55423048c3a36829e5003bc8\\\", \\\"department\\\": \\\"Crew\\\", \\\"gender\\\": 0, \\\"id\\\": 1447557, \\\"job\\\": \\\"Compositors\\\", \\\"name\\\": \\\"Rachel Wyn Dunn\\\"}, {\\\"credit_id\\\": \\\"552986b4c3a368596e001a79\\\", \\\"department\\\": \\\"Visual Effects\\\", \\\"gender\\\": 0, \\\"id\\\": 1452932, \\\"job\\\": \\\"Animation\\\", \\\"name\\\": \\\"Joel Fletcher\\\"}, {\\\"credit_id\\\": \\\"57670f92925141655a000109\\\", \\\"department\\\": \\\"Production\\\", \\\"gender\\\": 0, \\\"id\\\": 1477146, \\\"job\\\": \\\"Co-Producer\\\", \\\"name\\\": \\\"Lee Cleary\\\"}, {\\\"credit_id\\\": \\\"5767107c925141655a00012c\\\", \\\"department\\\": \\\"Production\\\", \\\"gender\\\": 0, \\\"id\\\": 1477147, \\\"job\\\": \\\"Associate Producer\\\", \\\"name\\\": \\\"David Gorder\\\"}, {\\\"credit_id\\\": \\\"5767105bc3a36850c4000573\\\", \\\"department\\\": \\\"Production\\\", \\\"gender\\\": 2, \\\"id\\\": 1477203, \\\"job\\\": \\\"Associate Producer\\\", \\\"name\\\": \\\"Luca Marco Paracels\\\"}]\",\n          \"[{\\\"credit_id\\\": \\\"58dd0e90c3a368223e00b59c\\\", \\\"department\\\": \\\"Production\\\", \\\"gender\\\": 1, \\\"id\\\": 546, \\\"job\\\": \\\"Casting\\\", \\\"name\\\": \\\"Jeanne McCarthy\\\"}, {\\\"credit_id\\\": \\\"52fe43bb9251416c7501bf83\\\", \\\"department\\\": \\\"Production\\\", \\\"gender\\\": 2, \\\"id\\\": 2043, \\\"job\\\": \\\"Producer\\\", \\\"name\\\": \\\"John Davis\\\"}, {\\\"credit_id\\\": \\\"5539fe35c3a3685cf8002f1e\\\", \\\"department\\\": \\\"Sound\\\", \\\"gender\\\": 2, \\\"id\\\": 3393, \\\"job\\\": \\\"Original Music Composer\\\", \\\"name\\\": \\\"David Newman\\\"}, {\\\"credit_id\\\": \\\"58dd0d3fc3a368228a00aa50\\\", \\\"department\\\": \\\"Production\\\", \\\"gender\\\": 0, \\\"id\\\": 6187, \\\"job\\\": \\\"Associate Producer\\\", \\\"name\\\": \\\"Aldric La'Auli Porter\\\"}, {\\\"credit_id\\\": \\\"5990427f925141672302ba00\\\", \\\"department\\\": \\\"Directing\\\", \\\"gender\\\": 0, \\\"id\\\": 6187, \\\"job\\\": \\\"First Assistant Director\\\", \\\"name\\\": \\\"Aldric La'Auli Porter\\\"}, {\\\"credit_id\\\": \\\"58dd0efdc3a368228300b438\\\", \\\"department\\\": \\\"Art\\\", \\\"gender\\\": 2, \\\"id\\\": 6877, \\\"job\\\": \\\"Production Design\\\", \\\"name\\\": \\\"William Sandell\\\"}, {\\\"credit_id\\\": \\\"58dd0f56925141411000c340\\\", \\\"department\\\": \\\"Art\\\", \\\"gender\\\": 2, \\\"id\\\": 6880, \\\"job\\\": \\\"Set Decoration\\\", \\\"name\\\": \\\"Robert Gould\\\"}, {\\\"credit_id\\\": \\\"58dd0f1fc3a36822a600c1dd\\\", \\\"department\\\": \\\"Art\\\", \\\"gender\\\": 2, \\\"id\\\": 8705, \\\"job\\\": \\\"Art Direction\\\", \\\"name\\\": \\\"Brad Ricker\\\"}, {\\\"credit_id\\\": \\\"5990490b925141673e02d2f5\\\", \\\"department\\\": \\\"Sound\\\", \\\"gender\\\": 0, \\\"id\\\": 8763, \\\"job\\\": \\\"Foley Editor\\\", \\\"name\\\": \\\"Dan Yale\\\"}, {\\\"credit_id\\\": \\\"58dd0d3192514140f600b915\\\", \\\"department\\\": \\\"Production\\\", \\\"gender\\\": 2, \\\"id\\\": 8880, \\\"job\\\": \\\"Executive Producer\\\", \\\"name\\\": \\\"Neil A. Machlis\\\"}, {\\\"credit_id\\\": \\\"58dd0e0bc3a368229300bdf6\\\", \\\"department\\\": \\\"Production\\\", \\\"gender\\\": 1, \\\"id\\\": 14377, \\\"job\\\": \\\"Casting\\\", \\\"name\\\": \\\"Juel Bestrop\\\"}, {\\\"credit_id\\\": \\\"599045b6925141672302bdac\\\", \\\"department\\\": \\\"Art\\\", \\\"gender\\\": 0, \\\"id\\\": 12639, \\\"job\\\": \\\"Set Designer\\\", \\\"name\\\": \\\"Hugo Santiago\\\"}, {\\\"credit_id\\\": \\\"58dd0f69c3a368228300b48f\\\", \\\"department\\\": \\\"Costume & Make-Up\\\", \\\"gender\\\": 1, \\\"id\\\": 15524, \\\"job\\\": \\\"Costume Design\\\", \\\"name\\\": \\\"Ruth E. Carter\\\"}, {\\\"credit_id\\\": \\\"52fe43bb9251416c7501bf9b\\\", \\\"department\\\": \\\"Editing\\\", \\\"gender\\\": 2, \\\"id\\\": 18276, \\\"job\\\": \\\"Editor\\\", \\\"name\\\": \\\"Craig Herring\\\"}, {\\\"credit_id\\\": \\\"58dd0f2f92514140fa00c653\\\", \\\"department\\\": \\\"Art\\\", \\\"gender\\\": 2, \\\"id\\\": 13434, \\\"job\\\": \\\"Supervising Art Director\\\", \\\"name\\\": \\\"Bruce Crone\\\"}, {\\\"credit_id\\\": \\\"59904bcdc3a368744202b9fb\\\", \\\"department\\\": \\\"Visual Effects\\\", \\\"gender\\\": 0, \\\"id\\\": 27100, \\\"job\\\": \\\"Visual Effects Supervisor\\\", \\\"name\\\": \\\"Douglas Smith\\\"}, {\\\"credit_id\\\": \\\"52fe43bb9251416c7501bf7d\\\", \\\"department\\\": \\\"Writing\\\", \\\"gender\\\": 2, \\\"id\\\": 31026, \\\"job\\\": \\\"Screenplay\\\", \\\"name\\\": \\\"Larry Levin\\\"}, {\\\"credit_id\\\": \\\"58dd0c8592514140fa00c441\\\", \\\"department\\\": \\\"Production\\\", \\\"gender\\\": 1, \\\"id\\\": 49907, \\\"job\\\": \\\"Co-Producer\\\", \\\"name\\\": \\\"Michele Imperato\\\"}, {\\\"credit_id\\\": \\\"58dd0fb0c3a368227300bfad\\\", \\\"department\\\": \\\"Production\\\", \\\"gender\\\": 1, \\\"id\\\": 49907, \\\"job\\\": \\\"Unit Production Manager\\\", \\\"name\\\": \\\"Michele Imperato\\\"}, {\\\"credit_id\\\": \\\"52fe43bb9251416c7501bfb1\\\", \\\"department\\\": \\\"Directing\\\", \\\"gender\\\": 2, \\\"id\\\": 52112, \\\"job\\\": \\\"Director\\\", \\\"name\\\": \\\"Steve Carr\\\"}, {\\\"credit_id\\\": \\\"5990471cc3a36874a302bbdc\\\", \\\"department\\\": \\\"Sound\\\", \\\"gender\\\": 2, \\\"id\\\": 52193, \\\"job\\\": \\\"Dialogue Editor\\\", \\\"name\\\": \\\"R.J. Kizer\\\"}, {\\\"credit_id\\\": \\\"52fe43bb9251416c7501bf95\\\", \\\"department\\\": \\\"Camera\\\", \\\"gender\\\": 2, \\\"id\\\": 56324, \\\"job\\\": \\\"Director of Photography\\\", \\\"name\\\": \\\"Daryn Okada\\\"}, {\\\"credit_id\\\": \\\"52fe43bb9251416c7501bf89\\\", \\\"department\\\": \\\"Production\\\", \\\"gender\\\": 2, \\\"id\\\": 56053, \\\"job\\\": \\\"Producer\\\", \\\"name\\\": \\\"Joseph Singer\\\"}, {\\\"credit_id\\\": \\\"59904a06925141676602b701\\\", \\\"department\\\": \\\"Crew\\\", \\\"gender\\\": 2, \\\"id\\\": 57769, \\\"job\\\": \\\"Visual Effects Editor\\\", \\\"name\\\": \\\"Peter S. Elliot\\\"}, {\\\"credit_id\\\": \\\"58dd0d4c92514140fa00c4da\\\", \\\"department\\\": \\\"Production\\\", \\\"gender\\\": 1, \\\"id\\\": 66921, \\\"job\\\": \\\"Co-Producer\\\", \\\"name\\\": \\\"Heidi Santelli\\\"}, {\\\"credit_id\\\": \\\"59905155c3a36874b402a906\\\", \\\"department\\\": \\\"Sound\\\", \\\"gender\\\": 0, \\\"id\\\": 91324, \\\"job\\\": \\\"Music Editor\\\", \\\"name\\\": \\\"Tom Villano\\\"}, {\\\"credit_id\\\": \\\"5990424a925141676602adf3\\\", \\\"department\\\": \\\"Costume & Make-Up\\\", \\\"gender\\\": 0, \\\"id\\\": 168214, \\\"job\\\": \\\"Makeup Artist\\\", \\\"name\\\": \\\"Judy Murdock\\\"}, {\\\"credit_id\\\": \\\"59904eae925141673e02da30\\\", \\\"department\\\": \\\"Camera\\\", \\\"gender\\\": 2, \\\"id\\\": 555085, \\\"job\\\": \\\"Still Photographer\\\", \\\"name\\\": \\\"Bruce McBroom\\\"}, {\\\"credit_id\\\": \\\"599041d0c3a36874a302b5e9\\\", \\\"department\\\": \\\"Costume & Make-Up\\\", \\\"gender\\\": 0, \\\"id\\\": 1015965, \\\"job\\\": \\\"Makeup Department Head\\\", \\\"name\\\": \\\"Kris Evans\\\"}, {\\\"credit_id\\\": \\\"58dd11a2c3a368227300c14b\\\", \\\"department\\\": \\\"Production\\\", \\\"gender\\\": 0, \\\"id\\\": 1113659, \\\"job\\\": \\\"Location Manager\\\", \\\"name\\\": \\\"Iddo Lampton Enochs Jr.\\\"}, {\\\"credit_id\\\": \\\"59904b71925141675f02b7e7\\\", \\\"department\\\": \\\"Crew\\\", \\\"gender\\\": 0, \\\"id\\\": 1178615, \\\"job\\\": \\\"CG Supervisor\\\", \\\"name\\\": \\\"Liz Radley\\\"}, {\\\"credit_id\\\": \\\"59904fe5c3a368744202bf0c\\\", \\\"department\\\": \\\"Costume & Make-Up\\\", \\\"gender\\\": 0, \\\"id\\\": 1319193, \\\"job\\\": \\\"Costume Supervisor\\\", \\\"name\\\": \\\"Donna Marcione Pollack\\\"}, {\\\"credit_id\\\": \\\"599044c4925141672302bc97\\\", \\\"department\\\": \\\"Art\\\", \\\"gender\\\": 0, \\\"id\\\": 1364403, \\\"job\\\": \\\"Greensman\\\", \\\"name\\\": \\\"Frank McEldowney\\\"}, {\\\"credit_id\\\": \\\"59904694925141673e02cfd2\\\", \\\"department\\\": \\\"Sound\\\", \\\"gender\\\": 0, \\\"id\\\": 1367505, \\\"job\\\": \\\"Dialogue Editor\\\", \\\"name\\\": \\\"Ted Caplan\\\"}, {\\\"credit_id\\\": \\\"5990439d925141675902ac1b\\\", \\\"department\\\": \\\"Art\\\", \\\"gender\\\": 0, \\\"id\\\": 1377216, \\\"job\\\": \\\"Art Department Coordinator\\\", \\\"name\\\": \\\"Gerald Lehtola\\\"}, {\\\"credit_id\\\": \\\"599045fb925141675f02b16c\\\", \\\"department\\\": \\\"Art\\\", \\\"gender\\\": 0, \\\"id\\\": 1378165, \\\"job\\\": \\\"Property Master\\\", \\\"name\\\": \\\"Mark Wade\\\"}, {\\\"credit_id\\\": \\\"58dd0fd0c3a368228a00abfb\\\", \\\"department\\\": \\\"Art\\\", \\\"gender\\\": 1, \\\"id\\\": 1378749, \\\"job\\\": \\\"Set Designer\\\", \\\"name\\\": \\\"Patricia Klawonn\\\"}, {\\\"credit_id\\\": \\\"58dd1023c3a368227300c025\\\", \\\"department\\\": \\\"Art\\\", \\\"gender\\\": 0, \\\"id\\\": 1389585, \\\"job\\\": \\\"Set Designer\\\", \\\"name\\\": \\\"Bill Taliaferro\\\"}, {\\\"credit_id\\\": \\\"59904785c3a3687493029126\\\", \\\"department\\\": \\\"Sound\\\", \\\"gender\\\": 0, \\\"id\\\": 1390527, \\\"job\\\": \\\"Sound Effects Editor\\\", \\\"name\\\": \\\"Dave Kulczycki\\\"}, {\\\"credit_id\\\": \\\"59905010925141675f02bd38\\\", \\\"department\\\": \\\"Costume & Make-Up\\\", \\\"gender\\\": 0, \\\"id\\\": 1399322, \\\"job\\\": \\\"Set Costumer\\\", \\\"name\\\": \\\"Elizabeth Frank\\\"}, {\\\"credit_id\\\": \\\"59904d81925141670b02cf99\\\", \\\"department\\\": \\\"Camera\\\", \\\"gender\\\": 2, \\\"id\\\": 1400374, \\\"job\\\": \\\"Camera Operator\\\", \\\"name\\\": \\\"Casey Hotchkiss\\\"}, {\\\"credit_id\\\": \\\"599046d2c3a3687493029074\\\", \\\"department\\\": \\\"Sound\\\", \\\"gender\\\": 0, \\\"id\\\": 1404841, \\\"job\\\": \\\"ADR Editor\\\", \\\"name\\\": \\\"Zack Davis\\\"}, {\\\"credit_id\\\": \\\"59904214c3a368746102979f\\\", \\\"department\\\": \\\"Costume & Make-Up\\\", \\\"gender\\\": 0, \\\"id\\\": 1408278, \\\"job\\\": \\\"Hair Department Head\\\", \\\"name\\\": \\\"Erma Kent\\\"}, {\\\"credit_id\\\": \\\"599048b2925141670b02c97f\\\", \\\"department\\\": \\\"Sound\\\", \\\"gender\\\": 0, \\\"id\\\": 1416153, \\\"job\\\": \\\"Supervising Sound Editor\\\", \\\"name\\\": \\\"Donald Sylvester\\\"}, {\\\"credit_id\\\": \\\"59904ad6c3a36874b402a1cc\\\", \\\"department\\\": \\\"Visual Effects\\\", \\\"gender\\\": 0, \\\"id\\\": 1416167, \\\"job\\\": \\\"Visual Effects Producer\\\", \\\"name\\\": \\\"John Kilkenny\\\"}, {\\\"credit_id\\\": \\\"56ae7d849251416357002915\\\", \\\"department\\\": \\\"Costume & Make-Up\\\", \\\"gender\\\": 1, \\\"id\\\": 1424894, \\\"job\\\": \\\"Hairstylist\\\", \\\"name\\\": \\\"Camille Friend\\\"}, {\\\"credit_id\\\": \\\"599047ab925141674c02b48e\\\", \\\"department\\\": \\\"Sound\\\", \\\"gender\\\": 0, \\\"id\\\": 1425343, \\\"job\\\": \\\"ADR Editor\\\", \\\"name\\\": \\\"Vanessa Lapato\\\"}, {\\\"credit_id\\\": \\\"59904951925141673902ae4e\\\", \\\"department\\\": \\\"Crew\\\", \\\"gender\\\": 0, \\\"id\\\": 1442509, \\\"job\\\": \\\"Special Effects Coordinator\\\", \\\"name\\\": \\\"Alan E. Lorimer\\\"}, {\\\"credit_id\\\": \\\"59904427925141675902acc6\\\", \\\"department\\\": \\\"Art\\\", \\\"gender\\\": 0, \\\"id\\\": 1451398, \\\"job\\\": \\\"Greensman\\\", \\\"name\\\": \\\"Bryan McBrien\\\"}, {\\\"credit_id\\\": \\\"59904629c3a368744202b2d6\\\", \\\"department\\\": \\\"Art\\\", \\\"gender\\\": 0, \\\"id\\\": 1453276, \\\"job\\\": \\\"Construction Coordinator\\\", \\\"name\\\": \\\"Butch West\\\"}, {\\\"credit_id\\\": \\\"599034bcc3a3687493027d17\\\", \\\"department\\\": \\\"Crew\\\", \\\"gender\\\": 2, \\\"id\\\": 1454647, \\\"job\\\": \\\"Creator\\\", \\\"name\\\": \\\"Hugh Lofting\\\"}, {\\\"credit_id\\\": \\\"58dd11f1c3a36822ae00bc75\\\", \\\"department\\\": \\\"Directing\\\", \\\"gender\\\": 1, \\\"id\\\": 1457729, \\\"job\\\": \\\"Script Supervisor\\\", \\\"name\\\": \\\"Nancy Karlin\\\"}, {\\\"credit_id\\\": \\\"59904a8d925141675f02b6d8\\\", \\\"department\\\": \\\"Visual Effects\\\", \\\"gender\\\": 0, \\\"id\\\": 1496418, \\\"job\\\": \\\"Visual Effects Coordinator\\\", \\\"name\\\": \\\"Mitchell Ferm\\\"}, {\\\"credit_id\\\": \\\"599050e6925141674c02beef\\\", \\\"department\\\": \\\"Sound\\\", \\\"gender\\\": 2, \\\"id\\\": 1550058, \\\"job\\\": \\\"Music Editor\\\", \\\"name\\\": \\\"Jim Harrison\\\"}, {\\\"credit_id\\\": \\\"58dd11b0c3a368223e00b7db\\\", \\\"department\\\": \\\"Art\\\", \\\"gender\\\": 0, \\\"id\\\": 1585159, \\\"job\\\": \\\"Location Scout\\\", \\\"name\\\": \\\"Jasan Sherman\\\"}, {\\\"credit_id\\\": \\\"5990453a925141673902a8ec\\\", \\\"department\\\": \\\"Art\\\", \\\"gender\\\": 0, \\\"id\\\": 1586888, \\\"job\\\": \\\"Sculptor\\\", \\\"name\\\": \\\"Thomas Meikle\\\"}, {\\\"credit_id\\\": \\\"5990506dc3a368747302c6e3\\\", \\\"department\\\": \\\"Sound\\\", \\\"gender\\\": 0, \\\"id\\\": 1587383, \\\"job\\\": \\\"Music Supervisor\\\", \\\"name\\\": \\\"Spring Aspers\\\"}, {\\\"credit_id\\\": \\\"59904fbb925141672302c9ed\\\", \\\"department\\\": \\\"Costume & Make-Up\\\", \\\"gender\\\": 0, \\\"id\\\": 1610228, \\\"job\\\": \\\"Key Costumer\\\", \\\"name\\\": \\\"Craig Anthony\\\"}, {\\\"credit_id\\\": \\\"599047e3925141674c02b4cf\\\", \\\"department\\\": \\\"Sound\\\", \\\"gender\\\": 2, \\\"id\\\": 1737829, \\\"job\\\": \\\"Boom Operator\\\", \\\"name\\\": \\\"Harrison D. Marsh\\\"}, {\\\"credit_id\\\": \\\"58dd10b2c3a368228300b588\\\", \\\"department\\\": \\\"Production\\\", \\\"gender\\\": 1, \\\"id\\\": 1763970, \\\"job\\\": \\\"Casting Assistant\\\", \\\"name\\\": \\\"Nadia Lubbe Simon\\\"}, {\\\"credit_id\\\": \\\"58dd1052925141413c00beac\\\", \\\"department\\\": \\\"Production\\\", \\\"gender\\\": 1, \\\"id\\\": 1786614, \\\"job\\\": \\\"Casting Associate\\\", \\\"name\\\": \\\"Diana Jaher\\\"}, {\\\"credit_id\\\": \\\"58dd11d5c3a368229d00b6a0\\\", \\\"department\\\": \\\"Production\\\", \\\"gender\\\": 0, \\\"id\\\": 1786616, \\\"job\\\": \\\"Location Manager\\\", \\\"name\\\": \\\"Craig W. van Gundy\\\"}, {\\\"credit_id\\\": \\\"58dd1254c3a368227300c1e6\\\", \\\"department\\\": \\\"Production\\\", \\\"gender\\\": 1, \\\"id\\\": 1786618, \\\"job\\\": \\\"Production Coordinator\\\", \\\"name\\\": \\\"Kris Fullan Martinez\\\"}, {\\\"credit_id\\\": \\\"599042f4c3a368744202aefa\\\", \\\"department\\\": \\\"Art\\\", \\\"gender\\\": 0, \\\"id\\\": 1868861, \\\"job\\\": \\\"Painter\\\", \\\"name\\\": \\\"Joe A. Hawthorne\\\"}, {\\\"credit_id\\\": \\\"5990448e925141675f02afa7\\\", \\\"department\\\": \\\"Crew\\\", \\\"gender\\\": 0, \\\"id\\\": 1868865, \\\"job\\\": \\\"Propmaker\\\", \\\"name\\\": \\\"Robert McDonald\\\"}, {\\\"credit_id\\\": \\\"59904571925141670b02c572\\\", \\\"department\\\": \\\"Crew\\\", \\\"gender\\\": 0, \\\"id\\\": 1868867, \\\"job\\\": \\\"Propmaker\\\", \\\"name\\\": \\\"Robert Prchal\\\"}, {\\\"credit_id\\\": \\\"599045da925141673902a9d7\\\", \\\"department\\\": \\\"Crew\\\", \\\"gender\\\": 0, \\\"id\\\": 1868868, \\\"job\\\": \\\"Propmaker\\\", \\\"name\\\": \\\"Hal Schlax\\\"}, {\\\"credit_id\\\": \\\"59904c34925141675f02b8bc\\\", \\\"department\\\": \\\"Crew\\\", \\\"gender\\\": 2, \\\"id\\\": 1868877, \\\"job\\\": \\\"Stunt Coordinator\\\", \\\"name\\\": \\\"John Molo\\\"}, {\\\"credit_id\\\": \\\"59904cac925141673e02d7a8\\\", \\\"department\\\": \\\"Camera\\\", \\\"gender\\\": 0, \\\"id\\\": 1868878, \\\"job\\\": \\\"Camera Operator\\\", \\\"name\\\": \\\"Todd Dos Reis\\\"}, {\\\"credit_id\\\": \\\"59904d04925141676602ba9a\\\", \\\"department\\\": \\\"Camera\\\", \\\"gender\\\": 0, \\\"id\\\": 1868879, \\\"job\\\": \\\"Dolly Grip\\\", \\\"name\\\": \\\"Jason D. Hodges\\\"}, {\\\"credit_id\\\": \\\"59904d3bc3a36874b402a4b0\\\", \\\"department\\\": \\\"Camera\\\", \\\"gender\\\": 0, \\\"id\\\": 1868880, \\\"job\\\": \\\"Key Grip\\\", \\\"name\\\": \\\"Mike Hodges\\\"}, {\\\"credit_id\\\": \\\"59904df0925141672302c7da\\\", \\\"department\\\": \\\"Lighting\\\", \\\"gender\\\": 0, \\\"id\\\": 1868881, \\\"job\\\": \\\"Gaffer\\\", \\\"name\\\": \\\"Kal Manning\\\"}, {\\\"credit_id\\\": \\\"59904ede925141675f02bbe6\\\", \\\"department\\\": \\\"Camera\\\", \\\"gender\\\": 0, \\\"id\\\": 1868889, \\\"job\\\": \\\"Dolly Grip\\\", \\\"name\\\": \\\"Larry McCarron\\\"}, {\\\"credit_id\\\": \\\"59905109925141673e02dcde\\\", \\\"department\\\": \\\"Sound\\\", \\\"gender\\\": 0, \\\"id\\\": 1868892, \\\"job\\\": \\\"Music Editor\\\", \\\"name\\\": \\\"Kim Strand\\\"}]\",\n          \"[{\\\"credit_id\\\": \\\"535c348b0e0a264fe1001e9f\\\", \\\"department\\\": \\\"Directing\\\", \\\"gender\\\": 0, \\\"id\\\": 1314011, \\\"job\\\": \\\"Director\\\", \\\"name\\\": \\\"Nathan Smith Jones\\\"}]\"\n        ],\n        \"semantic_type\": \"\",\n        \"description\": \"\"\n      }\n    },\n    {\n      \"column\": \"overview\",\n      \"properties\": {\n        \"dtype\": \"string\",\n        \"num_unique_values\": 4800,\n        \"samples\": [\n          \"When the Switchblade, the most sophisticated prototype stealth fighter created yet, is stolen from the U.S. government, one of the United States' top spies, Alex Scott, is called to action. What he doesn't expect is to get teamed up with a cocky civilian, World Class Boxing Champion Kelly Robinson, on a dangerous top secret espionage mission. Their assignment: using equal parts skill and humor, catch Arnold Gundars, one of the world's most successful arms dealers.\",\n          \"When \\\"street smart\\\" rapper Christopher \\\"C-Note\\\" Hawkins (Big Boi) applies for a membership to all-white Carolina Pines Country Club, the establishment's proprietors are hardly ready to oblige him.\",\n          \"As their first year of high school looms ahead, best friends Julie, Hannah, Yancy and Farrah have one last summer sleepover. Little do they know they're about to embark on the adventure of a lifetime. Desperate to shed their nerdy status, they take part in a night-long scavenger hunt that pits them against their popular archrivals. Everything under the sun goes on -- from taking Yancy's father's car to sneaking into nightclubs!\"\n        ],\n        \"semantic_type\": \"\",\n        \"description\": \"\"\n      }\n    }\n  ]\n}"
            }
          },
          "metadata": {},
          "execution_count": 55
        }
      ]
    },
    {
      "cell_type": "code",
      "source": [
        "movies.isnull().sum()"
      ],
      "metadata": {
        "colab": {
          "base_uri": "https://localhost:8080/",
          "height": 303
        },
        "id": "uGbqYEQlvvu3",
        "outputId": "b670784b-dff5-4fba-ed89-fcfca991a920"
      },
      "execution_count": null,
      "outputs": [
        {
          "output_type": "execute_result",
          "data": {
            "text/plain": [
              "movie_id    0\n",
              "title       0\n",
              "genres      0\n",
              "keywords    0\n",
              "cast        0\n",
              "crew        0\n",
              "overview    3\n",
              "dtype: int64"
            ],
            "text/html": [
              "<div>\n",
              "<style scoped>\n",
              "    .dataframe tbody tr th:only-of-type {\n",
              "        vertical-align: middle;\n",
              "    }\n",
              "\n",
              "    .dataframe tbody tr th {\n",
              "        vertical-align: top;\n",
              "    }\n",
              "\n",
              "    .dataframe thead th {\n",
              "        text-align: right;\n",
              "    }\n",
              "</style>\n",
              "<table border=\"1\" class=\"dataframe\">\n",
              "  <thead>\n",
              "    <tr style=\"text-align: right;\">\n",
              "      <th></th>\n",
              "      <th>0</th>\n",
              "    </tr>\n",
              "  </thead>\n",
              "  <tbody>\n",
              "    <tr>\n",
              "      <th>movie_id</th>\n",
              "      <td>0</td>\n",
              "    </tr>\n",
              "    <tr>\n",
              "      <th>title</th>\n",
              "      <td>0</td>\n",
              "    </tr>\n",
              "    <tr>\n",
              "      <th>genres</th>\n",
              "      <td>0</td>\n",
              "    </tr>\n",
              "    <tr>\n",
              "      <th>keywords</th>\n",
              "      <td>0</td>\n",
              "    </tr>\n",
              "    <tr>\n",
              "      <th>cast</th>\n",
              "      <td>0</td>\n",
              "    </tr>\n",
              "    <tr>\n",
              "      <th>crew</th>\n",
              "      <td>0</td>\n",
              "    </tr>\n",
              "    <tr>\n",
              "      <th>overview</th>\n",
              "      <td>3</td>\n",
              "    </tr>\n",
              "  </tbody>\n",
              "</table>\n",
              "</div><br><label><b>dtype:</b> int64</label>"
            ]
          },
          "metadata": {},
          "execution_count": 51
        }
      ]
    },
    {
      "cell_type": "markdown",
      "source": [
        "drop this row"
      ],
      "metadata": {
        "id": "Q8mQ8e42wNNn"
      }
    },
    {
      "cell_type": "code",
      "source": [
        "movies.dropna(inplace=True)"
      ],
      "metadata": {
        "id": "rAMigbCev5EG"
      },
      "execution_count": null,
      "outputs": []
    },
    {
      "cell_type": "markdown",
      "source": [
        "check duplicates"
      ],
      "metadata": {
        "id": "9I0aI4P8woGW"
      }
    },
    {
      "cell_type": "code",
      "source": [
        "movies.duplicated().sum()"
      ],
      "metadata": {
        "colab": {
          "base_uri": "https://localhost:8080/"
        },
        "id": "Bo7cFBJxwm2_",
        "outputId": "dbe3a079-74db-4526-a4de-ce33503b869f"
      },
      "execution_count": null,
      "outputs": [
        {
          "output_type": "execute_result",
          "data": {
            "text/plain": [
              "0"
            ]
          },
          "metadata": {},
          "execution_count": 53
        }
      ]
    },
    {
      "cell_type": "code",
      "source": [
        "# movies.iloc[0].genres\n",
        "movies['genres'].iloc[0]  #uporer ta r eta, both are same"
      ],
      "metadata": {
        "colab": {
          "base_uri": "https://localhost:8080/",
          "height": 36
        },
        "id": "YIUhl8LTwvjW",
        "outputId": "b8abc4b5-7c1f-40a5-fb5f-97470394d6e0"
      },
      "execution_count": null,
      "outputs": [
        {
          "output_type": "execute_result",
          "data": {
            "text/plain": [
              "'[{\"id\": 28, \"name\": \"Action\"}, {\"id\": 12, \"name\": \"Adventure\"}, {\"id\": 14, \"name\": \"Fantasy\"}, {\"id\": 878, \"name\": \"Science Fiction\"}]'"
            ],
            "application/vnd.google.colaboratory.intrinsic+json": {
              "type": "string"
            }
          },
          "metadata": {},
          "execution_count": 54
        }
      ]
    },
    {
      "cell_type": "markdown",
      "source": [
        "[{\"id\": 28, \"name\": \"Action\"}, {\"id\": 12, \"name\": \"Adventure\"}, {\"id\": 14, \"name\": \"Fantasy\"}, {\"id\": 878, \"name\": \"Science Fiction\"}]\n",
        "\n",
        "but we need [ 'Action', 'Adventure' , 'Fantasy' , 'Science Fiction' ] like this form"
      ],
      "metadata": {
        "id": "eVP4y8AVyY7H"
      }
    },
    {
      "cell_type": "code",
      "source": [
        "# create a helper function to get this form\n",
        "def convert(obj):\n",
        "  l = []\n",
        "  for i in obj:\n",
        "    l.append(i['name'])\n",
        "  return l"
      ],
      "metadata": {
        "id": "qll5Xadayt1G"
      },
      "execution_count": null,
      "outputs": []
    },
    {
      "cell_type": "code",
      "source": [
        "convert([{\"id\": 28, \"name\": \"Action\"}, {\"id\": 12, \"name\": \"Adventure\"}, {\"id\": 14, \"name\": \"Fantasy\"}, {\"id\": 878, \"name\": \"Science Fiction\"}] ) # first and last a quote na dile thik thak chole"
      ],
      "metadata": {
        "colab": {
          "base_uri": "https://localhost:8080/"
        },
        "collapsed": true,
        "id": "URKFIZyU0r0_",
        "outputId": "e955e9d2-57ef-47a7-d987-a39e500ca535"
      },
      "execution_count": null,
      "outputs": [
        {
          "output_type": "execute_result",
          "data": {
            "text/plain": [
              "['Action', 'Adventure', 'Fantasy', 'Science Fiction']"
            ]
          },
          "metadata": {},
          "execution_count": 58
        }
      ]
    },
    {
      "cell_type": "markdown",
      "source": [
        "[{\"id\": 28, \"name\": \"Action\"}, {\"id\": 12, \"name\": \"Adventure\"}, {\"id\": 14, \"name\": \"Fantasy\"}, {\"id\": 878, \"name\": \"Science Fiction\"}]\n",
        "i have to create this string to list. so i use ast.literal_eval() from ast"
      ],
      "metadata": {
        "id": "Vzs6ClY3zmH-"
      }
    },
    {
      "cell_type": "code",
      "source": [
        "import ast\n",
        "ast.literal_eval('[{\"id\": 28, \"name\": \"Action\"}, {\"id\": 12, \"name\": \"Adventure\"}, {\"id\": 14, \"name\": \"Fantasy\"}, {\"id\": 878, \"name\": \"Science Fiction\"}]')"
      ],
      "metadata": {
        "colab": {
          "base_uri": "https://localhost:8080/"
        },
        "id": "HiiFjiHx1c7-",
        "outputId": "cac0f27b-97eb-489a-ec2f-470adb2b2410",
        "collapsed": true
      },
      "execution_count": null,
      "outputs": [
        {
          "output_type": "execute_result",
          "data": {
            "text/plain": [
              "[{'id': 28, 'name': 'Action'},\n",
              " {'id': 12, 'name': 'Adventure'},\n",
              " {'id': 14, 'name': 'Fantasy'},\n",
              " {'id': 878, 'name': 'Science Fiction'}]"
            ]
          },
          "metadata": {},
          "execution_count": 59
        }
      ]
    },
    {
      "cell_type": "markdown",
      "source": [
        "**Convert** this [{\"id\": 28, \"name\": \"Action\"}, {\"id\": 12, \"name\": \"Adventure\"}, {\"id\": 14, \"name\": \"Fantasy\"}, {\"id\": 878, \"name\": \"Science Fiction\"}]    to [Action, Adventure, Fantasy, Science Fiction]"
      ],
      "metadata": {
        "id": "GEoBDXbDNttX"
      }
    },
    {
      "cell_type": "code",
      "source": [
        "def convert1(obj):\n",
        "  l = []\n",
        "  for i in ast.literal_eval(obj):\n",
        "    l.append(i['name'])\n",
        "  return l"
      ],
      "metadata": {
        "id": "K7lapNXk2k2v"
      },
      "execution_count": null,
      "outputs": []
    },
    {
      "cell_type": "code",
      "source": [
        "movies['genres'] = movies['genres'].apply(convert1)"
      ],
      "metadata": {
        "id": "gQHa6sVi18E9"
      },
      "execution_count": null,
      "outputs": []
    },
    {
      "cell_type": "code",
      "source": [
        "movies['keywords'] = movies['keywords'].apply(convert1)"
      ],
      "metadata": {
        "id": "np6NbSBy24BF"
      },
      "execution_count": null,
      "outputs": []
    },
    {
      "cell_type": "code",
      "source": [
        "movies.head(4)"
      ],
      "metadata": {
        "colab": {
          "base_uri": "https://localhost:8080/",
          "height": 244
        },
        "id": "xcT_NZQ63KJd",
        "outputId": "f9bc2e17-9acf-46e4-8854-9dd34ec8513d"
      },
      "execution_count": null,
      "outputs": [
        {
          "output_type": "execute_result",
          "data": {
            "text/plain": [
              "   movie_id                                     title  \\\n",
              "0     19995                                    Avatar   \n",
              "1       285  Pirates of the Caribbean: At World's End   \n",
              "2    206647                                   Spectre   \n",
              "3     49026                     The Dark Knight Rises   \n",
              "\n",
              "                                          genres  \\\n",
              "0  [Action, Adventure, Fantasy, Science Fiction]   \n",
              "1                   [Adventure, Fantasy, Action]   \n",
              "2                     [Action, Adventure, Crime]   \n",
              "3               [Action, Crime, Drama, Thriller]   \n",
              "\n",
              "                                            keywords  \\\n",
              "0  [culture clash, future, space war, space colon...   \n",
              "1  [ocean, drug abuse, exotic island, east india ...   \n",
              "2  [spy, based on novel, secret agent, sequel, mi...   \n",
              "3  [dc comics, crime fighter, terrorist, secret i...   \n",
              "\n",
              "                                                cast  \\\n",
              "0  [{\"cast_id\": 242, \"character\": \"Jake Sully\", \"...   \n",
              "1  [{\"cast_id\": 4, \"character\": \"Captain Jack Spa...   \n",
              "2  [{\"cast_id\": 1, \"character\": \"James Bond\", \"cr...   \n",
              "3  [{\"cast_id\": 2, \"character\": \"Bruce Wayne / Ba...   \n",
              "\n",
              "                                                crew  \\\n",
              "0  [{\"credit_id\": \"52fe48009251416c750aca23\", \"de...   \n",
              "1  [{\"credit_id\": \"52fe4232c3a36847f800b579\", \"de...   \n",
              "2  [{\"credit_id\": \"54805967c3a36829b5002c41\", \"de...   \n",
              "3  [{\"credit_id\": \"52fe4781c3a36847f81398c3\", \"de...   \n",
              "\n",
              "                                            overview  \n",
              "0  In the 22nd century, a paraplegic Marine is di...  \n",
              "1  Captain Barbossa, long believed to be dead, ha...  \n",
              "2  A cryptic message from Bond’s past sends him o...  \n",
              "3  Following the death of District Attorney Harve...  "
            ],
            "text/html": [
              "\n",
              "  <div id=\"df-456c097e-5b2f-43f0-8af7-0fd7b3a64690\" class=\"colab-df-container\">\n",
              "    <div>\n",
              "<style scoped>\n",
              "    .dataframe tbody tr th:only-of-type {\n",
              "        vertical-align: middle;\n",
              "    }\n",
              "\n",
              "    .dataframe tbody tr th {\n",
              "        vertical-align: top;\n",
              "    }\n",
              "\n",
              "    .dataframe thead th {\n",
              "        text-align: right;\n",
              "    }\n",
              "</style>\n",
              "<table border=\"1\" class=\"dataframe\">\n",
              "  <thead>\n",
              "    <tr style=\"text-align: right;\">\n",
              "      <th></th>\n",
              "      <th>movie_id</th>\n",
              "      <th>title</th>\n",
              "      <th>genres</th>\n",
              "      <th>keywords</th>\n",
              "      <th>cast</th>\n",
              "      <th>crew</th>\n",
              "      <th>overview</th>\n",
              "    </tr>\n",
              "  </thead>\n",
              "  <tbody>\n",
              "    <tr>\n",
              "      <th>0</th>\n",
              "      <td>19995</td>\n",
              "      <td>Avatar</td>\n",
              "      <td>[Action, Adventure, Fantasy, Science Fiction]</td>\n",
              "      <td>[culture clash, future, space war, space colon...</td>\n",
              "      <td>[{\"cast_id\": 242, \"character\": \"Jake Sully\", \"...</td>\n",
              "      <td>[{\"credit_id\": \"52fe48009251416c750aca23\", \"de...</td>\n",
              "      <td>In the 22nd century, a paraplegic Marine is di...</td>\n",
              "    </tr>\n",
              "    <tr>\n",
              "      <th>1</th>\n",
              "      <td>285</td>\n",
              "      <td>Pirates of the Caribbean: At World's End</td>\n",
              "      <td>[Adventure, Fantasy, Action]</td>\n",
              "      <td>[ocean, drug abuse, exotic island, east india ...</td>\n",
              "      <td>[{\"cast_id\": 4, \"character\": \"Captain Jack Spa...</td>\n",
              "      <td>[{\"credit_id\": \"52fe4232c3a36847f800b579\", \"de...</td>\n",
              "      <td>Captain Barbossa, long believed to be dead, ha...</td>\n",
              "    </tr>\n",
              "    <tr>\n",
              "      <th>2</th>\n",
              "      <td>206647</td>\n",
              "      <td>Spectre</td>\n",
              "      <td>[Action, Adventure, Crime]</td>\n",
              "      <td>[spy, based on novel, secret agent, sequel, mi...</td>\n",
              "      <td>[{\"cast_id\": 1, \"character\": \"James Bond\", \"cr...</td>\n",
              "      <td>[{\"credit_id\": \"54805967c3a36829b5002c41\", \"de...</td>\n",
              "      <td>A cryptic message from Bond’s past sends him o...</td>\n",
              "    </tr>\n",
              "    <tr>\n",
              "      <th>3</th>\n",
              "      <td>49026</td>\n",
              "      <td>The Dark Knight Rises</td>\n",
              "      <td>[Action, Crime, Drama, Thriller]</td>\n",
              "      <td>[dc comics, crime fighter, terrorist, secret i...</td>\n",
              "      <td>[{\"cast_id\": 2, \"character\": \"Bruce Wayne / Ba...</td>\n",
              "      <td>[{\"credit_id\": \"52fe4781c3a36847f81398c3\", \"de...</td>\n",
              "      <td>Following the death of District Attorney Harve...</td>\n",
              "    </tr>\n",
              "  </tbody>\n",
              "</table>\n",
              "</div>\n",
              "    <div class=\"colab-df-buttons\">\n",
              "\n",
              "  <div class=\"colab-df-container\">\n",
              "    <button class=\"colab-df-convert\" onclick=\"convertToInteractive('df-456c097e-5b2f-43f0-8af7-0fd7b3a64690')\"\n",
              "            title=\"Convert this dataframe to an interactive table.\"\n",
              "            style=\"display:none;\">\n",
              "\n",
              "  <svg xmlns=\"http://www.w3.org/2000/svg\" height=\"24px\" viewBox=\"0 -960 960 960\">\n",
              "    <path d=\"M120-120v-720h720v720H120Zm60-500h600v-160H180v160Zm220 220h160v-160H400v160Zm0 220h160v-160H400v160ZM180-400h160v-160H180v160Zm440 0h160v-160H620v160ZM180-180h160v-160H180v160Zm440 0h160v-160H620v160Z\"/>\n",
              "  </svg>\n",
              "    </button>\n",
              "\n",
              "  <style>\n",
              "    .colab-df-container {\n",
              "      display:flex;\n",
              "      gap: 12px;\n",
              "    }\n",
              "\n",
              "    .colab-df-convert {\n",
              "      background-color: #E8F0FE;\n",
              "      border: none;\n",
              "      border-radius: 50%;\n",
              "      cursor: pointer;\n",
              "      display: none;\n",
              "      fill: #1967D2;\n",
              "      height: 32px;\n",
              "      padding: 0 0 0 0;\n",
              "      width: 32px;\n",
              "    }\n",
              "\n",
              "    .colab-df-convert:hover {\n",
              "      background-color: #E2EBFA;\n",
              "      box-shadow: 0px 1px 2px rgba(60, 64, 67, 0.3), 0px 1px 3px 1px rgba(60, 64, 67, 0.15);\n",
              "      fill: #174EA6;\n",
              "    }\n",
              "\n",
              "    .colab-df-buttons div {\n",
              "      margin-bottom: 4px;\n",
              "    }\n",
              "\n",
              "    [theme=dark] .colab-df-convert {\n",
              "      background-color: #3B4455;\n",
              "      fill: #D2E3FC;\n",
              "    }\n",
              "\n",
              "    [theme=dark] .colab-df-convert:hover {\n",
              "      background-color: #434B5C;\n",
              "      box-shadow: 0px 1px 3px 1px rgba(0, 0, 0, 0.15);\n",
              "      filter: drop-shadow(0px 1px 2px rgba(0, 0, 0, 0.3));\n",
              "      fill: #FFFFFF;\n",
              "    }\n",
              "  </style>\n",
              "\n",
              "    <script>\n",
              "      const buttonEl =\n",
              "        document.querySelector('#df-456c097e-5b2f-43f0-8af7-0fd7b3a64690 button.colab-df-convert');\n",
              "      buttonEl.style.display =\n",
              "        google.colab.kernel.accessAllowed ? 'block' : 'none';\n",
              "\n",
              "      async function convertToInteractive(key) {\n",
              "        const element = document.querySelector('#df-456c097e-5b2f-43f0-8af7-0fd7b3a64690');\n",
              "        const dataTable =\n",
              "          await google.colab.kernel.invokeFunction('convertToInteractive',\n",
              "                                                    [key], {});\n",
              "        if (!dataTable) return;\n",
              "\n",
              "        const docLinkHtml = 'Like what you see? Visit the ' +\n",
              "          '<a target=\"_blank\" href=https://colab.research.google.com/notebooks/data_table.ipynb>data table notebook</a>'\n",
              "          + ' to learn more about interactive tables.';\n",
              "        element.innerHTML = '';\n",
              "        dataTable['output_type'] = 'display_data';\n",
              "        await google.colab.output.renderOutput(dataTable, element);\n",
              "        const docLink = document.createElement('div');\n",
              "        docLink.innerHTML = docLinkHtml;\n",
              "        element.appendChild(docLink);\n",
              "      }\n",
              "    </script>\n",
              "  </div>\n",
              "\n",
              "\n",
              "<div id=\"df-83a85cb4-38a3-4454-9efd-1945ac4d5004\">\n",
              "  <button class=\"colab-df-quickchart\" onclick=\"quickchart('df-83a85cb4-38a3-4454-9efd-1945ac4d5004')\"\n",
              "            title=\"Suggest charts\"\n",
              "            style=\"display:none;\">\n",
              "\n",
              "<svg xmlns=\"http://www.w3.org/2000/svg\" height=\"24px\"viewBox=\"0 0 24 24\"\n",
              "     width=\"24px\">\n",
              "    <g>\n",
              "        <path d=\"M19 3H5c-1.1 0-2 .9-2 2v14c0 1.1.9 2 2 2h14c1.1 0 2-.9 2-2V5c0-1.1-.9-2-2-2zM9 17H7v-7h2v7zm4 0h-2V7h2v10zm4 0h-2v-4h2v4z\"/>\n",
              "    </g>\n",
              "</svg>\n",
              "  </button>\n",
              "\n",
              "<style>\n",
              "  .colab-df-quickchart {\n",
              "      --bg-color: #E8F0FE;\n",
              "      --fill-color: #1967D2;\n",
              "      --hover-bg-color: #E2EBFA;\n",
              "      --hover-fill-color: #174EA6;\n",
              "      --disabled-fill-color: #AAA;\n",
              "      --disabled-bg-color: #DDD;\n",
              "  }\n",
              "\n",
              "  [theme=dark] .colab-df-quickchart {\n",
              "      --bg-color: #3B4455;\n",
              "      --fill-color: #D2E3FC;\n",
              "      --hover-bg-color: #434B5C;\n",
              "      --hover-fill-color: #FFFFFF;\n",
              "      --disabled-bg-color: #3B4455;\n",
              "      --disabled-fill-color: #666;\n",
              "  }\n",
              "\n",
              "  .colab-df-quickchart {\n",
              "    background-color: var(--bg-color);\n",
              "    border: none;\n",
              "    border-radius: 50%;\n",
              "    cursor: pointer;\n",
              "    display: none;\n",
              "    fill: var(--fill-color);\n",
              "    height: 32px;\n",
              "    padding: 0;\n",
              "    width: 32px;\n",
              "  }\n",
              "\n",
              "  .colab-df-quickchart:hover {\n",
              "    background-color: var(--hover-bg-color);\n",
              "    box-shadow: 0 1px 2px rgba(60, 64, 67, 0.3), 0 1px 3px 1px rgba(60, 64, 67, 0.15);\n",
              "    fill: var(--button-hover-fill-color);\n",
              "  }\n",
              "\n",
              "  .colab-df-quickchart-complete:disabled,\n",
              "  .colab-df-quickchart-complete:disabled:hover {\n",
              "    background-color: var(--disabled-bg-color);\n",
              "    fill: var(--disabled-fill-color);\n",
              "    box-shadow: none;\n",
              "  }\n",
              "\n",
              "  .colab-df-spinner {\n",
              "    border: 2px solid var(--fill-color);\n",
              "    border-color: transparent;\n",
              "    border-bottom-color: var(--fill-color);\n",
              "    animation:\n",
              "      spin 1s steps(1) infinite;\n",
              "  }\n",
              "\n",
              "  @keyframes spin {\n",
              "    0% {\n",
              "      border-color: transparent;\n",
              "      border-bottom-color: var(--fill-color);\n",
              "      border-left-color: var(--fill-color);\n",
              "    }\n",
              "    20% {\n",
              "      border-color: transparent;\n",
              "      border-left-color: var(--fill-color);\n",
              "      border-top-color: var(--fill-color);\n",
              "    }\n",
              "    30% {\n",
              "      border-color: transparent;\n",
              "      border-left-color: var(--fill-color);\n",
              "      border-top-color: var(--fill-color);\n",
              "      border-right-color: var(--fill-color);\n",
              "    }\n",
              "    40% {\n",
              "      border-color: transparent;\n",
              "      border-right-color: var(--fill-color);\n",
              "      border-top-color: var(--fill-color);\n",
              "    }\n",
              "    60% {\n",
              "      border-color: transparent;\n",
              "      border-right-color: var(--fill-color);\n",
              "    }\n",
              "    80% {\n",
              "      border-color: transparent;\n",
              "      border-right-color: var(--fill-color);\n",
              "      border-bottom-color: var(--fill-color);\n",
              "    }\n",
              "    90% {\n",
              "      border-color: transparent;\n",
              "      border-bottom-color: var(--fill-color);\n",
              "    }\n",
              "  }\n",
              "</style>\n",
              "\n",
              "  <script>\n",
              "    async function quickchart(key) {\n",
              "      const quickchartButtonEl =\n",
              "        document.querySelector('#' + key + ' button');\n",
              "      quickchartButtonEl.disabled = true;  // To prevent multiple clicks.\n",
              "      quickchartButtonEl.classList.add('colab-df-spinner');\n",
              "      try {\n",
              "        const charts = await google.colab.kernel.invokeFunction(\n",
              "            'suggestCharts', [key], {});\n",
              "      } catch (error) {\n",
              "        console.error('Error during call to suggestCharts:', error);\n",
              "      }\n",
              "      quickchartButtonEl.classList.remove('colab-df-spinner');\n",
              "      quickchartButtonEl.classList.add('colab-df-quickchart-complete');\n",
              "    }\n",
              "    (() => {\n",
              "      let quickchartButtonEl =\n",
              "        document.querySelector('#df-83a85cb4-38a3-4454-9efd-1945ac4d5004 button');\n",
              "      quickchartButtonEl.style.display =\n",
              "        google.colab.kernel.accessAllowed ? 'block' : 'none';\n",
              "    })();\n",
              "  </script>\n",
              "</div>\n",
              "\n",
              "    </div>\n",
              "  </div>\n"
            ],
            "application/vnd.google.colaboratory.intrinsic+json": {
              "type": "dataframe",
              "variable_name": "movies",
              "summary": "{\n  \"name\": \"movies\",\n  \"rows\": 4806,\n  \"fields\": [\n    {\n      \"column\": \"movie_id\",\n      \"properties\": {\n        \"dtype\": \"number\",\n        \"std\": 88309,\n        \"min\": 5,\n        \"max\": 447027,\n        \"num_unique_values\": 4800,\n        \"samples\": [\n          8427,\n          9555,\n          10029\n        ],\n        \"semantic_type\": \"\",\n        \"description\": \"\"\n      }\n    },\n    {\n      \"column\": \"title\",\n      \"properties\": {\n        \"dtype\": \"string\",\n        \"num_unique_values\": 4797,\n        \"samples\": [\n          \"Two Brothers\",\n          \"From Paris with Love\",\n          \"Walk the Line\"\n        ],\n        \"semantic_type\": \"\",\n        \"description\": \"\"\n      }\n    },\n    {\n      \"column\": \"genres\",\n      \"properties\": {\n        \"dtype\": \"object\",\n        \"semantic_type\": \"\",\n        \"description\": \"\"\n      }\n    },\n    {\n      \"column\": \"keywords\",\n      \"properties\": {\n        \"dtype\": \"object\",\n        \"semantic_type\": \"\",\n        \"description\": \"\"\n      }\n    },\n    {\n      \"column\": \"cast\",\n      \"properties\": {\n        \"dtype\": \"string\",\n        \"num_unique_values\": 4759,\n        \"samples\": [\n          \"[{\\\"cast_id\\\": 1, \\\"character\\\": \\\"Mac Radner\\\", \\\"credit_id\\\": \\\"52fe4d169251416c9110a20b\\\", \\\"gender\\\": 2, \\\"id\\\": 19274, \\\"name\\\": \\\"Seth Rogen\\\", \\\"order\\\": 0}, {\\\"cast_id\\\": 3, \\\"character\\\": \\\"Teddy Sanders\\\", \\\"credit_id\\\": \\\"52fe4d169251416c9110a213\\\", \\\"gender\\\": 2, \\\"id\\\": 29222, \\\"name\\\": \\\"Zac Efron\\\", \\\"order\\\": 1}, {\\\"cast_id\\\": 2, \\\"character\\\": \\\"Kelly Radner\\\", \\\"credit_id\\\": \\\"52fe4d169251416c9110a20f\\\", \\\"gender\\\": 1, \\\"id\\\": 9827, \\\"name\\\": \\\"Rose Byrne\\\", \\\"order\\\": 2}, {\\\"cast_id\\\": 4, \\\"character\\\": \\\"Pete Regazolli\\\", \\\"credit_id\\\": \\\"52fe4d169251416c9110a217\\\", \\\"gender\\\": 2, \\\"id\\\": 54697, \\\"name\\\": \\\"Dave Franco\\\", \\\"order\\\": 3}, {\\\"cast_id\\\": 14, \\\"character\\\": \\\"Jimmy Blevins\\\", \\\"credit_id\\\": \\\"52fe4d169251416c9110a245\\\", \\\"gender\\\": 2, \\\"id\\\": 198150, \\\"name\\\": \\\"Ike Barinholtz\\\", \\\"order\\\": 4}, {\\\"cast_id\\\": 5, \\\"character\\\": \\\"Scoonie Schofield\\\", \\\"credit_id\\\": \\\"52fe4d169251416c9110a21b\\\", \\\"gender\\\": 2, \\\"id\\\": 54691, \\\"name\\\": \\\"Christopher Mintz-Plasse\\\", \\\"order\\\": 5}, {\\\"cast_id\\\": 11, \\\"character\\\": \\\"Paula Faldt\\\", \\\"credit_id\\\": \\\"52fe4d169251416c9110a239\\\", \\\"gender\\\": 1, \\\"id\\\": 54708, \\\"name\\\": \\\"Carla Gallo\\\", \\\"order\\\": 6}, {\\\"cast_id\\\": 20, \\\"character\\\": \\\"Brooke Shy\\\", \\\"credit_id\\\": \\\"5326a290c3a3683dbf003e48\\\", \\\"gender\\\": 1, \\\"id\\\": 934243, \\\"name\\\": \\\"Halston Sage\\\", \\\"order\\\": 7}, {\\\"cast_id\\\": 15, \\\"character\\\": \\\"Assjuice\\\", \\\"credit_id\\\": \\\"52fe4d169251416c9110a249\\\", \\\"gender\\\": 2, \\\"id\\\": 104561, \\\"name\\\": \\\"Craig Roberts\\\", \\\"order\\\": 8}, {\\\"cast_id\\\": 21, \\\"character\\\": \\\"Officer Watkins\\\", \\\"credit_id\\\": \\\"5326a2b3c3a3682378003f42\\\", \\\"gender\\\": 0, \\\"id\\\": 500427, \\\"name\\\": \\\"Hannibal Buress\\\", \\\"order\\\": 9}, {\\\"cast_id\\\": 9, \\\"character\\\": \\\"Carol Gladstone\\\", \\\"credit_id\\\": \\\"52fe4d169251416c9110a231\\\", \\\"gender\\\": 1, \\\"id\\\": 14406, \\\"name\\\": \\\"Lisa Kudrow\\\", \\\"order\\\": 10}, {\\\"cast_id\\\": 16, \\\"character\\\": \\\"Dr. Theodorakis\\\", \\\"credit_id\\\": \\\"52fe4d169251416c9110a24d\\\", \\\"gender\\\": 0, \\\"id\\\": 111683, \\\"name\\\": \\\"Jason Mantzoukas\\\", \\\"order\\\": 11}, {\\\"cast_id\\\": 42, \\\"character\\\": \\\"Garf\\\", \\\"credit_id\\\": \\\"54cf6fef92514147570082cf\\\", \\\"gender\\\": 2, \\\"id\\\": 1400880, \\\"name\\\": \\\"Jerrod Carmichael\\\", \\\"order\\\": 12}, {\\\"cast_id\\\": 40, \\\"character\\\": \\\"Whitney\\\", \\\"credit_id\\\": \\\"53fd31e7c3a3684c8c0004da\\\", \\\"gender\\\": 1, \\\"id\\\": 496731, \\\"name\\\": \\\"Ali Cobrin\\\", \\\"order\\\": 13}, {\\\"cast_id\\\": 65, \\\"character\\\": \\\"Stella Radner\\\", \\\"credit_id\\\": \\\"56ca131e92514102ad003abd\\\", \\\"gender\\\": 1, \\\"id\\\": 1581096, \\\"name\\\": \\\"Elise Vargas\\\", \\\"order\\\": 14}, {\\\"cast_id\\\": 66, \\\"character\\\": \\\"Stella Radner\\\", \\\"credit_id\\\": \\\"56ca133c92514123f8001a49\\\", \\\"gender\\\": 1, \\\"id\\\": 1581097, \\\"name\\\": \\\"Zoey Vargas\\\", \\\"order\\\": 15}, {\\\"cast_id\\\": 67, \\\"character\\\": \\\"Bill Wazowkowski\\\", \\\"credit_id\\\": \\\"56ca13d692514130a9001a7d\\\", \\\"gender\\\": 2, \\\"id\\\": 54728, \\\"name\\\": \\\"Brian Huskey\\\", \\\"order\\\": 16}, {\\\"cast_id\\\": 68, \\\"character\\\": \\\"Brittany\\\", \\\"credit_id\\\": \\\"56ca1476925141172f0085da\\\", \\\"gender\\\": 1, \\\"id\\\": 1498472, \\\"name\\\": \\\"Kira Sternbach\\\", \\\"order\\\": 17}, {\\\"cast_id\\\": 80, \\\"character\\\": \\\"Rep\\\", \\\"credit_id\\\": \\\"56ca1968c3a368408c009718\\\", \\\"gender\\\": 2, \\\"id\\\": 79082, \\\"name\\\": \\\"Randall Park\\\", \\\"order\\\": 18}, {\\\"cast_id\\\": 10, \\\"character\\\": \\\"Sebastian Cremmington\\\", \\\"credit_id\\\": \\\"52fe4d169251416c9110a235\\\", \\\"gender\\\": 2, \\\"id\\\": 543505, \\\"name\\\": \\\"Jake Johnson\\\", \\\"order\\\": 19}, {\\\"cast_id\\\": 71, \\\"character\\\": \\\"Thumbsucker\\\", \\\"credit_id\\\": \\\"56ca15de92514123b8001c84\\\", \\\"gender\\\": 2, \\\"id\\\": 1581100, \\\"name\\\": \\\"Steven Michael Eich\\\", \\\"order\\\": 20}, {\\\"cast_id\\\": 69, \\\"character\\\": \\\"Rival Frat Guy #1\\\", \\\"credit_id\\\": \\\"56ca14ee92514123f8001ab5\\\", \\\"gender\\\": 2, \\\"id\\\": 1037154, \\\"name\\\": \\\"Fahim Anwar\\\", \\\"order\\\": 21}, {\\\"cast_id\\\": 70, \\\"character\\\": \\\"Rival Frat Guy #2\\\", \\\"credit_id\\\": \\\"56ca15029251411ea80089e2\\\", \\\"gender\\\": 2, \\\"id\\\": 1581098, \\\"name\\\": \\\"Ori Kalmus\\\", \\\"order\\\": 22}, {\\\"cast_id\\\": 44, \\\"character\\\": \\\"Toga #1\\\", \\\"credit_id\\\": \\\"55b08b8cc3a3682d6300ade0\\\", \\\"gender\\\": 2, \\\"id\\\": 62861, \\\"name\\\": \\\"Andy Samberg\\\", \\\"order\\\": 23}, {\\\"cast_id\\\": 72, \\\"character\\\": \\\"Toga #2\\\", \\\"credit_id\\\": \\\"56ca15ffc3a3684095008dca\\\", \\\"gender\\\": 2, \\\"id\\\": 62854, \\\"name\\\": \\\"Akiva Schaffer\\\", \\\"order\\\": 24}, {\\\"cast_id\\\": 73, \\\"character\\\": \\\"Toga #3\\\", \\\"credit_id\\\": \\\"56ca161292514102ad003b8f\\\", \\\"gender\\\": 2, \\\"id\\\": 62863, \\\"name\\\": \\\"Jorma Taccone\\\", \\\"order\\\": 25}, {\\\"cast_id\\\": 74, \\\"character\\\": \\\"Beer Pong Guy #1\\\", \\\"credit_id\\\": \\\"56ca1667c3a3684097009945\\\", \\\"gender\\\": 2, \\\"id\\\": 212604, \\\"name\\\": \\\"Adam Devine\\\", \\\"order\\\": 26}, {\\\"cast_id\\\": 75, \\\"character\\\": \\\"Beer Pong Guy #2\\\", \\\"credit_id\\\": \\\"56ca168092514123b8001cbc\\\", \\\"gender\\\": 0, \\\"id\\\": 521564, \\\"name\\\": \\\"Blake Anderson\\\", \\\"order\\\": 27}, {\\\"cast_id\\\": 76, \\\"character\\\": \\\"Beer Pong Guy #3\\\", \\\"credit_id\\\": \\\"56ca1695c3a3684095008df6\\\", \\\"gender\\\": 2, \\\"id\\\": 521563, \\\"name\\\": \\\"Anders Holm\\\", \\\"order\\\": 28}, {\\\"cast_id\\\": 83, \\\"character\\\": \\\"Wendy the Realtor\\\", \\\"credit_id\\\": \\\"57d2e8ecc3a36842910013bd\\\", \\\"gender\\\": 1, \\\"id\\\": 448309, \\\"name\\\": \\\"Liz Cackowski\\\", \\\"order\\\": 29}, {\\\"cast_id\\\": 77, \\\"character\\\": \\\"Beer Pong Guy #4\\\", \\\"credit_id\\\": \\\"56ca16ad925141172f008677\\\", \\\"gender\\\": 0, \\\"id\\\": 1254001, \\\"name\\\": \\\"Kyle Newacheck\\\", \\\"order\\\": 30}, {\\\"cast_id\\\": 79, \\\"character\\\": \\\"The Babysitter\\\", \\\"credit_id\\\": \\\"56ca18f692514123b8001d81\\\", \\\"gender\\\": 2, \\\"id\\\": 168872, \\\"name\\\": \\\"Jesse Heiman\\\", \\\"order\\\": 31}, {\\\"cast_id\\\": 18, \\\"character\\\": \\\"Sorority Girl\\\", \\\"credit_id\\\": \\\"52fe4d169251416c9110a255\\\", \\\"gender\\\": 0, \\\"id\\\": 1203537, \\\"name\\\": \\\"Cassandra Starr\\\", \\\"order\\\": 32}, {\\\"cast_id\\\": 41, \\\"character\\\": \\\"Prostitute\\\", \\\"credit_id\\\": \\\"542719230e0a2655660005f7\\\", \\\"gender\\\": 1, \\\"id\\\": 1214835, \\\"name\\\": \\\"Natasha Leggero\\\", \\\"order\\\": 33}, {\\\"cast_id\\\": 43, \\\"character\\\": \\\"Prostitute (uncredited)\\\", \\\"credit_id\\\": \\\"55143ac392514103e9003032\\\", \\\"gender\\\": 1, \\\"id\\\": 142402, \\\"name\\\": \\\"Maria Olsen\\\", \\\"order\\\": 34}, {\\\"cast_id\\\": 63, \\\"character\\\": \\\"JJ (uncredited)\\\", \\\"credit_id\\\": \\\"56c795ba925141723c000251\\\", \\\"gender\\\": 2, \\\"id\\\": 1398257, \\\"name\\\": \\\"Stephen Todt\\\", \\\"order\\\": 35}, {\\\"cast_id\\\": 78, \\\"character\\\": \\\"Birthday Party Jumper (uncredited)\\\", \\\"credit_id\\\": \\\"56ca1882c3a3684089008d24\\\", \\\"gender\\\": 2, \\\"id\\\": 1413876, \\\"name\\\": \\\"Michael Angeloe\\\", \\\"order\\\": 36}, {\\\"cast_id\\\": 64, \\\"character\\\": \\\"Homeless Man (uncredited)\\\", \\\"credit_id\\\": \\\"56c8bdd1925141172f003b39\\\", \\\"gender\\\": 2, \\\"id\\\": 1580574, \\\"name\\\": \\\"Gary Sievers\\\", \\\"order\\\": 37}, {\\\"cast_id\\\": 81, \\\"character\\\": \\\"Gay Couple (uncredited)\\\", \\\"credit_id\\\": \\\"56ca1af3c3a3684087008fa8\\\", \\\"gender\\\": 2, \\\"id\\\": 1581102, \\\"name\\\": \\\"Casey Ford Alexander\\\", \\\"order\\\": 38}, {\\\"cast_id\\\": 85, \\\"character\\\": \\\"Alecia (uncredited)\\\", \\\"credit_id\\\": \\\"57d2e9bb9251410d1b001237\\\", \\\"gender\\\": 1, \\\"id\\\": 1158832, \\\"name\\\": \\\"Chasty Ballesteros\\\", \\\"order\\\": 39}, {\\\"cast_id\\\": 84, \\\"character\\\": \\\"Sorority Girl (uncredited)\\\", \\\"credit_id\\\": \\\"57d2e9a9c3a368427800121a\\\", \\\"gender\\\": 1, \\\"id\\\": 1676856, \\\"name\\\": \\\"Melanie Avalon\\\", \\\"order\\\": 40}, {\\\"cast_id\\\": 86, \\\"character\\\": \\\"Sorority Girl (uncredited)\\\", \\\"credit_id\\\": \\\"57d2ea1d9251410d190012d9\\\", \\\"gender\\\": 1, \\\"id\\\": 1379512, \\\"name\\\": \\\"Marianne Bourg\\\", \\\"order\\\": 41}, {\\\"cast_id\\\": 87, \\\"character\\\": \\\"Sorority Girl (uncredited)\\\", \\\"credit_id\\\": \\\"57d2ea8ec3a36842910014ce\\\", \\\"gender\\\": 1, \\\"id\\\": 1676864, \\\"name\\\": \\\"Erika Del Toro\\\", \\\"order\\\": 42}, {\\\"cast_id\\\": 88, \\\"character\\\": \\\"Sorority Girl (uncredited)\\\", \\\"credit_id\\\": \\\"57d2ea9fc3a36842810015af\\\", \\\"gender\\\": 1, \\\"id\\\": 1676865, \\\"name\\\": \\\"Alanna Dergan\\\", \\\"order\\\": 43}, {\\\"cast_id\\\": 89, \\\"character\\\": \\\"Sorority Girl (uncredited)\\\", \\\"credit_id\\\": \\\"57d2eb74c3a36842850015e3\\\", \\\"gender\\\": 1, \\\"id\\\": 1351205, \\\"name\\\": \\\"Elsi Eng\\\", \\\"order\\\": 44}, {\\\"cast_id\\\": 90, \\\"character\\\": \\\"Sorority Girl (uncredited)\\\", \\\"credit_id\\\": \\\"57d2eb859251410d1b00130b\\\", \\\"gender\\\": 1, \\\"id\\\": 1676867, \\\"name\\\": \\\"Ayesha Fraser\\\", \\\"order\\\": 45}, {\\\"cast_id\\\": 91, \\\"character\\\": \\\"Sorority Girl (uncredited)\\\", \\\"credit_id\\\": \\\"57d2ecb19251410d1e0014ba\\\", \\\"gender\\\": 1, \\\"id\\\": 1634314, \\\"name\\\": \\\"Courtney Hart\\\", \\\"order\\\": 46}, {\\\"cast_id\\\": 92, \\\"character\\\": \\\"Sorority Girl (uncredited)\\\", \\\"credit_id\\\": \\\"57d2ecefc3a3684278001365\\\", \\\"gender\\\": 1, \\\"id\\\": 1198989, \\\"name\\\": \\\"Danika Galindo\\\", \\\"order\\\": 47}, {\\\"cast_id\\\": 93, \\\"character\\\": \\\"Sorority Girl (uncredited)\\\", \\\"credit_id\\\": \\\"57d2ed9fc3a36842850016eb\\\", \\\"gender\\\": 0, \\\"id\\\": 1203537, \\\"name\\\": \\\"Cassandra Starr\\\", \\\"order\\\": 48}, {\\\"cast_id\\\": 94, \\\"character\\\": \\\"Sorority Girl (uncredited)\\\", \\\"credit_id\\\": \\\"57d2edaf9251410d1e001529\\\", \\\"gender\\\": 1, \\\"id\\\": 1676871, \\\"name\\\": \\\"Valeria Sweet\\\", \\\"order\\\": 49}, {\\\"cast_id\\\": 95, \\\"character\\\": \\\"Sorority Girl (uncredited)\\\", \\\"credit_id\\\": \\\"596c870c9251416c38009cf6\\\", \\\"gender\\\": 1, \\\"id\\\": 592342, \\\"name\\\": \\\"Bridgetta Tomarchio\\\", \\\"order\\\": 50}]\",\n          \"[{\\\"cast_id\\\": 3, \\\"character\\\": \\\"Richard O'Connell\\\", \\\"credit_id\\\": \\\"52fe4312c3a36847f8038407\\\", \\\"gender\\\": 2, \\\"id\\\": 18269, \\\"name\\\": \\\"Brendan Fraser\\\", \\\"order\\\": 0}, {\\\"cast_id\\\": 4, \\\"character\\\": \\\"Evelyn Carnahan O'Connell/Princess Nefertiri\\\", \\\"credit_id\\\": \\\"52fe4312c3a36847f803840b\\\", \\\"gender\\\": 1, \\\"id\\\": 3293, \\\"name\\\": \\\"Rachel Weisz\\\", \\\"order\\\": 1}, {\\\"cast_id\\\": 5, \\\"character\\\": \\\"Jonathan Carnahan\\\", \\\"credit_id\\\": \\\"52fe4312c3a36847f803840f\\\", \\\"gender\\\": 2, \\\"id\\\": 10727, \\\"name\\\": \\\"John Hannah\\\", \\\"order\\\": 2}, {\\\"cast_id\\\": 6, \\\"character\\\": \\\"High Priest Imhotep\\\", \\\"credit_id\\\": \\\"52fe4312c3a36847f8038413\\\", \\\"gender\\\": 2, \\\"id\\\": 16743, \\\"name\\\": \\\"Arnold Vosloo\\\", \\\"order\\\": 3}, {\\\"cast_id\\\": 7, \\\"character\\\": \\\"Ardeth Bay\\\", \\\"credit_id\\\": \\\"52fe4312c3a36847f8038417\\\", \\\"gender\\\": 2, \\\"id\\\": 18041, \\\"name\\\": \\\"Oded Fehr\\\", \\\"order\\\": 4}, {\\\"cast_id\\\": 8, \\\"character\\\": \\\"Mathayus the Scorpion King\\\", \\\"credit_id\\\": \\\"52fe4312c3a36847f803841b\\\", \\\"gender\\\": 2, \\\"id\\\": 18918, \\\"name\\\": \\\"Dwayne Johnson\\\", \\\"order\\\": 5}, {\\\"cast_id\\\": 9, \\\"character\\\": \\\"Alexander O'Connell\\\", \\\"credit_id\\\": \\\"52fe4312c3a36847f803841f\\\", \\\"gender\\\": 2, \\\"id\\\": 18919, \\\"name\\\": \\\"Freddie Boath\\\", \\\"order\\\": 6}, {\\\"cast_id\\\": 10, \\\"character\\\": \\\"Meela Nais/Anck Su Namun\\\", \\\"credit_id\\\": \\\"52fe4312c3a36847f8038423\\\", \\\"gender\\\": 1, \\\"id\\\": 18920, \\\"name\\\": \\\"Patricia Vel\\\\u00e1squez\\\", \\\"order\\\": 7}, {\\\"cast_id\\\": 17, \\\"character\\\": \\\"Baltus Hafez\\\", \\\"credit_id\\\": \\\"52fe4312c3a36847f803844b\\\", \\\"gender\\\": 2, \\\"id\\\": 2629, \\\"name\\\": \\\"Alun Armstrong\\\", \\\"order\\\": 8}, {\\\"cast_id\\\": 18, \\\"character\\\": \\\"Lock-Nah\\\", \\\"credit_id\\\": \\\"52fe4312c3a36847f803844f\\\", \\\"gender\\\": 2, \\\"id\\\": 31164, \\\"name\\\": \\\"Adewale Akinnuoye-Agbaje\\\", \\\"order\\\": 9}, {\\\"cast_id\\\": 19, \\\"character\\\": \\\"Izzy Buttons\\\", \\\"credit_id\\\": \\\"52fe4312c3a36847f8038453\\\", \\\"gender\\\": 2, \\\"id\\\": 30316, \\\"name\\\": \\\"Shaun Parkes\\\", \\\"order\\\": 10}, {\\\"cast_id\\\": 20, \\\"character\\\": \\\"Red\\\", \\\"credit_id\\\": \\\"52fe4312c3a36847f8038457\\\", \\\"gender\\\": 0, \\\"id\\\": 25675, \\\"name\\\": \\\"Bruce Byron\\\", \\\"order\\\": 11}, {\\\"cast_id\\\": 21, \\\"character\\\": \\\"Jacques\\\", \\\"credit_id\\\": \\\"52fe4312c3a36847f803845b\\\", \\\"gender\\\": 0, \\\"id\\\": 1010264, \\\"name\\\": \\\"Joe Dixon\\\", \\\"order\\\": 12}, {\\\"cast_id\\\": 22, \\\"character\\\": \\\"Spivey\\\", \\\"credit_id\\\": \\\"52fe4312c3a36847f803845f\\\", \\\"gender\\\": 2, \\\"id\\\": 208211, \\\"name\\\": \\\"Thomas Fisher\\\", \\\"order\\\": 13}, {\\\"cast_id\\\": 23, \\\"character\\\": \\\"Pharaoh Seti I\\\", \\\"credit_id\\\": \\\"52fe4312c3a36847f8038463\\\", \\\"gender\\\": 2, \\\"id\\\": 25808, \\\"name\\\": \\\"Aharon Ipal\\\\u00e9\\\", \\\"order\\\": 14}, {\\\"cast_id\\\": 24, \\\"character\\\": \\\"Shafek\\\", \\\"credit_id\\\": \\\"52fe4312c3a36847f8038467\\\", \\\"gender\\\": 0, \\\"id\\\": 178631, \\\"name\\\": \\\"Quill Roberts\\\", \\\"order\\\": 15}, {\\\"cast_id\\\": 25, \\\"character\\\": \\\"Showgirl with Jonathan\\\", \\\"credit_id\\\": \\\"52fe4312c3a36847f803846b\\\", \\\"gender\\\": 1, \\\"id\\\": 120886, \\\"name\\\": \\\"Donna Air\\\", \\\"order\\\": 16}, {\\\"cast_id\\\": 26, \\\"character\\\": \\\"Mountain of Flesh\\\", \\\"credit_id\\\": \\\"52fe4312c3a36847f803846f\\\", \\\"gender\\\": 0, \\\"id\\\": 1077874, \\\"name\\\": \\\"Trevor Lovell\\\", \\\"order\\\": 17}, {\\\"cast_id\\\": 30, \\\"character\\\": \\\"Spivey\\\", \\\"credit_id\\\": \\\"536222b20e0a2649a900146a\\\", \\\"gender\\\": 0, \\\"id\\\": 27678, \\\"name\\\": \\\"Tom Fisher\\\", \\\"order\\\": 18}]\",\n          \"[{\\\"cast_id\\\": 13, \\\"character\\\": \\\"Major Alan 'Dutch' Schaeffer\\\", \\\"credit_id\\\": \\\"52fe4218c3a36847f8003b53\\\", \\\"gender\\\": 2, \\\"id\\\": 1100, \\\"name\\\": \\\"Arnold Schwarzenegger\\\", \\\"order\\\": 0}, {\\\"cast_id\\\": 14, \\\"character\\\": \\\"Major George Dillon\\\", \\\"credit_id\\\": \\\"52fe4218c3a36847f8003b57\\\", \\\"gender\\\": 0, \\\"id\\\": 1101, \\\"name\\\": \\\"Carl Weathers\\\", \\\"order\\\": 1}, {\\\"cast_id\\\": 15, \\\"character\\\": \\\"Anna\\\", \\\"credit_id\\\": \\\"52fe4218c3a36847f8003b5b\\\", \\\"gender\\\": 1, \\\"id\\\": 1102, \\\"name\\\": \\\"Elpidia Carrillo\\\", \\\"order\\\": 2}, {\\\"cast_id\\\": 16, \\\"character\\\": \\\"Sergeant 'Mac' Eliot\\\", \\\"credit_id\\\": \\\"52fe4218c3a36847f8003b5f\\\", \\\"gender\\\": 2, \\\"id\\\": 1103, \\\"name\\\": \\\"Bill Duke\\\", \\\"order\\\": 3}, {\\\"cast_id\\\": 17, \\\"character\\\": \\\"Blain\\\", \\\"credit_id\\\": \\\"52fe4218c3a36847f8003b63\\\", \\\"gender\\\": 2, \\\"id\\\": 1104, \\\"name\\\": \\\"Jesse Ventura\\\", \\\"order\\\": 4}, {\\\"cast_id\\\": 18, \\\"character\\\": \\\"Billy\\\", \\\"credit_id\\\": \\\"52fe4218c3a36847f8003b67\\\", \\\"gender\\\": 2, \\\"id\\\": 1105, \\\"name\\\": \\\"Sonny Landham\\\", \\\"order\\\": 5}, {\\\"cast_id\\\": 19, \\\"character\\\": \\\"Poncho Ramirez\\\", \\\"credit_id\\\": \\\"52fe4218c3a36847f8003b6b\\\", \\\"gender\\\": 2, \\\"id\\\": 1106, \\\"name\\\": \\\"Richard Chaves\\\", \\\"order\\\": 6}, {\\\"cast_id\\\": 20, \\\"character\\\": \\\"General Phillips\\\", \\\"credit_id\\\": \\\"52fe4218c3a36847f8003b6f\\\", \\\"gender\\\": 2, \\\"id\\\": 1107, \\\"name\\\": \\\"R. G. Armstrong\\\", \\\"order\\\": 7}, {\\\"cast_id\\\": 21, \\\"character\\\": \\\"Hawkins\\\", \\\"credit_id\\\": \\\"52fe4218c3a36847f8003b73\\\", \\\"gender\\\": 2, \\\"id\\\": 1108, \\\"name\\\": \\\"Shane Black\\\", \\\"order\\\": 8}, {\\\"cast_id\\\": 23, \\\"character\\\": \\\"Helicopter Pilot / Predator\\\", \\\"credit_id\\\": \\\"52fe4218c3a36847f8003b7b\\\", \\\"gender\\\": 2, \\\"id\\\": 1109, \\\"name\\\": \\\"Kevin Peter Hall\\\", \\\"order\\\": 10}, {\\\"cast_id\\\": 25, \\\"character\\\": \\\"Russian Officer (uncredited)\\\", \\\"credit_id\\\": \\\"5742adfe9251416ce6002052\\\", \\\"gender\\\": 2, \\\"id\\\": 20761, \\\"name\\\": \\\"Sven-Ole Thorsen\\\", \\\"order\\\": 11}]\"\n        ],\n        \"semantic_type\": \"\",\n        \"description\": \"\"\n      }\n    },\n    {\n      \"column\": \"crew\",\n      \"properties\": {\n        \"dtype\": \"string\",\n        \"num_unique_values\": 4773,\n        \"samples\": [\n          \"[{\\\"credit_id\\\": \\\"538d82720e0a26670e005e83\\\", \\\"department\\\": \\\"Editing\\\", \\\"gender\\\": 2, \\\"id\\\": 898, \\\"job\\\": \\\"Editor\\\", \\\"name\\\": \\\"Mark Goldblatt\\\"}, {\\\"credit_id\\\": \\\"538d82860e0a266702005de5\\\", \\\"department\\\": \\\"Editing\\\", \\\"gender\\\": 2, \\\"id\\\": 1098, \\\"job\\\": \\\"Editor\\\", \\\"name\\\": \\\"Mark Helfrich\\\"}, {\\\"credit_id\\\": \\\"538d820c0e0a266708006129\\\", \\\"department\\\": \\\"Production\\\", \\\"gender\\\": 0, \\\"id\\\": 2095, \\\"job\\\": \\\"Producer\\\", \\\"name\\\": \\\"Ralph Winter\\\"}, {\\\"credit_id\\\": \\\"538d82d30e0a266712005def\\\", \\\"department\\\": \\\"Production\\\", \\\"gender\\\": 2, \\\"id\\\": 2624, \\\"job\\\": \\\"Casting\\\", \\\"name\\\": \\\"Richard Pagano\\\"}, {\\\"credit_id\\\": \\\"538d82ea0e0a266715005e74\\\", \\\"department\\\": \\\"Art\\\", \\\"gender\\\": 2, \\\"id\\\": 4953, \\\"job\\\": \\\"Production Design\\\", \\\"name\\\": \\\"Ed Verreaux\\\"}, {\\\"credit_id\\\": \\\"538d82ad0e0a26670800614d\\\", \\\"department\\\": \\\"Production\\\", \\\"gender\\\": 1, \\\"id\\\": 5362, \\\"job\\\": \\\"Casting\\\", \\\"name\\\": \\\"Heike Brandstatter\\\"}, {\\\"credit_id\\\": \\\"538d82c00e0a266705005fa2\\\", \\\"department\\\": \\\"Production\\\", \\\"gender\\\": 1, \\\"id\\\": 5363, \\\"job\\\": \\\"Casting\\\", \\\"name\\\": \\\"Coreen Mayrs\\\"}, {\\\"credit_id\\\": \\\"538d845ec3a368713c0047d2\\\", \\\"department\\\": \\\"Costume & Make-Up\\\", \\\"gender\\\": 0, \\\"id\\\": 6924, \\\"job\\\": \\\"Costume Supervisor\\\", \\\"name\\\": \\\"Dan Moore\\\"}, {\\\"credit_id\\\": \\\"538d81ef0e0a266718005cb8\\\", \\\"department\\\": \\\"Production\\\", \\\"gender\\\": 1, \\\"id\\\": 7200, \\\"job\\\": \\\"Producer\\\", \\\"name\\\": \\\"Lauren Shuler Donner\\\"}, {\\\"credit_id\\\": \\\"576710bec3a36806720004b0\\\", \\\"department\\\": \\\"Production\\\", \\\"gender\\\": 2, \\\"id\\\": 7624, \\\"job\\\": \\\"Executive Producer\\\", \\\"name\\\": \\\"Stan Lee\\\"}, {\\\"credit_id\\\": \\\"538d81d80e0a266715005e4d\\\", \\\"department\\\": \\\"Production\\\", \\\"gender\\\": 2, \\\"id\\\": 7626, \\\"job\\\": \\\"Producer\\\", \\\"name\\\": \\\"Avi Arad\\\"}, {\\\"credit_id\\\": \\\"5767101092514165c20000db\\\", \\\"department\\\": \\\"Production\\\", \\\"gender\\\": 2, \\\"id\\\": 10850, \\\"job\\\": \\\"Executive Producer\\\", \\\"name\\\": \\\"Kevin Feige\\\"}, {\\\"credit_id\\\": \\\"538d83ba0e0a26670b005ded\\\", \\\"department\\\": \\\"Costume & Make-Up\\\", \\\"gender\\\": 1, \\\"id\\\": 10970, \\\"job\\\": \\\"Costume Design\\\", \\\"name\\\": \\\"Judianna Makovsky\\\"}, {\\\"credit_id\\\": \\\"538d83620e0a266715005e82\\\", \\\"department\\\": \\\"Art\\\", \\\"gender\\\": 2, \\\"id\\\": 10549, \\\"job\\\": \\\"Art Direction\\\", \\\"name\\\": \\\"Justin Scoppa Jr.\\\"}, {\\\"credit_id\\\": \\\"5626465bc3a3680e0e01704b\\\", \\\"department\\\": \\\"Sound\\\", \\\"gender\\\": 2, \\\"id\\\": 11098, \\\"job\\\": \\\"Original Music Composer\\\", \\\"name\\\": \\\"John Powell\\\"}, {\\\"credit_id\\\": \\\"52fe45ff9251416c910459e1\\\", \\\"department\\\": \\\"Writing\\\", \\\"gender\\\": 2, \\\"id\\\": 11092, \\\"job\\\": \\\"Screenplay\\\", \\\"name\\\": \\\"Simon Kinberg\\\"}, {\\\"credit_id\\\": \\\"56abe4ecc3a3681c47003aa3\\\", \\\"department\\\": \\\"Crew\\\", \\\"gender\\\": 2, \\\"id\\\": 15017, \\\"job\\\": \\\"Makeup Effects\\\", \\\"name\\\": \\\"Bill Corso\\\"}, {\\\"credit_id\\\": \\\"538d82560e0a266705005f94\\\", \\\"department\\\": \\\"Camera\\\", \\\"gender\\\": 2, \\\"id\\\": 11099, \\\"job\\\": \\\"Director of Photography\\\", \\\"name\\\": \\\"Dante Spinotti\\\"}, {\\\"credit_id\\\": \\\"52fe45ff9251416c910459e7\\\", \\\"department\\\": \\\"Writing\\\", \\\"gender\\\": 2, \\\"id\\\": 11011, \\\"job\\\": \\\"Screenplay\\\", \\\"name\\\": \\\"Zak Penn\\\"}, {\\\"credit_id\\\": \\\"52fe45ff9251416c910459db\\\", \\\"department\\\": \\\"Directing\\\", \\\"gender\\\": 2, \\\"id\\\": 11091, \\\"job\\\": \\\"Director\\\", \\\"name\\\": \\\"Brett Ratner\\\"}, {\\\"credit_id\\\": \\\"538d834f0e0a266712005dfe\\\", \\\"department\\\": \\\"Art\\\", \\\"gender\\\": 1, \\\"id\\\": 22061, \\\"job\\\": \\\"Art Direction\\\", \\\"name\\\": \\\"Helen Jarvis\\\"}, {\\\"credit_id\\\": \\\"538d83a50e0a266715005e8b\\\", \\\"department\\\": \\\"Art\\\", \\\"gender\\\": 1, \\\"id\\\": 11021, \\\"job\\\": \\\"Set Decoration\\\", \\\"name\\\": \\\"Elizabeth Wilcox\\\"}, {\\\"credit_id\\\": \\\"538d83220e0a266702005df6\\\", \\\"department\\\": \\\"Art\\\", \\\"gender\\\": 0, \\\"id\\\": 11102, \\\"job\\\": \\\"Art Direction\\\", \\\"name\\\": \\\"Chad S. Frey\\\"}, {\\\"credit_id\\\": \\\"570b8dde9251412c740020d0\\\", \\\"department\\\": \\\"Art\\\", \\\"gender\\\": 0, \\\"id\\\": 46082, \\\"job\\\": \\\"Supervising Art Director\\\", \\\"name\\\": \\\"Geoff Hubbard\\\"}, {\\\"credit_id\\\": \\\"538d83ce0e0a266702005e02\\\", \\\"department\\\": \\\"Costume & Make-Up\\\", \\\"gender\\\": 2, \\\"id\\\": 11106, \\\"job\\\": \\\"Costume Design\\\", \\\"name\\\": \\\"Lisa Tomczeszyn\\\"}, {\\\"credit_id\\\": \\\"560046499251414e4d000197\\\", \\\"department\\\": \\\"Crew\\\", \\\"gender\\\": 0, \\\"id\\\": 113194, \\\"job\\\": \\\"Stunts\\\", \\\"name\\\": \\\"James Bamford\\\"}, {\\\"credit_id\\\": \\\"538d82990e0a266712005de9\\\", \\\"department\\\": \\\"Editing\\\", \\\"gender\\\": 1, \\\"id\\\": 11100, \\\"job\\\": \\\"Editor\\\", \\\"name\\\": \\\"Julia Wong\\\"}, {\\\"credit_id\\\": \\\"57671042c3a36806b3000104\\\", \\\"department\\\": \\\"Production\\\", \\\"gender\\\": 2, \\\"id\\\": 11095, \\\"job\\\": \\\"Co-Producer\\\", \\\"name\\\": \\\"James M. Freitag\\\"}, {\\\"credit_id\\\": \\\"57670fdbc3a3680722000106\\\", \\\"department\\\": \\\"Production\\\", \\\"gender\\\": 2, \\\"id\\\": 11014, \\\"job\\\": \\\"Co-Producer\\\", \\\"name\\\": \\\"Ross Fanger\\\"}, {\\\"credit_id\\\": \\\"538d83750e0a26670b005de5\\\", \\\"department\\\": \\\"Art\\\", \\\"gender\\\": 0, \\\"id\\\": 223991, \\\"job\\\": \\\"Art Direction\\\", \\\"name\\\": \\\"Sandi Tanaka\\\"}, {\\\"credit_id\\\": \\\"576710f192514133c5001213\\\", \\\"department\\\": \\\"Production\\\", \\\"gender\\\": 0, \\\"id\\\": 1182092, \\\"job\\\": \\\"Executive Producer\\\", \\\"name\\\": \\\"John Palermo\\\"}, {\\\"credit_id\\\": \\\"55402d2fc3a3681da0000633\\\", \\\"department\\\": \\\"Visual Effects\\\", \\\"gender\\\": 0, \\\"id\\\": 1395269, \\\"job\\\": \\\"Visual Effects Supervisor\\\", \\\"name\\\": \\\"John Bruno\\\"}, {\\\"credit_id\\\": \\\"563a9ed79251416d520145a0\\\", \\\"department\\\": \\\"Crew\\\", \\\"gender\\\": 0, \\\"id\\\": 1401803, \\\"job\\\": \\\"Digital Effects Supervisor\\\", \\\"name\\\": \\\"Guy Williams\\\"}, {\\\"credit_id\\\": \\\"5767112fc3a3680722000132\\\", \\\"department\\\": \\\"Production\\\", \\\"gender\\\": 0, \\\"id\\\": 1432021, \\\"job\\\": \\\"Co-Producer\\\", \\\"name\\\": \\\"Kurt Williams\\\"}, {\\\"credit_id\\\": \\\"55423048c3a36829e5003bc8\\\", \\\"department\\\": \\\"Crew\\\", \\\"gender\\\": 0, \\\"id\\\": 1447557, \\\"job\\\": \\\"Compositors\\\", \\\"name\\\": \\\"Rachel Wyn Dunn\\\"}, {\\\"credit_id\\\": \\\"552986b4c3a368596e001a79\\\", \\\"department\\\": \\\"Visual Effects\\\", \\\"gender\\\": 0, \\\"id\\\": 1452932, \\\"job\\\": \\\"Animation\\\", \\\"name\\\": \\\"Joel Fletcher\\\"}, {\\\"credit_id\\\": \\\"57670f92925141655a000109\\\", \\\"department\\\": \\\"Production\\\", \\\"gender\\\": 0, \\\"id\\\": 1477146, \\\"job\\\": \\\"Co-Producer\\\", \\\"name\\\": \\\"Lee Cleary\\\"}, {\\\"credit_id\\\": \\\"5767107c925141655a00012c\\\", \\\"department\\\": \\\"Production\\\", \\\"gender\\\": 0, \\\"id\\\": 1477147, \\\"job\\\": \\\"Associate Producer\\\", \\\"name\\\": \\\"David Gorder\\\"}, {\\\"credit_id\\\": \\\"5767105bc3a36850c4000573\\\", \\\"department\\\": \\\"Production\\\", \\\"gender\\\": 2, \\\"id\\\": 1477203, \\\"job\\\": \\\"Associate Producer\\\", \\\"name\\\": \\\"Luca Marco Paracels\\\"}]\",\n          \"[{\\\"credit_id\\\": \\\"58dd0e90c3a368223e00b59c\\\", \\\"department\\\": \\\"Production\\\", \\\"gender\\\": 1, \\\"id\\\": 546, \\\"job\\\": \\\"Casting\\\", \\\"name\\\": \\\"Jeanne McCarthy\\\"}, {\\\"credit_id\\\": \\\"52fe43bb9251416c7501bf83\\\", \\\"department\\\": \\\"Production\\\", \\\"gender\\\": 2, \\\"id\\\": 2043, \\\"job\\\": \\\"Producer\\\", \\\"name\\\": \\\"John Davis\\\"}, {\\\"credit_id\\\": \\\"5539fe35c3a3685cf8002f1e\\\", \\\"department\\\": \\\"Sound\\\", \\\"gender\\\": 2, \\\"id\\\": 3393, \\\"job\\\": \\\"Original Music Composer\\\", \\\"name\\\": \\\"David Newman\\\"}, {\\\"credit_id\\\": \\\"58dd0d3fc3a368228a00aa50\\\", \\\"department\\\": \\\"Production\\\", \\\"gender\\\": 0, \\\"id\\\": 6187, \\\"job\\\": \\\"Associate Producer\\\", \\\"name\\\": \\\"Aldric La'Auli Porter\\\"}, {\\\"credit_id\\\": \\\"5990427f925141672302ba00\\\", \\\"department\\\": \\\"Directing\\\", \\\"gender\\\": 0, \\\"id\\\": 6187, \\\"job\\\": \\\"First Assistant Director\\\", \\\"name\\\": \\\"Aldric La'Auli Porter\\\"}, {\\\"credit_id\\\": \\\"58dd0efdc3a368228300b438\\\", \\\"department\\\": \\\"Art\\\", \\\"gender\\\": 2, \\\"id\\\": 6877, \\\"job\\\": \\\"Production Design\\\", \\\"name\\\": \\\"William Sandell\\\"}, {\\\"credit_id\\\": \\\"58dd0f56925141411000c340\\\", \\\"department\\\": \\\"Art\\\", \\\"gender\\\": 2, \\\"id\\\": 6880, \\\"job\\\": \\\"Set Decoration\\\", \\\"name\\\": \\\"Robert Gould\\\"}, {\\\"credit_id\\\": \\\"58dd0f1fc3a36822a600c1dd\\\", \\\"department\\\": \\\"Art\\\", \\\"gender\\\": 2, \\\"id\\\": 8705, \\\"job\\\": \\\"Art Direction\\\", \\\"name\\\": \\\"Brad Ricker\\\"}, {\\\"credit_id\\\": \\\"5990490b925141673e02d2f5\\\", \\\"department\\\": \\\"Sound\\\", \\\"gender\\\": 0, \\\"id\\\": 8763, \\\"job\\\": \\\"Foley Editor\\\", \\\"name\\\": \\\"Dan Yale\\\"}, {\\\"credit_id\\\": \\\"58dd0d3192514140f600b915\\\", \\\"department\\\": \\\"Production\\\", \\\"gender\\\": 2, \\\"id\\\": 8880, \\\"job\\\": \\\"Executive Producer\\\", \\\"name\\\": \\\"Neil A. Machlis\\\"}, {\\\"credit_id\\\": \\\"58dd0e0bc3a368229300bdf6\\\", \\\"department\\\": \\\"Production\\\", \\\"gender\\\": 1, \\\"id\\\": 14377, \\\"job\\\": \\\"Casting\\\", \\\"name\\\": \\\"Juel Bestrop\\\"}, {\\\"credit_id\\\": \\\"599045b6925141672302bdac\\\", \\\"department\\\": \\\"Art\\\", \\\"gender\\\": 0, \\\"id\\\": 12639, \\\"job\\\": \\\"Set Designer\\\", \\\"name\\\": \\\"Hugo Santiago\\\"}, {\\\"credit_id\\\": \\\"58dd0f69c3a368228300b48f\\\", \\\"department\\\": \\\"Costume & Make-Up\\\", \\\"gender\\\": 1, \\\"id\\\": 15524, \\\"job\\\": \\\"Costume Design\\\", \\\"name\\\": \\\"Ruth E. Carter\\\"}, {\\\"credit_id\\\": \\\"52fe43bb9251416c7501bf9b\\\", \\\"department\\\": \\\"Editing\\\", \\\"gender\\\": 2, \\\"id\\\": 18276, \\\"job\\\": \\\"Editor\\\", \\\"name\\\": \\\"Craig Herring\\\"}, {\\\"credit_id\\\": \\\"58dd0f2f92514140fa00c653\\\", \\\"department\\\": \\\"Art\\\", \\\"gender\\\": 2, \\\"id\\\": 13434, \\\"job\\\": \\\"Supervising Art Director\\\", \\\"name\\\": \\\"Bruce Crone\\\"}, {\\\"credit_id\\\": \\\"59904bcdc3a368744202b9fb\\\", \\\"department\\\": \\\"Visual Effects\\\", \\\"gender\\\": 0, \\\"id\\\": 27100, \\\"job\\\": \\\"Visual Effects Supervisor\\\", \\\"name\\\": \\\"Douglas Smith\\\"}, {\\\"credit_id\\\": \\\"52fe43bb9251416c7501bf7d\\\", \\\"department\\\": \\\"Writing\\\", \\\"gender\\\": 2, \\\"id\\\": 31026, \\\"job\\\": \\\"Screenplay\\\", \\\"name\\\": \\\"Larry Levin\\\"}, {\\\"credit_id\\\": \\\"58dd0c8592514140fa00c441\\\", \\\"department\\\": \\\"Production\\\", \\\"gender\\\": 1, \\\"id\\\": 49907, \\\"job\\\": \\\"Co-Producer\\\", \\\"name\\\": \\\"Michele Imperato\\\"}, {\\\"credit_id\\\": \\\"58dd0fb0c3a368227300bfad\\\", \\\"department\\\": \\\"Production\\\", \\\"gender\\\": 1, \\\"id\\\": 49907, \\\"job\\\": \\\"Unit Production Manager\\\", \\\"name\\\": \\\"Michele Imperato\\\"}, {\\\"credit_id\\\": \\\"52fe43bb9251416c7501bfb1\\\", \\\"department\\\": \\\"Directing\\\", \\\"gender\\\": 2, \\\"id\\\": 52112, \\\"job\\\": \\\"Director\\\", \\\"name\\\": \\\"Steve Carr\\\"}, {\\\"credit_id\\\": \\\"5990471cc3a36874a302bbdc\\\", \\\"department\\\": \\\"Sound\\\", \\\"gender\\\": 2, \\\"id\\\": 52193, \\\"job\\\": \\\"Dialogue Editor\\\", \\\"name\\\": \\\"R.J. Kizer\\\"}, {\\\"credit_id\\\": \\\"52fe43bb9251416c7501bf95\\\", \\\"department\\\": \\\"Camera\\\", \\\"gender\\\": 2, \\\"id\\\": 56324, \\\"job\\\": \\\"Director of Photography\\\", \\\"name\\\": \\\"Daryn Okada\\\"}, {\\\"credit_id\\\": \\\"52fe43bb9251416c7501bf89\\\", \\\"department\\\": \\\"Production\\\", \\\"gender\\\": 2, \\\"id\\\": 56053, \\\"job\\\": \\\"Producer\\\", \\\"name\\\": \\\"Joseph Singer\\\"}, {\\\"credit_id\\\": \\\"59904a06925141676602b701\\\", \\\"department\\\": \\\"Crew\\\", \\\"gender\\\": 2, \\\"id\\\": 57769, \\\"job\\\": \\\"Visual Effects Editor\\\", \\\"name\\\": \\\"Peter S. Elliot\\\"}, {\\\"credit_id\\\": \\\"58dd0d4c92514140fa00c4da\\\", \\\"department\\\": \\\"Production\\\", \\\"gender\\\": 1, \\\"id\\\": 66921, \\\"job\\\": \\\"Co-Producer\\\", \\\"name\\\": \\\"Heidi Santelli\\\"}, {\\\"credit_id\\\": \\\"59905155c3a36874b402a906\\\", \\\"department\\\": \\\"Sound\\\", \\\"gender\\\": 0, \\\"id\\\": 91324, \\\"job\\\": \\\"Music Editor\\\", \\\"name\\\": \\\"Tom Villano\\\"}, {\\\"credit_id\\\": \\\"5990424a925141676602adf3\\\", \\\"department\\\": \\\"Costume & Make-Up\\\", \\\"gender\\\": 0, \\\"id\\\": 168214, \\\"job\\\": \\\"Makeup Artist\\\", \\\"name\\\": \\\"Judy Murdock\\\"}, {\\\"credit_id\\\": \\\"59904eae925141673e02da30\\\", \\\"department\\\": \\\"Camera\\\", \\\"gender\\\": 2, \\\"id\\\": 555085, \\\"job\\\": \\\"Still Photographer\\\", \\\"name\\\": \\\"Bruce McBroom\\\"}, {\\\"credit_id\\\": \\\"599041d0c3a36874a302b5e9\\\", \\\"department\\\": \\\"Costume & Make-Up\\\", \\\"gender\\\": 0, \\\"id\\\": 1015965, \\\"job\\\": \\\"Makeup Department Head\\\", \\\"name\\\": \\\"Kris Evans\\\"}, {\\\"credit_id\\\": \\\"58dd11a2c3a368227300c14b\\\", \\\"department\\\": \\\"Production\\\", \\\"gender\\\": 0, \\\"id\\\": 1113659, \\\"job\\\": \\\"Location Manager\\\", \\\"name\\\": \\\"Iddo Lampton Enochs Jr.\\\"}, {\\\"credit_id\\\": \\\"59904b71925141675f02b7e7\\\", \\\"department\\\": \\\"Crew\\\", \\\"gender\\\": 0, \\\"id\\\": 1178615, \\\"job\\\": \\\"CG Supervisor\\\", \\\"name\\\": \\\"Liz Radley\\\"}, {\\\"credit_id\\\": \\\"59904fe5c3a368744202bf0c\\\", \\\"department\\\": \\\"Costume & Make-Up\\\", \\\"gender\\\": 0, \\\"id\\\": 1319193, \\\"job\\\": \\\"Costume Supervisor\\\", \\\"name\\\": \\\"Donna Marcione Pollack\\\"}, {\\\"credit_id\\\": \\\"599044c4925141672302bc97\\\", \\\"department\\\": \\\"Art\\\", \\\"gender\\\": 0, \\\"id\\\": 1364403, \\\"job\\\": \\\"Greensman\\\", \\\"name\\\": \\\"Frank McEldowney\\\"}, {\\\"credit_id\\\": \\\"59904694925141673e02cfd2\\\", \\\"department\\\": \\\"Sound\\\", \\\"gender\\\": 0, \\\"id\\\": 1367505, \\\"job\\\": \\\"Dialogue Editor\\\", \\\"name\\\": \\\"Ted Caplan\\\"}, {\\\"credit_id\\\": \\\"5990439d925141675902ac1b\\\", \\\"department\\\": \\\"Art\\\", \\\"gender\\\": 0, \\\"id\\\": 1377216, \\\"job\\\": \\\"Art Department Coordinator\\\", \\\"name\\\": \\\"Gerald Lehtola\\\"}, {\\\"credit_id\\\": \\\"599045fb925141675f02b16c\\\", \\\"department\\\": \\\"Art\\\", \\\"gender\\\": 0, \\\"id\\\": 1378165, \\\"job\\\": \\\"Property Master\\\", \\\"name\\\": \\\"Mark Wade\\\"}, {\\\"credit_id\\\": \\\"58dd0fd0c3a368228a00abfb\\\", \\\"department\\\": \\\"Art\\\", \\\"gender\\\": 1, \\\"id\\\": 1378749, \\\"job\\\": \\\"Set Designer\\\", \\\"name\\\": \\\"Patricia Klawonn\\\"}, {\\\"credit_id\\\": \\\"58dd1023c3a368227300c025\\\", \\\"department\\\": \\\"Art\\\", \\\"gender\\\": 0, \\\"id\\\": 1389585, \\\"job\\\": \\\"Set Designer\\\", \\\"name\\\": \\\"Bill Taliaferro\\\"}, {\\\"credit_id\\\": \\\"59904785c3a3687493029126\\\", \\\"department\\\": \\\"Sound\\\", \\\"gender\\\": 0, \\\"id\\\": 1390527, \\\"job\\\": \\\"Sound Effects Editor\\\", \\\"name\\\": \\\"Dave Kulczycki\\\"}, {\\\"credit_id\\\": \\\"59905010925141675f02bd38\\\", \\\"department\\\": \\\"Costume & Make-Up\\\", \\\"gender\\\": 0, \\\"id\\\": 1399322, \\\"job\\\": \\\"Set Costumer\\\", \\\"name\\\": \\\"Elizabeth Frank\\\"}, {\\\"credit_id\\\": \\\"59904d81925141670b02cf99\\\", \\\"department\\\": \\\"Camera\\\", \\\"gender\\\": 2, \\\"id\\\": 1400374, \\\"job\\\": \\\"Camera Operator\\\", \\\"name\\\": \\\"Casey Hotchkiss\\\"}, {\\\"credit_id\\\": \\\"599046d2c3a3687493029074\\\", \\\"department\\\": \\\"Sound\\\", \\\"gender\\\": 0, \\\"id\\\": 1404841, \\\"job\\\": \\\"ADR Editor\\\", \\\"name\\\": \\\"Zack Davis\\\"}, {\\\"credit_id\\\": \\\"59904214c3a368746102979f\\\", \\\"department\\\": \\\"Costume & Make-Up\\\", \\\"gender\\\": 0, \\\"id\\\": 1408278, \\\"job\\\": \\\"Hair Department Head\\\", \\\"name\\\": \\\"Erma Kent\\\"}, {\\\"credit_id\\\": \\\"599048b2925141670b02c97f\\\", \\\"department\\\": \\\"Sound\\\", \\\"gender\\\": 0, \\\"id\\\": 1416153, \\\"job\\\": \\\"Supervising Sound Editor\\\", \\\"name\\\": \\\"Donald Sylvester\\\"}, {\\\"credit_id\\\": \\\"59904ad6c3a36874b402a1cc\\\", \\\"department\\\": \\\"Visual Effects\\\", \\\"gender\\\": 0, \\\"id\\\": 1416167, \\\"job\\\": \\\"Visual Effects Producer\\\", \\\"name\\\": \\\"John Kilkenny\\\"}, {\\\"credit_id\\\": \\\"56ae7d849251416357002915\\\", \\\"department\\\": \\\"Costume & Make-Up\\\", \\\"gender\\\": 1, \\\"id\\\": 1424894, \\\"job\\\": \\\"Hairstylist\\\", \\\"name\\\": \\\"Camille Friend\\\"}, {\\\"credit_id\\\": \\\"599047ab925141674c02b48e\\\", \\\"department\\\": \\\"Sound\\\", \\\"gender\\\": 0, \\\"id\\\": 1425343, \\\"job\\\": \\\"ADR Editor\\\", \\\"name\\\": \\\"Vanessa Lapato\\\"}, {\\\"credit_id\\\": \\\"59904951925141673902ae4e\\\", \\\"department\\\": \\\"Crew\\\", \\\"gender\\\": 0, \\\"id\\\": 1442509, \\\"job\\\": \\\"Special Effects Coordinator\\\", \\\"name\\\": \\\"Alan E. Lorimer\\\"}, {\\\"credit_id\\\": \\\"59904427925141675902acc6\\\", \\\"department\\\": \\\"Art\\\", \\\"gender\\\": 0, \\\"id\\\": 1451398, \\\"job\\\": \\\"Greensman\\\", \\\"name\\\": \\\"Bryan McBrien\\\"}, {\\\"credit_id\\\": \\\"59904629c3a368744202b2d6\\\", \\\"department\\\": \\\"Art\\\", \\\"gender\\\": 0, \\\"id\\\": 1453276, \\\"job\\\": \\\"Construction Coordinator\\\", \\\"name\\\": \\\"Butch West\\\"}, {\\\"credit_id\\\": \\\"599034bcc3a3687493027d17\\\", \\\"department\\\": \\\"Crew\\\", \\\"gender\\\": 2, \\\"id\\\": 1454647, \\\"job\\\": \\\"Creator\\\", \\\"name\\\": \\\"Hugh Lofting\\\"}, {\\\"credit_id\\\": \\\"58dd11f1c3a36822ae00bc75\\\", \\\"department\\\": \\\"Directing\\\", \\\"gender\\\": 1, \\\"id\\\": 1457729, \\\"job\\\": \\\"Script Supervisor\\\", \\\"name\\\": \\\"Nancy Karlin\\\"}, {\\\"credit_id\\\": \\\"59904a8d925141675f02b6d8\\\", \\\"department\\\": \\\"Visual Effects\\\", \\\"gender\\\": 0, \\\"id\\\": 1496418, \\\"job\\\": \\\"Visual Effects Coordinator\\\", \\\"name\\\": \\\"Mitchell Ferm\\\"}, {\\\"credit_id\\\": \\\"599050e6925141674c02beef\\\", \\\"department\\\": \\\"Sound\\\", \\\"gender\\\": 2, \\\"id\\\": 1550058, \\\"job\\\": \\\"Music Editor\\\", \\\"name\\\": \\\"Jim Harrison\\\"}, {\\\"credit_id\\\": \\\"58dd11b0c3a368223e00b7db\\\", \\\"department\\\": \\\"Art\\\", \\\"gender\\\": 0, \\\"id\\\": 1585159, \\\"job\\\": \\\"Location Scout\\\", \\\"name\\\": \\\"Jasan Sherman\\\"}, {\\\"credit_id\\\": \\\"5990453a925141673902a8ec\\\", \\\"department\\\": \\\"Art\\\", \\\"gender\\\": 0, \\\"id\\\": 1586888, \\\"job\\\": \\\"Sculptor\\\", \\\"name\\\": \\\"Thomas Meikle\\\"}, {\\\"credit_id\\\": \\\"5990506dc3a368747302c6e3\\\", \\\"department\\\": \\\"Sound\\\", \\\"gender\\\": 0, \\\"id\\\": 1587383, \\\"job\\\": \\\"Music Supervisor\\\", \\\"name\\\": \\\"Spring Aspers\\\"}, {\\\"credit_id\\\": \\\"59904fbb925141672302c9ed\\\", \\\"department\\\": \\\"Costume & Make-Up\\\", \\\"gender\\\": 0, \\\"id\\\": 1610228, \\\"job\\\": \\\"Key Costumer\\\", \\\"name\\\": \\\"Craig Anthony\\\"}, {\\\"credit_id\\\": \\\"599047e3925141674c02b4cf\\\", \\\"department\\\": \\\"Sound\\\", \\\"gender\\\": 2, \\\"id\\\": 1737829, \\\"job\\\": \\\"Boom Operator\\\", \\\"name\\\": \\\"Harrison D. Marsh\\\"}, {\\\"credit_id\\\": \\\"58dd10b2c3a368228300b588\\\", \\\"department\\\": \\\"Production\\\", \\\"gender\\\": 1, \\\"id\\\": 1763970, \\\"job\\\": \\\"Casting Assistant\\\", \\\"name\\\": \\\"Nadia Lubbe Simon\\\"}, {\\\"credit_id\\\": \\\"58dd1052925141413c00beac\\\", \\\"department\\\": \\\"Production\\\", \\\"gender\\\": 1, \\\"id\\\": 1786614, \\\"job\\\": \\\"Casting Associate\\\", \\\"name\\\": \\\"Diana Jaher\\\"}, {\\\"credit_id\\\": \\\"58dd11d5c3a368229d00b6a0\\\", \\\"department\\\": \\\"Production\\\", \\\"gender\\\": 0, \\\"id\\\": 1786616, \\\"job\\\": \\\"Location Manager\\\", \\\"name\\\": \\\"Craig W. van Gundy\\\"}, {\\\"credit_id\\\": \\\"58dd1254c3a368227300c1e6\\\", \\\"department\\\": \\\"Production\\\", \\\"gender\\\": 1, \\\"id\\\": 1786618, \\\"job\\\": \\\"Production Coordinator\\\", \\\"name\\\": \\\"Kris Fullan Martinez\\\"}, {\\\"credit_id\\\": \\\"599042f4c3a368744202aefa\\\", \\\"department\\\": \\\"Art\\\", \\\"gender\\\": 0, \\\"id\\\": 1868861, \\\"job\\\": \\\"Painter\\\", \\\"name\\\": \\\"Joe A. Hawthorne\\\"}, {\\\"credit_id\\\": \\\"5990448e925141675f02afa7\\\", \\\"department\\\": \\\"Crew\\\", \\\"gender\\\": 0, \\\"id\\\": 1868865, \\\"job\\\": \\\"Propmaker\\\", \\\"name\\\": \\\"Robert McDonald\\\"}, {\\\"credit_id\\\": \\\"59904571925141670b02c572\\\", \\\"department\\\": \\\"Crew\\\", \\\"gender\\\": 0, \\\"id\\\": 1868867, \\\"job\\\": \\\"Propmaker\\\", \\\"name\\\": \\\"Robert Prchal\\\"}, {\\\"credit_id\\\": \\\"599045da925141673902a9d7\\\", \\\"department\\\": \\\"Crew\\\", \\\"gender\\\": 0, \\\"id\\\": 1868868, \\\"job\\\": \\\"Propmaker\\\", \\\"name\\\": \\\"Hal Schlax\\\"}, {\\\"credit_id\\\": \\\"59904c34925141675f02b8bc\\\", \\\"department\\\": \\\"Crew\\\", \\\"gender\\\": 2, \\\"id\\\": 1868877, \\\"job\\\": \\\"Stunt Coordinator\\\", \\\"name\\\": \\\"John Molo\\\"}, {\\\"credit_id\\\": \\\"59904cac925141673e02d7a8\\\", \\\"department\\\": \\\"Camera\\\", \\\"gender\\\": 0, \\\"id\\\": 1868878, \\\"job\\\": \\\"Camera Operator\\\", \\\"name\\\": \\\"Todd Dos Reis\\\"}, {\\\"credit_id\\\": \\\"59904d04925141676602ba9a\\\", \\\"department\\\": \\\"Camera\\\", \\\"gender\\\": 0, \\\"id\\\": 1868879, \\\"job\\\": \\\"Dolly Grip\\\", \\\"name\\\": \\\"Jason D. Hodges\\\"}, {\\\"credit_id\\\": \\\"59904d3bc3a36874b402a4b0\\\", \\\"department\\\": \\\"Camera\\\", \\\"gender\\\": 0, \\\"id\\\": 1868880, \\\"job\\\": \\\"Key Grip\\\", \\\"name\\\": \\\"Mike Hodges\\\"}, {\\\"credit_id\\\": \\\"59904df0925141672302c7da\\\", \\\"department\\\": \\\"Lighting\\\", \\\"gender\\\": 0, \\\"id\\\": 1868881, \\\"job\\\": \\\"Gaffer\\\", \\\"name\\\": \\\"Kal Manning\\\"}, {\\\"credit_id\\\": \\\"59904ede925141675f02bbe6\\\", \\\"department\\\": \\\"Camera\\\", \\\"gender\\\": 0, \\\"id\\\": 1868889, \\\"job\\\": \\\"Dolly Grip\\\", \\\"name\\\": \\\"Larry McCarron\\\"}, {\\\"credit_id\\\": \\\"59905109925141673e02dcde\\\", \\\"department\\\": \\\"Sound\\\", \\\"gender\\\": 0, \\\"id\\\": 1868892, \\\"job\\\": \\\"Music Editor\\\", \\\"name\\\": \\\"Kim Strand\\\"}]\",\n          \"[{\\\"credit_id\\\": \\\"535c348b0e0a264fe1001e9f\\\", \\\"department\\\": \\\"Directing\\\", \\\"gender\\\": 0, \\\"id\\\": 1314011, \\\"job\\\": \\\"Director\\\", \\\"name\\\": \\\"Nathan Smith Jones\\\"}]\"\n        ],\n        \"semantic_type\": \"\",\n        \"description\": \"\"\n      }\n    },\n    {\n      \"column\": \"overview\",\n      \"properties\": {\n        \"dtype\": \"string\",\n        \"num_unique_values\": 4800,\n        \"samples\": [\n          \"When the Switchblade, the most sophisticated prototype stealth fighter created yet, is stolen from the U.S. government, one of the United States' top spies, Alex Scott, is called to action. What he doesn't expect is to get teamed up with a cocky civilian, World Class Boxing Champion Kelly Robinson, on a dangerous top secret espionage mission. Their assignment: using equal parts skill and humor, catch Arnold Gundars, one of the world's most successful arms dealers.\",\n          \"When \\\"street smart\\\" rapper Christopher \\\"C-Note\\\" Hawkins (Big Boi) applies for a membership to all-white Carolina Pines Country Club, the establishment's proprietors are hardly ready to oblige him.\",\n          \"As their first year of high school looms ahead, best friends Julie, Hannah, Yancy and Farrah have one last summer sleepover. Little do they know they're about to embark on the adventure of a lifetime. Desperate to shed their nerdy status, they take part in a night-long scavenger hunt that pits them against their popular archrivals. Everything under the sun goes on -- from taking Yancy's father's car to sneaking into nightclubs!\"\n        ],\n        \"semantic_type\": \"\",\n        \"description\": \"\"\n      }\n    }\n  ]\n}"
            }
          },
          "metadata": {},
          "execution_count": 64
        }
      ]
    },
    {
      "cell_type": "code",
      "source": [
        "movies['cast'][0] # we can write like this movies['cast'].iloc[0]"
      ],
      "metadata": {
        "colab": {
          "base_uri": "https://localhost:8080/",
          "height": 122
        },
        "id": "LrF5yuzm3RBt",
        "outputId": "c3ae3a59-47c7-4650-884d-28b8986f23f4"
      },
      "execution_count": null,
      "outputs": [
        {
          "output_type": "execute_result",
          "data": {
            "text/plain": [
              "'[{\"cast_id\": 242, \"character\": \"Jake Sully\", \"credit_id\": \"5602a8a7c3a3685532001c9a\", \"gender\": 2, \"id\": 65731, \"name\": \"Sam Worthington\", \"order\": 0}, {\"cast_id\": 3, \"character\": \"Neytiri\", \"credit_id\": \"52fe48009251416c750ac9cb\", \"gender\": 1, \"id\": 8691, \"name\": \"Zoe Saldana\", \"order\": 1}, {\"cast_id\": 25, \"character\": \"Dr. Grace Augustine\", \"credit_id\": \"52fe48009251416c750aca39\", \"gender\": 1, \"id\": 10205, \"name\": \"Sigourney Weaver\", \"order\": 2}, {\"cast_id\": 4, \"character\": \"Col. Quaritch\", \"credit_id\": \"52fe48009251416c750ac9cf\", \"gender\": 2, \"id\": 32747, \"name\": \"Stephen Lang\", \"order\": 3}, {\"cast_id\": 5, \"character\": \"Trudy Chacon\", \"credit_id\": \"52fe48009251416c750ac9d3\", \"gender\": 1, \"id\": 17647, \"name\": \"Michelle Rodriguez\", \"order\": 4}, {\"cast_id\": 8, \"character\": \"Selfridge\", \"credit_id\": \"52fe48009251416c750ac9e1\", \"gender\": 2, \"id\": 1771, \"name\": \"Giovanni Ribisi\", \"order\": 5}, {\"cast_id\": 7, \"character\": \"Norm Spellman\", \"credit_id\": \"52fe48009251416c750ac9dd\", \"gender\": 2, \"id\": 59231, \"name\": \"Joel David Moore\", \"order\": 6}, {\"cast_id\": 9, \"character\": \"Moat\", \"credit_id\": \"52fe48009251416c750ac9e5\", \"gender\": 1, \"id\": 30485, \"name\": \"CCH Pounder\", \"order\": 7}, {\"cast_id\": 11, \"character\": \"Eytukan\", \"credit_id\": \"52fe48009251416c750ac9ed\", \"gender\": 2, \"id\": 15853, \"name\": \"Wes Studi\", \"order\": 8}, {\"cast_id\": 10, \"character\": \"Tsu\\'Tey\", \"credit_id\": \"52fe48009251416c750ac9e9\", \"gender\": 2, \"id\": 10964, \"name\": \"Laz Alonso\", \"order\": 9}, {\"cast_id\": 12, \"character\": \"Dr. Max Patel\", \"credit_id\": \"52fe48009251416c750ac9f1\", \"gender\": 2, \"id\": 95697, \"name\": \"Dileep Rao\", \"order\": 10}, {\"cast_id\": 13, \"character\": \"Lyle Wainfleet\", \"credit_id\": \"52fe48009251416c750ac9f5\", \"gender\": 2, \"id\": 98215, \"name\": \"Matt Gerald\", \"order\": 11}, {\"cast_id\": 32, \"character\": \"Private Fike\", \"credit_id\": \"52fe48009251416c750aca5b\", \"gender\": 2, \"id\": 154153, \"name\": \"Sean Anthony Moran\", \"order\": 12}, {\"cast_id\": 33, \"character\": \"Cryo Vault Med Tech\", \"credit_id\": \"52fe48009251416c750aca5f\", \"gender\": 2, \"id\": 397312, \"name\": \"Jason Whyte\", \"order\": 13}, {\"cast_id\": 34, \"character\": \"Venture Star Crew Chief\", \"credit_id\": \"52fe48009251416c750aca63\", \"gender\": 2, \"id\": 42317, \"name\": \"Scott Lawrence\", \"order\": 14}, {\"cast_id\": 35, \"character\": \"Lock Up Trooper\", \"credit_id\": \"52fe48009251416c750aca67\", \"gender\": 2, \"id\": 986734, \"name\": \"Kelly Kilgour\", \"order\": 15}, {\"cast_id\": 36, \"character\": \"Shuttle Pilot\", \"credit_id\": \"52fe48009251416c750aca6b\", \"gender\": 0, \"id\": 1207227, \"name\": \"James Patrick Pitt\", \"order\": 16}, {\"cast_id\": 37, \"character\": \"Shuttle Co-Pilot\", \"credit_id\": \"52fe48009251416c750aca6f\", \"gender\": 0, \"id\": 1180936, \"name\": \"Sean Patrick Murphy\", \"order\": 17}, {\"cast_id\": 38, \"character\": \"Shuttle Crew Chief\", \"credit_id\": \"52fe48009251416c750aca73\", \"gender\": 2, \"id\": 1019578, \"name\": \"Peter Dillon\", \"order\": 18}, {\"cast_id\": 39, \"character\": \"Tractor Operator / Troupe\", \"credit_id\": \"52fe48009251416c750aca77\", \"gender\": 0, \"id\": 91443, \"name\": \"Kevin Dorman\", \"order\": 19}, {\"cast_id\": 40, \"character\": \"Dragon Gunship Pilot\", \"credit_id\": \"52fe48009251416c750aca7b\", \"gender\": 2, \"id\": 173391, \"name\": \"Kelson Henderson\", \"order\": 20}, {\"cast_id\": 41, \"character\": \"Dragon Gunship Gunner\", \"credit_id\": \"52fe48009251416c750aca7f\", \"gender\": 0, \"id\": 1207236, \"name\": \"David Van Horn\", \"order\": 21}, {\"cast_id\": 42, \"character\": \"Dragon Gunship Navigator\", \"credit_id\": \"52fe48009251416c750aca83\", \"gender\": 0, \"id\": 215913, \"name\": \"Jacob Tomuri\", \"order\": 22}, {\"cast_id\": 43, \"character\": \"Suit #1\", \"credit_id\": \"52fe48009251416c750aca87\", \"gender\": 0, \"id\": 143206, \"name\": \"Michael Blain-Rozgay\", \"order\": 23}, {\"cast_id\": 44, \"character\": \"Suit #2\", \"credit_id\": \"52fe48009251416c750aca8b\", \"gender\": 2, \"id\": 169676, \"name\": \"Jon Curry\", \"order\": 24}, {\"cast_id\": 46, \"character\": \"Ambient Room Tech\", \"credit_id\": \"52fe48009251416c750aca8f\", \"gender\": 0, \"id\": 1048610, \"name\": \"Luke Hawker\", \"order\": 25}, {\"cast_id\": 47, \"character\": \"Ambient Room Tech / Troupe\", \"credit_id\": \"52fe48009251416c750aca93\", \"gender\": 0, \"id\": 42288, \"name\": \"Woody Schultz\", \"order\": 26}, {\"cast_id\": 48, \"character\": \"Horse Clan Leader\", \"credit_id\": \"52fe48009251416c750aca97\", \"gender\": 2, \"id\": 68278, \"name\": \"Peter Mensah\", \"order\": 27}, {\"cast_id\": 49, \"character\": \"Link Room Tech\", \"credit_id\": \"52fe48009251416c750aca9b\", \"gender\": 0, \"id\": 1207247, \"name\": \"Sonia Yee\", \"order\": 28}, {\"cast_id\": 50, \"character\": \"Basketball Avatar / Troupe\", \"credit_id\": \"52fe48009251416c750aca9f\", \"gender\": 1, \"id\": 1207248, \"name\": \"Jahnel Curfman\", \"order\": 29}, {\"cast_id\": 51, \"character\": \"Basketball Avatar\", \"credit_id\": \"52fe48009251416c750acaa3\", \"gender\": 0, \"id\": 89714, \"name\": \"Ilram Choi\", \"order\": 30}, {\"cast_id\": 52, \"character\": \"Na\\'vi Child\", \"credit_id\": \"52fe48009251416c750acaa7\", \"gender\": 0, \"id\": 1207249, \"name\": \"Kyla Warren\", \"order\": 31}, {\"cast_id\": 53, \"character\": \"Troupe\", \"credit_id\": \"52fe48009251416c750acaab\", \"gender\": 0, \"id\": 1207250, \"name\": \"Lisa Roumain\", \"order\": 32}, {\"cast_id\": 54, \"character\": \"Troupe\", \"credit_id\": \"52fe48009251416c750acaaf\", \"gender\": 1, \"id\": 83105, \"name\": \"Debra Wilson\", \"order\": 33}, {\"cast_id\": 57, \"character\": \"Troupe\", \"credit_id\": \"52fe48009251416c750acabb\", \"gender\": 0, \"id\": 1207253, \"name\": \"Chris Mala\", \"order\": 34}, {\"cast_id\": 55, \"character\": \"Troupe\", \"credit_id\": \"52fe48009251416c750acab3\", \"gender\": 0, \"id\": 1207251, \"name\": \"Taylor Kibby\", \"order\": 35}, {\"cast_id\": 56, \"character\": \"Troupe\", \"credit_id\": \"52fe48009251416c750acab7\", \"gender\": 0, \"id\": 1207252, \"name\": \"Jodie Landau\", \"order\": 36}, {\"cast_id\": 58, \"character\": \"Troupe\", \"credit_id\": \"52fe48009251416c750acabf\", \"gender\": 0, \"id\": 1207254, \"name\": \"Julie Lamm\", \"order\": 37}, {\"cast_id\": 59, \"character\": \"Troupe\", \"credit_id\": \"52fe48009251416c750acac3\", \"gender\": 0, \"id\": 1207257, \"name\": \"Cullen B. Madden\", \"order\": 38}, {\"cast_id\": 60, \"character\": \"Troupe\", \"credit_id\": \"52fe48009251416c750acac7\", \"gender\": 0, \"id\": 1207259, \"name\": \"Joseph Brady Madden\", \"order\": 39}, {\"cast_id\": 61, \"character\": \"Troupe\", \"credit_id\": \"52fe48009251416c750acacb\", \"gender\": 0, \"id\": 1207262, \"name\": \"Frankie Torres\", \"order\": 40}, {\"cast_id\": 62, \"character\": \"Troupe\", \"credit_id\": \"52fe48009251416c750acacf\", \"gender\": 1, \"id\": 1158600, \"name\": \"Austin Wilson\", \"order\": 41}, {\"cast_id\": 63, \"character\": \"Troupe\", \"credit_id\": \"52fe48019251416c750acad3\", \"gender\": 1, \"id\": 983705, \"name\": \"Sara Wilson\", \"order\": 42}, {\"cast_id\": 64, \"character\": \"Troupe\", \"credit_id\": \"52fe48019251416c750acad7\", \"gender\": 0, \"id\": 1207263, \"name\": \"Tamica Washington-Miller\", \"order\": 43}, {\"cast_id\": 65, \"character\": \"Op Center Staff\", \"credit_id\": \"52fe48019251416c750acadb\", \"gender\": 1, \"id\": 1145098, \"name\": \"Lucy Briant\", \"order\": 44}, {\"cast_id\": 66, \"character\": \"Op Center Staff\", \"credit_id\": \"52fe48019251416c750acadf\", \"gender\": 2, \"id\": 33305, \"name\": \"Nathan Meister\", \"order\": 45}, {\"cast_id\": 67, \"character\": \"Op Center Staff\", \"credit_id\": \"52fe48019251416c750acae3\", \"gender\": 0, \"id\": 1207264, \"name\": \"Gerry Blair\", \"order\": 46}, {\"cast_id\": 68, \"character\": \"Op Center Staff\", \"credit_id\": \"52fe48019251416c750acae7\", \"gender\": 2, \"id\": 33311, \"name\": \"Matthew Chamberlain\", \"order\": 47}, {\"cast_id\": 69, \"character\": \"Op Center Staff\", \"credit_id\": \"52fe48019251416c750acaeb\", \"gender\": 0, \"id\": 1207265, \"name\": \"Paul Yates\", \"order\": 48}, {\"cast_id\": 70, \"character\": \"Op Center Duty Officer\", \"credit_id\": \"52fe48019251416c750acaef\", \"gender\": 0, \"id\": 1207266, \"name\": \"Wray Wilson\", \"order\": 49}, {\"cast_id\": 71, \"character\": \"Op Center Staff\", \"credit_id\": \"52fe48019251416c750acaf3\", \"gender\": 2, \"id\": 54492, \"name\": \"James Gaylyn\", \"order\": 50}, {\"cast_id\": 72, \"character\": \"Dancer\", \"credit_id\": \"52fe48019251416c750acaf7\", \"gender\": 0, \"id\": 1207267, \"name\": \"Melvin Leno Clark III\", \"order\": 51}, {\"cast_id\": 73, \"character\": \"Dancer\", \"credit_id\": \"52fe48019251416c750acafb\", \"gender\": 0, \"id\": 1207268, \"name\": \"Carvon Futrell\", \"order\": 52}, {\"cast_id\": 74, \"character\": \"Dancer\", \"credit_id\": \"52fe48019251416c750acaff\", \"gender\": 0, \"id\": 1207269, \"name\": \"Brandon Jelkes\", \"order\": 53}, {\"cast_id\": 75, \"character\": \"Dancer\", \"credit_id\": \"52fe48019251416c750acb03\", \"gender\": 0, \"id\": 1207270, \"name\": \"Micah Moch\", \"order\": 54}, {\"cast_id\": 76, \"character\": \"Dancer\", \"credit_id\": \"52fe48019251416c750acb07\", \"gender\": 0, \"id\": 1207271, \"name\": \"Hanniyah Muhammad\", \"order\": 55}, {\"cast_id\": 77, \"character\": \"Dancer\", \"credit_id\": \"52fe48019251416c750acb0b\", \"gender\": 0, \"id\": 1207272, \"name\": \"Christopher Nolen\", \"order\": 56}, {\"cast_id\": 78, \"character\": \"Dancer\", \"credit_id\": \"52fe48019251416c750acb0f\", \"gender\": 0, \"id\": 1207273, \"name\": \"Christa Oliver\", \"order\": 57}, {\"cast_id\": 79, \"character\": \"Dancer\", \"credit_id\": \"52fe48019251416c750acb13\", \"gender\": 0, \"id\": 1207274, \"name\": \"April Marie Thomas\", \"order\": 58}, {\"cast_id\": 80, \"character\": \"Dancer\", \"credit_id\": \"52fe48019251416c750acb17\", \"gender\": 0, \"id\": 1207275, \"name\": \"Bravita A. Threatt\", \"order\": 59}, {\"cast_id\": 81, \"character\": \"Mining Chief (uncredited)\", \"credit_id\": \"52fe48019251416c750acb1b\", \"gender\": 0, \"id\": 1207276, \"name\": \"Colin Bleasdale\", \"order\": 60}, {\"cast_id\": 82, \"character\": \"Veteran Miner (uncredited)\", \"credit_id\": \"52fe48019251416c750acb1f\", \"gender\": 0, \"id\": 107969, \"name\": \"Mike Bodnar\", \"order\": 61}, {\"cast_id\": 83, \"character\": \"Richard (uncredited)\", \"credit_id\": \"52fe48019251416c750acb23\", \"gender\": 0, \"id\": 1207278, \"name\": \"Matt Clayton\", \"order\": 62}, {\"cast_id\": 84, \"character\": \"Nav\\'i (uncredited)\", \"credit_id\": \"52fe48019251416c750acb27\", \"gender\": 1, \"id\": 147898, \"name\": \"Nicole Dionne\", \"order\": 63}, {\"cast_id\": 85, \"character\": \"Trooper (uncredited)\", \"credit_id\": \"52fe48019251416c750acb2b\", \"gender\": 0, \"id\": 1207280, \"name\": \"Jamie Harrison\", \"order\": 64}, {\"cast_id\": 86, \"character\": \"Trooper (uncredited)\", \"credit_id\": \"52fe48019251416c750acb2f\", \"gender\": 0, \"id\": 1207281, \"name\": \"Allan Henry\", \"order\": 65}, {\"cast_id\": 87, \"character\": \"Ground Technician (uncredited)\", \"credit_id\": \"52fe48019251416c750acb33\", \"gender\": 2, \"id\": 1207282, \"name\": \"Anthony Ingruber\", \"order\": 66}, {\"cast_id\": 88, \"character\": \"Flight Crew Mechanic (uncredited)\", \"credit_id\": \"52fe48019251416c750acb37\", \"gender\": 0, \"id\": 1207283, \"name\": \"Ashley Jeffery\", \"order\": 67}, {\"cast_id\": 14, \"character\": \"Samson Pilot\", \"credit_id\": \"52fe48009251416c750ac9f9\", \"gender\": 0, \"id\": 98216, \"name\": \"Dean Knowsley\", \"order\": 68}, {\"cast_id\": 89, \"character\": \"Trooper (uncredited)\", \"credit_id\": \"52fe48019251416c750acb3b\", \"gender\": 0, \"id\": 1201399, \"name\": \"Joseph Mika-Hunt\", \"order\": 69}, {\"cast_id\": 90, \"character\": \"Banshee (uncredited)\", \"credit_id\": \"52fe48019251416c750acb3f\", \"gender\": 0, \"id\": 236696, \"name\": \"Terry Notary\", \"order\": 70}, {\"cast_id\": 91, \"character\": \"Soldier (uncredited)\", \"credit_id\": \"52fe48019251416c750acb43\", \"gender\": 0, \"id\": 1207287, \"name\": \"Kai Pantano\", \"order\": 71}, {\"cast_id\": 92, \"character\": \"Blast Technician (uncredited)\", \"credit_id\": \"52fe48019251416c750acb47\", \"gender\": 0, \"id\": 1207288, \"name\": \"Logan Pithyou\", \"order\": 72}, {\"cast_id\": 93, \"character\": \"Vindum Raah (uncredited)\", \"credit_id\": \"52fe48019251416c750acb4b\", \"gender\": 0, \"id\": 1207289, \"name\": \"Stuart Pollock\", \"order\": 73}, {\"cast_id\": 94, \"character\": \"Hero (uncredited)\", \"credit_id\": \"52fe48019251416c750acb4f\", \"gender\": 0, \"id\": 584868, \"name\": \"Raja\", \"order\": 74}, {\"cast_id\": 95, \"character\": \"Ops Centreworker (uncredited)\", \"credit_id\": \"52fe48019251416c750acb53\", \"gender\": 0, \"id\": 1207290, \"name\": \"Gareth Ruck\", \"order\": 75}, {\"cast_id\": 96, \"character\": \"Engineer (uncredited)\", \"credit_id\": \"52fe48019251416c750acb57\", \"gender\": 0, \"id\": 1062463, \"name\": \"Rhian Sheehan\", \"order\": 76}, {\"cast_id\": 97, \"character\": \"Col. Quaritch\\'s Mech Suit (uncredited)\", \"credit_id\": \"52fe48019251416c750acb5b\", \"gender\": 0, \"id\": 60656, \"name\": \"T. J. Storm\", \"order\": 77}, {\"cast_id\": 98, \"character\": \"Female Marine (uncredited)\", \"credit_id\": \"52fe48019251416c750acb5f\", \"gender\": 0, \"id\": 1207291, \"name\": \"Jodie Taylor\", \"order\": 78}, {\"cast_id\": 99, \"character\": \"Ikran Clan Leader (uncredited)\", \"credit_id\": \"52fe48019251416c750acb63\", \"gender\": 1, \"id\": 1186027, \"name\": \"Alicia Vela-Bailey\", \"order\": 79}, {\"cast_id\": 100, \"character\": \"Geologist (uncredited)\", \"credit_id\": \"52fe48019251416c750acb67\", \"gender\": 0, \"id\": 1207292, \"name\": \"Richard Whiteside\", \"order\": 80}, {\"cast_id\": 101, \"character\": \"Na\\'vi (uncredited)\", \"credit_id\": \"52fe48019251416c750acb6b\", \"gender\": 0, \"id\": 103259, \"name\": \"Nikie Zambo\", \"order\": 81}, {\"cast_id\": 102, \"character\": \"Ambient Room Tech / Troupe\", \"credit_id\": \"52fe48019251416c750acb6f\", \"gender\": 1, \"id\": 42286, \"name\": \"Julene Renee\", \"order\": 82}]'"
            ],
            "application/vnd.google.colaboratory.intrinsic+json": {
              "type": "string"
            }
          },
          "metadata": {},
          "execution_count": 65
        }
      ]
    },
    {
      "cell_type": "markdown",
      "source": [
        "now amra cast theke 1st 3 joner naam chai. real name"
      ],
      "metadata": {
        "id": "6eLgOFKY3mDm"
      }
    },
    {
      "cell_type": "code",
      "source": [
        "def convert2(obj):\n",
        "  l = []\n",
        "  counter = 0\n",
        "  for i in ast.literal_eval(obj):\n",
        "    if counter != 3:\n",
        "      l.append(i['name'])\n",
        "      counter+=1\n",
        "    else:\n",
        "      break\n",
        "  return l"
      ],
      "metadata": {
        "id": "M7iVw1BB3hi-"
      },
      "execution_count": null,
      "outputs": []
    },
    {
      "cell_type": "code",
      "source": [
        "movies['cast'] = movies['cast'].apply(convert2)"
      ],
      "metadata": {
        "id": "3m2nfEmW4P2t"
      },
      "execution_count": null,
      "outputs": []
    },
    {
      "cell_type": "markdown",
      "source": [
        "now i just want director name from crew"
      ],
      "metadata": {
        "id": "DUmXFvb56sRE"
      }
    },
    {
      "cell_type": "code",
      "source": [
        "def fetch_director(obj):\n",
        "  l = []\n",
        "  for i in ast.literal_eval(obj):\n",
        "    if i['job'] == 'Director':\n",
        "      l.append(i['name'])\n",
        "      break\n",
        "  return l"
      ],
      "metadata": {
        "id": "0HZCfOYT4rdV"
      },
      "execution_count": null,
      "outputs": []
    },
    {
      "cell_type": "code",
      "source": [
        "movies['crew'] = movies['crew'].apply(fetch_director)"
      ],
      "metadata": {
        "id": "l05A8F5254SV"
      },
      "execution_count": null,
      "outputs": []
    },
    {
      "cell_type": "code",
      "source": [
        "movies.head(4)"
      ],
      "metadata": {
        "colab": {
          "base_uri": "https://localhost:8080/",
          "height": 244
        },
        "id": "nv7_f0956K2k",
        "outputId": "cda4a6a6-6d0c-48e6-d43c-71e7323bc829"
      },
      "execution_count": null,
      "outputs": [
        {
          "output_type": "execute_result",
          "data": {
            "text/plain": [
              "   movie_id                                     title  \\\n",
              "0     19995                                    Avatar   \n",
              "1       285  Pirates of the Caribbean: At World's End   \n",
              "2    206647                                   Spectre   \n",
              "3     49026                     The Dark Knight Rises   \n",
              "\n",
              "                                          genres  \\\n",
              "0  [Action, Adventure, Fantasy, Science Fiction]   \n",
              "1                   [Adventure, Fantasy, Action]   \n",
              "2                     [Action, Adventure, Crime]   \n",
              "3               [Action, Crime, Drama, Thriller]   \n",
              "\n",
              "                                            keywords  \\\n",
              "0  [culture clash, future, space war, space colon...   \n",
              "1  [ocean, drug abuse, exotic island, east india ...   \n",
              "2  [spy, based on novel, secret agent, sequel, mi...   \n",
              "3  [dc comics, crime fighter, terrorist, secret i...   \n",
              "\n",
              "                                               cast                 crew  \\\n",
              "0  [Sam Worthington, Zoe Saldana, Sigourney Weaver]      [James Cameron]   \n",
              "1     [Johnny Depp, Orlando Bloom, Keira Knightley]     [Gore Verbinski]   \n",
              "2      [Daniel Craig, Christoph Waltz, Léa Seydoux]         [Sam Mendes]   \n",
              "3      [Christian Bale, Michael Caine, Gary Oldman]  [Christopher Nolan]   \n",
              "\n",
              "                                            overview  \n",
              "0  In the 22nd century, a paraplegic Marine is di...  \n",
              "1  Captain Barbossa, long believed to be dead, ha...  \n",
              "2  A cryptic message from Bond’s past sends him o...  \n",
              "3  Following the death of District Attorney Harve...  "
            ],
            "text/html": [
              "\n",
              "  <div id=\"df-c657f14c-1461-431c-920d-19c907b54b28\" class=\"colab-df-container\">\n",
              "    <div>\n",
              "<style scoped>\n",
              "    .dataframe tbody tr th:only-of-type {\n",
              "        vertical-align: middle;\n",
              "    }\n",
              "\n",
              "    .dataframe tbody tr th {\n",
              "        vertical-align: top;\n",
              "    }\n",
              "\n",
              "    .dataframe thead th {\n",
              "        text-align: right;\n",
              "    }\n",
              "</style>\n",
              "<table border=\"1\" class=\"dataframe\">\n",
              "  <thead>\n",
              "    <tr style=\"text-align: right;\">\n",
              "      <th></th>\n",
              "      <th>movie_id</th>\n",
              "      <th>title</th>\n",
              "      <th>genres</th>\n",
              "      <th>keywords</th>\n",
              "      <th>cast</th>\n",
              "      <th>crew</th>\n",
              "      <th>overview</th>\n",
              "    </tr>\n",
              "  </thead>\n",
              "  <tbody>\n",
              "    <tr>\n",
              "      <th>0</th>\n",
              "      <td>19995</td>\n",
              "      <td>Avatar</td>\n",
              "      <td>[Action, Adventure, Fantasy, Science Fiction]</td>\n",
              "      <td>[culture clash, future, space war, space colon...</td>\n",
              "      <td>[Sam Worthington, Zoe Saldana, Sigourney Weaver]</td>\n",
              "      <td>[James Cameron]</td>\n",
              "      <td>In the 22nd century, a paraplegic Marine is di...</td>\n",
              "    </tr>\n",
              "    <tr>\n",
              "      <th>1</th>\n",
              "      <td>285</td>\n",
              "      <td>Pirates of the Caribbean: At World's End</td>\n",
              "      <td>[Adventure, Fantasy, Action]</td>\n",
              "      <td>[ocean, drug abuse, exotic island, east india ...</td>\n",
              "      <td>[Johnny Depp, Orlando Bloom, Keira Knightley]</td>\n",
              "      <td>[Gore Verbinski]</td>\n",
              "      <td>Captain Barbossa, long believed to be dead, ha...</td>\n",
              "    </tr>\n",
              "    <tr>\n",
              "      <th>2</th>\n",
              "      <td>206647</td>\n",
              "      <td>Spectre</td>\n",
              "      <td>[Action, Adventure, Crime]</td>\n",
              "      <td>[spy, based on novel, secret agent, sequel, mi...</td>\n",
              "      <td>[Daniel Craig, Christoph Waltz, Léa Seydoux]</td>\n",
              "      <td>[Sam Mendes]</td>\n",
              "      <td>A cryptic message from Bond’s past sends him o...</td>\n",
              "    </tr>\n",
              "    <tr>\n",
              "      <th>3</th>\n",
              "      <td>49026</td>\n",
              "      <td>The Dark Knight Rises</td>\n",
              "      <td>[Action, Crime, Drama, Thriller]</td>\n",
              "      <td>[dc comics, crime fighter, terrorist, secret i...</td>\n",
              "      <td>[Christian Bale, Michael Caine, Gary Oldman]</td>\n",
              "      <td>[Christopher Nolan]</td>\n",
              "      <td>Following the death of District Attorney Harve...</td>\n",
              "    </tr>\n",
              "  </tbody>\n",
              "</table>\n",
              "</div>\n",
              "    <div class=\"colab-df-buttons\">\n",
              "\n",
              "  <div class=\"colab-df-container\">\n",
              "    <button class=\"colab-df-convert\" onclick=\"convertToInteractive('df-c657f14c-1461-431c-920d-19c907b54b28')\"\n",
              "            title=\"Convert this dataframe to an interactive table.\"\n",
              "            style=\"display:none;\">\n",
              "\n",
              "  <svg xmlns=\"http://www.w3.org/2000/svg\" height=\"24px\" viewBox=\"0 -960 960 960\">\n",
              "    <path d=\"M120-120v-720h720v720H120Zm60-500h600v-160H180v160Zm220 220h160v-160H400v160Zm0 220h160v-160H400v160ZM180-400h160v-160H180v160Zm440 0h160v-160H620v160ZM180-180h160v-160H180v160Zm440 0h160v-160H620v160Z\"/>\n",
              "  </svg>\n",
              "    </button>\n",
              "\n",
              "  <style>\n",
              "    .colab-df-container {\n",
              "      display:flex;\n",
              "      gap: 12px;\n",
              "    }\n",
              "\n",
              "    .colab-df-convert {\n",
              "      background-color: #E8F0FE;\n",
              "      border: none;\n",
              "      border-radius: 50%;\n",
              "      cursor: pointer;\n",
              "      display: none;\n",
              "      fill: #1967D2;\n",
              "      height: 32px;\n",
              "      padding: 0 0 0 0;\n",
              "      width: 32px;\n",
              "    }\n",
              "\n",
              "    .colab-df-convert:hover {\n",
              "      background-color: #E2EBFA;\n",
              "      box-shadow: 0px 1px 2px rgba(60, 64, 67, 0.3), 0px 1px 3px 1px rgba(60, 64, 67, 0.15);\n",
              "      fill: #174EA6;\n",
              "    }\n",
              "\n",
              "    .colab-df-buttons div {\n",
              "      margin-bottom: 4px;\n",
              "    }\n",
              "\n",
              "    [theme=dark] .colab-df-convert {\n",
              "      background-color: #3B4455;\n",
              "      fill: #D2E3FC;\n",
              "    }\n",
              "\n",
              "    [theme=dark] .colab-df-convert:hover {\n",
              "      background-color: #434B5C;\n",
              "      box-shadow: 0px 1px 3px 1px rgba(0, 0, 0, 0.15);\n",
              "      filter: drop-shadow(0px 1px 2px rgba(0, 0, 0, 0.3));\n",
              "      fill: #FFFFFF;\n",
              "    }\n",
              "  </style>\n",
              "\n",
              "    <script>\n",
              "      const buttonEl =\n",
              "        document.querySelector('#df-c657f14c-1461-431c-920d-19c907b54b28 button.colab-df-convert');\n",
              "      buttonEl.style.display =\n",
              "        google.colab.kernel.accessAllowed ? 'block' : 'none';\n",
              "\n",
              "      async function convertToInteractive(key) {\n",
              "        const element = document.querySelector('#df-c657f14c-1461-431c-920d-19c907b54b28');\n",
              "        const dataTable =\n",
              "          await google.colab.kernel.invokeFunction('convertToInteractive',\n",
              "                                                    [key], {});\n",
              "        if (!dataTable) return;\n",
              "\n",
              "        const docLinkHtml = 'Like what you see? Visit the ' +\n",
              "          '<a target=\"_blank\" href=https://colab.research.google.com/notebooks/data_table.ipynb>data table notebook</a>'\n",
              "          + ' to learn more about interactive tables.';\n",
              "        element.innerHTML = '';\n",
              "        dataTable['output_type'] = 'display_data';\n",
              "        await google.colab.output.renderOutput(dataTable, element);\n",
              "        const docLink = document.createElement('div');\n",
              "        docLink.innerHTML = docLinkHtml;\n",
              "        element.appendChild(docLink);\n",
              "      }\n",
              "    </script>\n",
              "  </div>\n",
              "\n",
              "\n",
              "<div id=\"df-215af55c-7807-4cfa-bafc-dbb605aa8581\">\n",
              "  <button class=\"colab-df-quickchart\" onclick=\"quickchart('df-215af55c-7807-4cfa-bafc-dbb605aa8581')\"\n",
              "            title=\"Suggest charts\"\n",
              "            style=\"display:none;\">\n",
              "\n",
              "<svg xmlns=\"http://www.w3.org/2000/svg\" height=\"24px\"viewBox=\"0 0 24 24\"\n",
              "     width=\"24px\">\n",
              "    <g>\n",
              "        <path d=\"M19 3H5c-1.1 0-2 .9-2 2v14c0 1.1.9 2 2 2h14c1.1 0 2-.9 2-2V5c0-1.1-.9-2-2-2zM9 17H7v-7h2v7zm4 0h-2V7h2v10zm4 0h-2v-4h2v4z\"/>\n",
              "    </g>\n",
              "</svg>\n",
              "  </button>\n",
              "\n",
              "<style>\n",
              "  .colab-df-quickchart {\n",
              "      --bg-color: #E8F0FE;\n",
              "      --fill-color: #1967D2;\n",
              "      --hover-bg-color: #E2EBFA;\n",
              "      --hover-fill-color: #174EA6;\n",
              "      --disabled-fill-color: #AAA;\n",
              "      --disabled-bg-color: #DDD;\n",
              "  }\n",
              "\n",
              "  [theme=dark] .colab-df-quickchart {\n",
              "      --bg-color: #3B4455;\n",
              "      --fill-color: #D2E3FC;\n",
              "      --hover-bg-color: #434B5C;\n",
              "      --hover-fill-color: #FFFFFF;\n",
              "      --disabled-bg-color: #3B4455;\n",
              "      --disabled-fill-color: #666;\n",
              "  }\n",
              "\n",
              "  .colab-df-quickchart {\n",
              "    background-color: var(--bg-color);\n",
              "    border: none;\n",
              "    border-radius: 50%;\n",
              "    cursor: pointer;\n",
              "    display: none;\n",
              "    fill: var(--fill-color);\n",
              "    height: 32px;\n",
              "    padding: 0;\n",
              "    width: 32px;\n",
              "  }\n",
              "\n",
              "  .colab-df-quickchart:hover {\n",
              "    background-color: var(--hover-bg-color);\n",
              "    box-shadow: 0 1px 2px rgba(60, 64, 67, 0.3), 0 1px 3px 1px rgba(60, 64, 67, 0.15);\n",
              "    fill: var(--button-hover-fill-color);\n",
              "  }\n",
              "\n",
              "  .colab-df-quickchart-complete:disabled,\n",
              "  .colab-df-quickchart-complete:disabled:hover {\n",
              "    background-color: var(--disabled-bg-color);\n",
              "    fill: var(--disabled-fill-color);\n",
              "    box-shadow: none;\n",
              "  }\n",
              "\n",
              "  .colab-df-spinner {\n",
              "    border: 2px solid var(--fill-color);\n",
              "    border-color: transparent;\n",
              "    border-bottom-color: var(--fill-color);\n",
              "    animation:\n",
              "      spin 1s steps(1) infinite;\n",
              "  }\n",
              "\n",
              "  @keyframes spin {\n",
              "    0% {\n",
              "      border-color: transparent;\n",
              "      border-bottom-color: var(--fill-color);\n",
              "      border-left-color: var(--fill-color);\n",
              "    }\n",
              "    20% {\n",
              "      border-color: transparent;\n",
              "      border-left-color: var(--fill-color);\n",
              "      border-top-color: var(--fill-color);\n",
              "    }\n",
              "    30% {\n",
              "      border-color: transparent;\n",
              "      border-left-color: var(--fill-color);\n",
              "      border-top-color: var(--fill-color);\n",
              "      border-right-color: var(--fill-color);\n",
              "    }\n",
              "    40% {\n",
              "      border-color: transparent;\n",
              "      border-right-color: var(--fill-color);\n",
              "      border-top-color: var(--fill-color);\n",
              "    }\n",
              "    60% {\n",
              "      border-color: transparent;\n",
              "      border-right-color: var(--fill-color);\n",
              "    }\n",
              "    80% {\n",
              "      border-color: transparent;\n",
              "      border-right-color: var(--fill-color);\n",
              "      border-bottom-color: var(--fill-color);\n",
              "    }\n",
              "    90% {\n",
              "      border-color: transparent;\n",
              "      border-bottom-color: var(--fill-color);\n",
              "    }\n",
              "  }\n",
              "</style>\n",
              "\n",
              "  <script>\n",
              "    async function quickchart(key) {\n",
              "      const quickchartButtonEl =\n",
              "        document.querySelector('#' + key + ' button');\n",
              "      quickchartButtonEl.disabled = true;  // To prevent multiple clicks.\n",
              "      quickchartButtonEl.classList.add('colab-df-spinner');\n",
              "      try {\n",
              "        const charts = await google.colab.kernel.invokeFunction(\n",
              "            'suggestCharts', [key], {});\n",
              "      } catch (error) {\n",
              "        console.error('Error during call to suggestCharts:', error);\n",
              "      }\n",
              "      quickchartButtonEl.classList.remove('colab-df-spinner');\n",
              "      quickchartButtonEl.classList.add('colab-df-quickchart-complete');\n",
              "    }\n",
              "    (() => {\n",
              "      let quickchartButtonEl =\n",
              "        document.querySelector('#df-215af55c-7807-4cfa-bafc-dbb605aa8581 button');\n",
              "      quickchartButtonEl.style.display =\n",
              "        google.colab.kernel.accessAllowed ? 'block' : 'none';\n",
              "    })();\n",
              "  </script>\n",
              "</div>\n",
              "\n",
              "    </div>\n",
              "  </div>\n"
            ],
            "application/vnd.google.colaboratory.intrinsic+json": {
              "type": "dataframe",
              "variable_name": "movies",
              "summary": "{\n  \"name\": \"movies\",\n  \"rows\": 4806,\n  \"fields\": [\n    {\n      \"column\": \"movie_id\",\n      \"properties\": {\n        \"dtype\": \"number\",\n        \"std\": 88309,\n        \"min\": 5,\n        \"max\": 447027,\n        \"num_unique_values\": 4800,\n        \"samples\": [\n          8427,\n          9555,\n          10029\n        ],\n        \"semantic_type\": \"\",\n        \"description\": \"\"\n      }\n    },\n    {\n      \"column\": \"title\",\n      \"properties\": {\n        \"dtype\": \"string\",\n        \"num_unique_values\": 4797,\n        \"samples\": [\n          \"Two Brothers\",\n          \"From Paris with Love\",\n          \"Walk the Line\"\n        ],\n        \"semantic_type\": \"\",\n        \"description\": \"\"\n      }\n    },\n    {\n      \"column\": \"genres\",\n      \"properties\": {\n        \"dtype\": \"object\",\n        \"semantic_type\": \"\",\n        \"description\": \"\"\n      }\n    },\n    {\n      \"column\": \"keywords\",\n      \"properties\": {\n        \"dtype\": \"object\",\n        \"semantic_type\": \"\",\n        \"description\": \"\"\n      }\n    },\n    {\n      \"column\": \"cast\",\n      \"properties\": {\n        \"dtype\": \"object\",\n        \"semantic_type\": \"\",\n        \"description\": \"\"\n      }\n    },\n    {\n      \"column\": \"crew\",\n      \"properties\": {\n        \"dtype\": \"object\",\n        \"semantic_type\": \"\",\n        \"description\": \"\"\n      }\n    },\n    {\n      \"column\": \"overview\",\n      \"properties\": {\n        \"dtype\": \"string\",\n        \"num_unique_values\": 4800,\n        \"samples\": [\n          \"When the Switchblade, the most sophisticated prototype stealth fighter created yet, is stolen from the U.S. government, one of the United States' top spies, Alex Scott, is called to action. What he doesn't expect is to get teamed up with a cocky civilian, World Class Boxing Champion Kelly Robinson, on a dangerous top secret espionage mission. Their assignment: using equal parts skill and humor, catch Arnold Gundars, one of the world's most successful arms dealers.\",\n          \"When \\\"street smart\\\" rapper Christopher \\\"C-Note\\\" Hawkins (Big Boi) applies for a membership to all-white Carolina Pines Country Club, the establishment's proprietors are hardly ready to oblige him.\",\n          \"As their first year of high school looms ahead, best friends Julie, Hannah, Yancy and Farrah have one last summer sleepover. Little do they know they're about to embark on the adventure of a lifetime. Desperate to shed their nerdy status, they take part in a night-long scavenger hunt that pits them against their popular archrivals. Everything under the sun goes on -- from taking Yancy's father's car to sneaking into nightclubs!\"\n        ],\n        \"semantic_type\": \"\",\n        \"description\": \"\"\n      }\n    }\n  ]\n}"
            }
          },
          "metadata": {},
          "execution_count": 70
        }
      ]
    },
    {
      "cell_type": "code",
      "source": [
        "movies['overview'][0]"
      ],
      "metadata": {
        "id": "iTMdjglv76rs"
      },
      "execution_count": null,
      "outputs": []
    },
    {
      "cell_type": "markdown",
      "source": [
        "In the 22nd century, a paraplegic Marine is dispatched to the moon Pandora on a unique mission, but becomes torn between following orders and protecting an alien civilization.\n",
        "this is a string. i have to convert this as list"
      ],
      "metadata": {
        "id": "nAtAPHG38DN8"
      }
    },
    {
      "cell_type": "code",
      "source": [
        "movies['overview'] = movies['overview'].apply(lambda x: x.split()) # lambda x: x.split() .split() method kono string er prottek word k alada kore space er basis a . segulor ekta list baniye dey"
      ],
      "metadata": {
        "id": "EZqFpNZs8Wsk"
      },
      "execution_count": null,
      "outputs": []
    },
    {
      "cell_type": "markdown",
      "source": [
        "remove space from word"
      ],
      "metadata": {
        "id": "WZZyZvuZBNJs"
      }
    },
    {
      "cell_type": "code",
      "source": [
        "movies['genres'] = movies['genres'].apply(lambda x : [ i.replace(\" \", \"\") for i in x])\n",
        "movies['keywords'] = movies['keywords'].apply(lambda x : [ i.replace(\" \", \"\") for i in x])\n",
        "movies['cast'] = movies['cast'].apply(lambda x : [ i.replace(\" \", \"\") for i in x])\n",
        "movies['crew'] = movies['crew'].apply(lambda x : [ i.replace(\" \", \"\") for i in x])"
      ],
      "metadata": {
        "id": "n-Fm4uNs9nio"
      },
      "execution_count": null,
      "outputs": []
    },
    {
      "cell_type": "code",
      "source": [
        "movies.head( 4)"
      ],
      "metadata": {
        "id": "ZoQskSHIBr4F"
      },
      "execution_count": null,
      "outputs": []
    },
    {
      "cell_type": "markdown",
      "source": [
        "concate overviews, genres, cast, keywords and crew and put it on a new column calles tag"
      ],
      "metadata": {
        "id": "lAhetwSUCLVj"
      }
    },
    {
      "cell_type": "code",
      "source": [
        "movies['tags'] = movies['overview'] + movies['genres'] + movies['keywords'] + movies['cast'] + movies['crew']"
      ],
      "metadata": {
        "id": "k7x65I8_CK16"
      },
      "execution_count": null,
      "outputs": []
    },
    {
      "cell_type": "code",
      "source": [
        "movies.head(4)"
      ],
      "metadata": {
        "id": "-QHD-oe2DKVz"
      },
      "execution_count": null,
      "outputs": []
    },
    {
      "cell_type": "markdown",
      "source": [
        "Now create a new Dataframe with necessery columns"
      ],
      "metadata": {
        "id": "FoYpyk5NWNaB"
      }
    },
    {
      "cell_type": "code",
      "source": [
        "new_df = movies[['movie_id', 'title', 'tags']]"
      ],
      "metadata": {
        "id": "0nWrcGgvVxKL"
      },
      "execution_count": null,
      "outputs": []
    },
    {
      "cell_type": "code",
      "source": [
        "new_df['tags'] = new_df['tags'].apply(lambda x: \" \".join(x))"
      ],
      "metadata": {
        "id": "E8IhpbbxWMti"
      },
      "execution_count": null,
      "outputs": []
    },
    {
      "cell_type": "markdown",
      "source": [
        "convert lowerCase"
      ],
      "metadata": {
        "id": "_JbdxysMW8VZ"
      }
    },
    {
      "cell_type": "code",
      "source": [
        "new_df['tags'] = new_df['tags'].apply(lambda x: x.lower())\n",
        "new_df['title'] = new_df['title'].apply(lambda x: x.lower())"
      ],
      "metadata": {
        "id": "ynq9EPrJW70J"
      },
      "execution_count": null,
      "outputs": []
    },
    {
      "cell_type": "code",
      "source": [
        "new_df['tags'][0]"
      ],
      "metadata": {
        "collapsed": true,
        "id": "2h86OeZtV_Ya"
      },
      "execution_count": null,
      "outputs": []
    },
    {
      "cell_type": "code",
      "source": [
        "new_df"
      ],
      "metadata": {
        "id": "XA2xyTVwbScA"
      },
      "execution_count": null,
      "outputs": []
    },
    {
      "cell_type": "markdown",
      "source": [
        "here i use **BAG_OF_WORDS** represention. where each unique word in the dataset is assigned a count. so i use scikit learn tool. Count Vectorizer do this BAG_OF_WORDS. this is used in NLP"
      ],
      "metadata": {
        "id": "s2rEVWUoLUVO"
      }
    },
    {
      "cell_type": "code",
      "source": [
        "from nltk.stem.porter import PorterStemmer\n",
        "ps = PorterStemmer()"
      ],
      "metadata": {
        "id": "1H6akQ3GTpIE"
      },
      "execution_count": null,
      "outputs": []
    },
    {
      "cell_type": "code",
      "source": [
        "ps.stem(\"loved\")"
      ],
      "metadata": {
        "id": "G0cp4OUQciEy"
      },
      "execution_count": null,
      "outputs": []
    },
    {
      "cell_type": "code",
      "source": [
        "# stem is for converting a word its original form. as exmpl= loving become love or loved => love etc\n",
        "def stem(text):\n",
        "  y = []\n",
        "  for i in text.split():\n",
        "    y.append(ps.stem(i))\n",
        "  string = \" \".join(y)\n",
        "  return string"
      ],
      "metadata": {
        "id": "ny5GfY_qaJST"
      },
      "execution_count": null,
      "outputs": []
    },
    {
      "cell_type": "code",
      "source": [
        "# check stem function\n",
        "stem('in the 22nd century, a paraplegic marine is dispatched to the moon pandora on a unique mission, but becomes torn between following orders and protecting an alien civilization. action adventure fantasy sciencefiction cultureclash future spacewar spacecolony society spacetravel futuristic romance space alien tribe alienplanet cgi marine soldier battle loveaffair antiwar powerrelations mindandsoul 3d samworthington zoesaldana sigourneyweaver jamescameron')"
      ],
      "metadata": {
        "id": "N0GUHEz0a8eT"
      },
      "execution_count": null,
      "outputs": []
    },
    {
      "cell_type": "code",
      "source": [
        "new_df['tags'] = new_df['tags'].apply(stem)"
      ],
      "metadata": {
        "collapsed": true,
        "id": "Cc_XNboocvwP"
      },
      "execution_count": null,
      "outputs": []
    },
    {
      "cell_type": "code",
      "source": [
        "new_df.shape"
      ],
      "metadata": {
        "id": "9yolVJXKc_xa"
      },
      "execution_count": null,
      "outputs": []
    },
    {
      "cell_type": "code",
      "source": [
        "from sklearn.feature_extraction.text import CountVectorizer\n",
        "cv = CountVectorizer(max_features = 5000 , stop_words = 'english')"
      ],
      "metadata": {
        "id": "d4Bt3H5tIf1x"
      },
      "execution_count": null,
      "outputs": []
    },
    {
      "cell_type": "code",
      "source": [
        "vectors = cv.fit_transform(new_df['tags']).toarray() # fit for Learns the vocabulary (unique words) from new_df['tags'] and Transform() for Converts the text into a sparse matrix of token counts"
      ],
      "metadata": {
        "id": "6a2s1R_NLSl6"
      },
      "execution_count": null,
      "outputs": []
    },
    {
      "cell_type": "code",
      "source": [
        "vectors"
      ],
      "metadata": {
        "id": "tRdbz0g5PyBl"
      },
      "execution_count": null,
      "outputs": []
    },
    {
      "cell_type": "code",
      "source": [
        "cv.get_feature_names_out()"
      ],
      "metadata": {
        "id": "snpnuOyfRNJV"
      },
      "execution_count": null,
      "outputs": []
    },
    {
      "cell_type": "code",
      "source": [
        "len(cv.get_feature_names_out())"
      ],
      "metadata": {
        "id": "CIjussUPS4Ql"
      },
      "execution_count": null,
      "outputs": []
    },
    {
      "cell_type": "code",
      "source": [
        "from sklearn.metrics.pairwise import cosine_similarity"
      ],
      "metadata": {
        "id": "FPDpPVx0ucIs"
      },
      "execution_count": null,
      "outputs": []
    },
    {
      "cell_type": "code",
      "source": [
        "similar = cosine_similarity(vectors)"
      ],
      "metadata": {
        "id": "Ni11GEk6ut6H"
      },
      "execution_count": null,
      "outputs": []
    },
    {
      "cell_type": "code",
      "source": [
        "similar[0]"
      ],
      "metadata": {
        "id": "bXPCa9b_6ABR"
      },
      "execution_count": null,
      "outputs": []
    },
    {
      "cell_type": "code",
      "source": [
        "def recommend(movie):\n",
        "  movie_index = new_df[new_df['title'] == movie].index[0]\n",
        "  distances = similar[movie_index]\n",
        "  movies_list = sorted(list(enumerate(distances)), reverse=True, key=lambda x:x[1])[1:6]\n",
        "\n",
        "  for i in movies_list:\n",
        "    print(new_df.iloc[i[0]].title)\n",
        "  return"
      ],
      "metadata": {
        "id": "kJDsYzTq8kmn"
      },
      "execution_count": null,
      "outputs": []
    },
    {
      "cell_type": "code",
      "source": [
        "recommend('batman')"
      ],
      "metadata": {
        "id": "ueK2o0IN_Ne3"
      },
      "execution_count": null,
      "outputs": []
    },
    {
      "cell_type": "code",
      "source": [
        "import pickle"
      ],
      "metadata": {
        "id": "TgL5VS2jsh63"
      },
      "execution_count": null,
      "outputs": []
    },
    {
      "cell_type": "code",
      "source": [
        "# pickle.dump() use kore data k binary format kore website file a niye jawa jay\n",
        "pickle.dump(new_df, open('movies.pkl', 'wb'))"
      ],
      "metadata": {
        "id": "ogCIsWvesk5_"
      },
      "execution_count": null,
      "outputs": []
    },
    {
      "cell_type": "code",
      "source": [
        "pickle.dump(new_df.to_dict(), open('movies_list_dict', 'wb'))"
      ],
      "metadata": {
        "id": "lEey2UTAwuXo"
      },
      "execution_count": null,
      "outputs": []
    },
    {
      "cell_type": "code",
      "source": [
        "pickle.dump(similar, open('similarity', 'wb'))"
      ],
      "metadata": {
        "id": "_POl5fwdrsYJ"
      },
      "execution_count": null,
      "outputs": []
    }
  ]
}